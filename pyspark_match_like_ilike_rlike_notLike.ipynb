{
  "nbformat": 4,
  "nbformat_minor": 0,
  "metadata": {
    "colab": {
      "name": "pyspark_match_like_ilike_rlike_notLike.ipynb",
      "provenance": [],
      "collapsed_sections": [],
      "authorship_tag": "ABX9TyPK71ka+i11AEQDXylhPRd5",
      "include_colab_link": true
    },
    "kernelspec": {
      "name": "python3",
      "display_name": "Python 3"
    },
    "language_info": {
      "name": "python"
    }
  },
  "cells": [
    {
      "cell_type": "markdown",
      "metadata": {
        "id": "view-in-github",
        "colab_type": "text"
      },
      "source": [
        "<a href=\"https://colab.research.google.com/github/deepavasanthkumar/deepcodesnippets/blob/master/pyspark_match_like_ilike_rlike_notLike.ipynb\" target=\"_parent\"><img src=\"https://colab.research.google.com/assets/colab-badge.svg\" alt=\"Open In Colab\"/></a>"
      ]
    },
    {
      "cell_type": "code",
      "execution_count": 11,
      "metadata": {
        "colab": {
          "base_uri": "https://localhost:8080/"
        },
        "id": "geTaQGeHvvgq",
        "outputId": "c38d6576-8471-4149-ae8d-5ec19b0898b4"
      },
      "outputs": [
        {
          "output_type": "stream",
          "name": "stdout",
          "text": [
            "Looking in indexes: https://pypi.org/simple, https://us-python.pkg.dev/colab-wheels/public/simple/\n",
            "Requirement already satisfied: pyspark in /usr/local/lib/python3.7/dist-packages (3.3.0)\n",
            "Requirement already satisfied: py4j==0.10.9.5 in /usr/local/lib/python3.7/dist-packages (from pyspark) (0.10.9.5)\n"
          ]
        }
      ],
      "source": [
        "!pip install pyspark"
      ]
    },
    {
      "cell_type": "code",
      "source": [
        "import pyspark\n",
        "from pyspark.sql import SparkSession\n",
        "  \n",
        "spark = SparkSession.builder.appName(\"Spark Window Functions \").getOrCreate()\n",
        "spark"
      ],
      "metadata": {
        "colab": {
          "base_uri": "https://localhost:8080/",
          "height": 219
        },
        "id": "3qT6Rf-0v6CT",
        "outputId": "7bc68a02-91e9-4f19-d92b-32879e15dae8"
      },
      "execution_count": 12,
      "outputs": [
        {
          "output_type": "execute_result",
          "data": {
            "text/plain": [
              "<pyspark.sql.session.SparkSession at 0x7f87bf023b10>"
            ],
            "text/html": [
              "\n",
              "            <div>\n",
              "                <p><b>SparkSession - in-memory</b></p>\n",
              "                \n",
              "        <div>\n",
              "            <p><b>SparkContext</b></p>\n",
              "\n",
              "            <p><a href=\"http://f9ef0d6bf32a:4040\">Spark UI</a></p>\n",
              "\n",
              "            <dl>\n",
              "              <dt>Version</dt>\n",
              "                <dd><code>v3.3.0</code></dd>\n",
              "              <dt>Master</dt>\n",
              "                <dd><code>local[*]</code></dd>\n",
              "              <dt>AppName</dt>\n",
              "                <dd><code>Spark Window Functions </code></dd>\n",
              "            </dl>\n",
              "        </div>\n",
              "        \n",
              "            </div>\n",
              "        "
            ]
          },
          "metadata": {},
          "execution_count": 12
        }
      ]
    },
    {
      "cell_type": "code",
      "source": [
        "from pyspark.sql.types import StructType,StructField, StringType, IntegerType\n",
        "data1 = [(\"James\",\"\",\"Smith\",\"36636\",\"M\", 1000, \"Sales\", 2020),\n",
        "    (\"Michael\",\"Rose\",\"\",\"40288\",\"M\", 2000, \"Operations\",2020),\n",
        "    (\"Robert\",\"\",\"Williams\",\"42114\",\"M\", 3000, \"Sales\",2020),\n",
        "    (\"Maria\",\"Anne\",\"Jones\",\"39192\",\"F\", 4000, \"Operations\",2020),\n",
        "  (\"Ria\",\"Anne\",\"Jones\",\"60000\",\"F\", 7000, \"Operations\",2020)\n",
        "  \n",
        "  ]\n",
        " \n",
        "schema1 = StructType([ \\\n",
        "    StructField(\"firstname\",StringType(),True), \\\n",
        "    StructField(\"middlename\",StringType(),True), \\\n",
        "    StructField(\"lastname\",StringType(),True), \\\n",
        "    StructField(\"id\", StringType(), True), \\\n",
        "    StructField(\"gender\", StringType(), True),\n",
        "    StructField(\"annualsalary\", IntegerType(), True),\n",
        "    StructField(\"work\", StringType(), True),\n",
        "    StructField(\"year\", IntegerType(), True),\n",
        "   \n",
        "  ])\n",
        "\n",
        "df1 = spark.createDataFrame(data=data1,schema=schema1)\n",
        "df1.printSchema()\n",
        "df1.show(truncate=False)"
      ],
      "metadata": {
        "colab": {
          "base_uri": "https://localhost:8080/"
        },
        "id": "fdj6wSezwf-x",
        "outputId": "a779f057-0b71-4e41-ee2a-920a0f448c62"
      },
      "execution_count": 13,
      "outputs": [
        {
          "output_type": "stream",
          "name": "stdout",
          "text": [
            "root\n",
            " |-- firstname: string (nullable = true)\n",
            " |-- middlename: string (nullable = true)\n",
            " |-- lastname: string (nullable = true)\n",
            " |-- id: string (nullable = true)\n",
            " |-- gender: string (nullable = true)\n",
            " |-- annualsalary: integer (nullable = true)\n",
            " |-- work: string (nullable = true)\n",
            " |-- year: integer (nullable = true)\n",
            "\n",
            "+---------+----------+--------+-----+------+------------+----------+----+\n",
            "|firstname|middlename|lastname|id   |gender|annualsalary|work      |year|\n",
            "+---------+----------+--------+-----+------+------------+----------+----+\n",
            "|James    |          |Smith   |36636|M     |1000        |Sales     |2020|\n",
            "|Michael  |Rose      |        |40288|M     |2000        |Operations|2020|\n",
            "|Robert   |          |Williams|42114|M     |3000        |Sales     |2020|\n",
            "|Maria    |Anne      |Jones   |39192|F     |4000        |Operations|2020|\n",
            "|Ria      |Anne      |Jones   |60000|F     |7000        |Operations|2020|\n",
            "+---------+----------+--------+-----+------+------------+----------+----+\n",
            "\n"
          ]
        }
      ]
    },
    {
      "cell_type": "markdown",
      "source": [
        "#ILIKE \n",
        "\n",
        "SQL ILIKE expression (case insensitive LIKE). \n",
        "Returns a boolean Column based on a case ***insensitive*** match.\n"
      ],
      "metadata": {
        "id": "lHDayxAa-w_y"
      }
    },
    {
      "cell_type": "code",
      "source": [
        "df1.filter(df1.firstname.ilike('%Ria')).collect()\n"
      ],
      "metadata": {
        "colab": {
          "base_uri": "https://localhost:8080/"
        },
        "id": "sdgJJ-cMwwJk",
        "outputId": "99b2a2d6-751e-4b39-ca92-bf87d1ec6d7a"
      },
      "execution_count": 14,
      "outputs": [
        {
          "output_type": "execute_result",
          "data": {
            "text/plain": [
              "[Row(firstname='Maria', middlename='Anne', lastname='Jones', id='39192', gender='F', annualsalary=4000, work='Operations', year=2020),\n",
              " Row(firstname='Ria', middlename='Anne', lastname='Jones', id='60000', gender='F', annualsalary=7000, work='Operations', year=2020)]"
            ]
          },
          "metadata": {},
          "execution_count": 14
        }
      ]
    },
    {
      "cell_type": "markdown",
      "source": [
        "#RLIKE\n",
        "\n",
        "We can get similar match with **RLIKE**"
      ],
      "metadata": {
        "id": "hlPdO9GZB9kZ"
      }
    },
    {
      "cell_type": "code",
      "source": [
        "\n",
        "df1.filter(df1.firstname.rlike('(?i)Ria$')).collect()"
      ],
      "metadata": {
        "colab": {
          "base_uri": "https://localhost:8080/"
        },
        "id": "Q_0LzNNg9iml",
        "outputId": "cf7b4bb2-c4f3-4f9c-c762-11dd52eda75b"
      },
      "execution_count": 25,
      "outputs": [
        {
          "output_type": "execute_result",
          "data": {
            "text/plain": [
              "[Row(firstname='Maria', middlename='Anne', lastname='Jones', id='39192', gender='F', annualsalary=4000, work='Operations', year=2020),\n",
              " Row(firstname='Ria', middlename='Anne', lastname='Jones', id='60000', gender='F', annualsalary=7000, work='Operations', year=2020)]"
            ]
          },
          "metadata": {},
          "execution_count": 25
        }
      ]
    },
    {
      "cell_type": "markdown",
      "source": [
        "#LIKE\n",
        "\n",
        "Case sensitive match"
      ],
      "metadata": {
        "id": "bwvlEvPvCKQG"
      }
    },
    {
      "cell_type": "code",
      "source": [
        "df1.filter(df1.firstname.like('%Ria')).collect()"
      ],
      "metadata": {
        "colab": {
          "base_uri": "https://localhost:8080/"
        },
        "id": "sWtmz8cVxWG2",
        "outputId": "edda5055-6bbc-4286-9baa-67338f4bda95"
      },
      "execution_count": 16,
      "outputs": [
        {
          "output_type": "execute_result",
          "data": {
            "text/plain": [
              "[Row(firstname='Ria', middlename='Anne', lastname='Jones', id='60000', gender='F', annualsalary=7000, work='Operations', year=2020)]"
            ]
          },
          "metadata": {},
          "execution_count": 16
        }
      ]
    },
    {
      "cell_type": "markdown",
      "source": [
        "##with like as expression"
      ],
      "metadata": {
        "id": "lufZzDn6CRoK"
      }
    },
    {
      "cell_type": "code",
      "source": [
        "df = df1.filter(\"firstname like '%Ria%'\")\n",
        "df.collect()"
      ],
      "metadata": {
        "colab": {
          "base_uri": "https://localhost:8080/"
        },
        "id": "aiUrQbe79iYq",
        "outputId": "05e30be3-c471-4a69-c711-b1ffac48900d"
      },
      "execution_count": 19,
      "outputs": [
        {
          "output_type": "execute_result",
          "data": {
            "text/plain": [
              "[Row(firstname='Ria', middlename='Anne', lastname='Jones', id='60000', gender='F', annualsalary=7000, work='Operations', year=2020)]"
            ]
          },
          "metadata": {},
          "execution_count": 19
        }
      ]
    },
    {
      "cell_type": "markdown",
      "source": [
        "#Not Like \n",
        "\n",
        "There is nothing like notlike function, however negation of Like can be used to achieve this, \n",
        "using the **'~'**operator\n"
      ],
      "metadata": {
        "id": "ku59rdmv74OM"
      }
    },
    {
      "cell_type": "code",
      "source": [
        "df1.filter(~ df1.firstname.like('%Ria')).collect()"
      ],
      "metadata": {
        "colab": {
          "base_uri": "https://localhost:8080/"
        },
        "id": "Ve2xL4Jg73v2",
        "outputId": "702510e7-1512-4768-fbe8-bf90ff14f10c"
      },
      "execution_count": 17,
      "outputs": [
        {
          "output_type": "execute_result",
          "data": {
            "text/plain": [
              "[Row(firstname='James', middlename='', lastname='Smith', id='36636', gender='M', annualsalary=1000, work='Sales', year=2020),\n",
              " Row(firstname='Michael', middlename='Rose', lastname='', id='40288', gender='M', annualsalary=2000, work='Operations', year=2020),\n",
              " Row(firstname='Robert', middlename='', lastname='Williams', id='42114', gender='M', annualsalary=3000, work='Sales', year=2020),\n",
              " Row(firstname='Maria', middlename='Anne', lastname='Jones', id='39192', gender='F', annualsalary=4000, work='Operations', year=2020)]"
            ]
          },
          "metadata": {},
          "execution_count": 17
        }
      ]
    },
    {
      "cell_type": "markdown",
      "source": [
        "##SQL we can use **not like **"
      ],
      "metadata": {
        "id": "1lVgtOIOCsb5"
      }
    },
    {
      "cell_type": "code",
      "source": [
        "df = df1.filter(\"firstname not like '%Ria%'\")\n",
        "df.collect()"
      ],
      "metadata": {
        "colab": {
          "base_uri": "https://localhost:8080/"
        },
        "id": "2BcoYnH18Nd7",
        "outputId": "f5e98176-6a24-402f-ff8d-13fa7af0e66c"
      },
      "execution_count": 18,
      "outputs": [
        {
          "output_type": "execute_result",
          "data": {
            "text/plain": [
              "[Row(firstname='James', middlename='', lastname='Smith', id='36636', gender='M', annualsalary=1000, work='Sales', year=2020),\n",
              " Row(firstname='Michael', middlename='Rose', lastname='', id='40288', gender='M', annualsalary=2000, work='Operations', year=2020),\n",
              " Row(firstname='Robert', middlename='', lastname='Williams', id='42114', gender='M', annualsalary=3000, work='Sales', year=2020),\n",
              " Row(firstname='Maria', middlename='Anne', lastname='Jones', id='39192', gender='F', annualsalary=4000, work='Operations', year=2020)]"
            ]
          },
          "metadata": {},
          "execution_count": 18
        }
      ]
    }
  ]
}