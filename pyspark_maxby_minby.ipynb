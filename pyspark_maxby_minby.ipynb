{
  "nbformat": 4,
  "nbformat_minor": 0,
  "metadata": {
    "colab": {
      "provenance": [],
      "authorship_tag": "ABX9TyO+VxcZrwlCBf6yLxHzFrST",
      "include_colab_link": true
    },
    "kernelspec": {
      "name": "python3",
      "display_name": "Python 3"
    },
    "language_info": {
      "name": "python"
    }
  },
  "cells": [
    {
      "cell_type": "markdown",
      "metadata": {
        "id": "view-in-github",
        "colab_type": "text"
      },
      "source": [
        "<a href=\"https://colab.research.google.com/github/deepavasanthkumar/deepcodesnippets/blob/master/pyspark_maxby_minby.ipynb\" target=\"_parent\"><img src=\"https://colab.research.google.com/assets/colab-badge.svg\" alt=\"Open In Colab\"/></a>"
      ]
    },
    {
      "cell_type": "code",
      "execution_count": 1,
      "metadata": {
        "colab": {
          "base_uri": "https://localhost:8080/"
        },
        "id": "geTaQGeHvvgq",
        "outputId": "926ea15a-1a0d-4709-de60-d2d8c9d7839f"
      },
      "outputs": [
        {
          "output_type": "stream",
          "name": "stdout",
          "text": [
            "Looking in indexes: https://pypi.org/simple, https://us-python.pkg.dev/colab-wheels/public/simple/\n",
            "Collecting pyspark\n",
            "  Downloading pyspark-3.3.1.tar.gz (281.4 MB)\n",
            "\u001b[2K     \u001b[90m━━━━━━━━━━━━━━━━━━━━━━━━━━━━━━━━━━━━━━━\u001b[0m \u001b[32m281.4/281.4 MB\u001b[0m \u001b[31m2.8 MB/s\u001b[0m eta \u001b[36m0:00:00\u001b[0m\n",
            "\u001b[?25h  Preparing metadata (setup.py) ... \u001b[?25l\u001b[?25hdone\n",
            "Collecting py4j==0.10.9.5\n",
            "  Downloading py4j-0.10.9.5-py2.py3-none-any.whl (199 kB)\n",
            "\u001b[2K     \u001b[90m━━━━━━━━━━━━━━━━━━━━━━━━━━━━━━━━━━━━━━\u001b[0m \u001b[32m199.7/199.7 KB\u001b[0m \u001b[31m11.1 MB/s\u001b[0m eta \u001b[36m0:00:00\u001b[0m\n",
            "\u001b[?25hBuilding wheels for collected packages: pyspark\n",
            "  Building wheel for pyspark (setup.py) ... \u001b[?25l\u001b[?25hdone\n",
            "  Created wheel for pyspark: filename=pyspark-3.3.1-py2.py3-none-any.whl size=281845512 sha256=f043ea76cc5a826790061ea056d95ad9cbcd01060eeaeb031a8be7227031dec8\n",
            "  Stored in directory: /root/.cache/pip/wheels/43/dc/11/ec201cd671da62fa9c5cc77078235e40722170ceba231d7598\n",
            "Successfully built pyspark\n",
            "Installing collected packages: py4j, pyspark\n",
            "Successfully installed py4j-0.10.9.5 pyspark-3.3.1\n"
          ]
        }
      ],
      "source": [
        "!pip install pyspark"
      ]
    },
    {
      "cell_type": "code",
      "source": [
        "import pyspark\n",
        "from pyspark.sql import SparkSession\n",
        "  \n",
        "spark = SparkSession.builder.appName(\"Spark Window Functions \").getOrCreate()\n",
        "spark"
      ],
      "metadata": {
        "colab": {
          "base_uri": "https://localhost:8080/",
          "height": 219
        },
        "id": "3qT6Rf-0v6CT",
        "outputId": "5154a9f9-37b1-4b9c-af5f-d75a2c8865df"
      },
      "execution_count": 2,
      "outputs": [
        {
          "output_type": "execute_result",
          "data": {
            "text/plain": [
              "<pyspark.sql.session.SparkSession at 0x7f244a545dc0>"
            ],
            "text/html": [
              "\n",
              "            <div>\n",
              "                <p><b>SparkSession - in-memory</b></p>\n",
              "                \n",
              "        <div>\n",
              "            <p><b>SparkContext</b></p>\n",
              "\n",
              "            <p><a href=\"http://7575f5f67508:4040\">Spark UI</a></p>\n",
              "\n",
              "            <dl>\n",
              "              <dt>Version</dt>\n",
              "                <dd><code>v3.3.1</code></dd>\n",
              "              <dt>Master</dt>\n",
              "                <dd><code>local[*]</code></dd>\n",
              "              <dt>AppName</dt>\n",
              "                <dd><code>Spark Window Functions </code></dd>\n",
              "            </dl>\n",
              "        </div>\n",
              "        \n",
              "            </div>\n",
              "        "
            ]
          },
          "metadata": {},
          "execution_count": 2
        }
      ]
    },
    {
      "cell_type": "code",
      "source": [
        "df = spark.createDataFrame([\n",
        "       (\"Java\", 2012, 20000), (\"dotNET\", 2012, 5000),\n",
        "      (\"dotNET\", 2013, 48000), (\"Java\", 2013, 30000)],\n",
        "     schema=(\"course\", \"year\", \"earnings\"))\n",
        "df.groupby(\"course\").agg(max_by(\"year\", \"earnings\")).show()"
      ],
      "metadata": {
        "id": "ZS7uF4zVAgto"
      },
      "execution_count": null,
      "outputs": []
    },
    {
      "cell_type": "code",
      "source": [
        "from pyspark.sql.types import StructType,StructField, StringType, IntegerType\n",
        "\n",
        "\n",
        "data1 = [(\"James\",\"\",\"Smith\",\"36636\",\"M\", 1000, \"Sales\", 2020),\n",
        "    (\"Michael\",\"Rose\",\"\",\"40288\",\"M\", 2000, \"Operations\",2020),\n",
        "    (\"Robert\",\"\",\"Williams\",\"42114\",\"M\", 3000, \"Sales\",2020),\n",
        "    (\"Maria\",\"Anne\",\"Jones\",\"39192\",\"F\", 4000, \"Operations\",2020),\n",
        "  (\"Ria\",\"Anne\",\"Jones\",\"60000\",\"F\", 7000, \"Operations\",2020)\n",
        "  \n",
        "  ]\n",
        " \n",
        "schema1 = StructType([ \\\n",
        "    StructField(\"firstname\",StringType(),True), \\\n",
        "    StructField(\"middlename\",StringType(),True), \\\n",
        "    StructField(\"lastname\",StringType(),True), \\\n",
        "    StructField(\"id\", StringType(), True), \\\n",
        "    StructField(\"gender\", StringType(), True),\n",
        "    StructField(\"annualsalary\", IntegerType(), True),\n",
        "    StructField(\"work\", StringType(), True),\n",
        "    StructField(\"year\", IntegerType(), True),\n",
        "   \n",
        "  ])\n",
        "\n",
        "df1 = spark.createDataFrame(data=data1,schema=schema1)\n",
        "\n",
        "df1.show(truncate=False)\n"
      ],
      "metadata": {
        "colab": {
          "base_uri": "https://localhost:8080/"
        },
        "id": "fdj6wSezwf-x",
        "outputId": "b8aa420a-0bcc-4cf2-b36a-5dad05e48513"
      },
      "execution_count": 6,
      "outputs": [
        {
          "output_type": "stream",
          "name": "stdout",
          "text": [
            "+---------+----------+--------+-----+------+------------+----------+----+\n",
            "|firstname|middlename|lastname|id   |gender|annualsalary|work      |year|\n",
            "+---------+----------+--------+-----+------+------------+----------+----+\n",
            "|James    |          |Smith   |36636|M     |1000        |Sales     |2020|\n",
            "|Michael  |Rose      |        |40288|M     |2000        |Operations|2020|\n",
            "|Robert   |          |Williams|42114|M     |3000        |Sales     |2020|\n",
            "|Maria    |Anne      |Jones   |39192|F     |4000        |Operations|2020|\n",
            "|Ria      |Anne      |Jones   |60000|F     |7000        |Operations|2020|\n",
            "+---------+----------+--------+-----+------+------------+----------+----+\n",
            "\n"
          ]
        }
      ]
    },
    {
      "cell_type": "markdown",
      "source": [
        "#max_by \n",
        "\n",
        "SQL max_by expression \n",
        "max_by(col: \"ColumnOrName\", ord: \"ColumnOrName\") -> Column:\n",
        "Returns the value associated with the maximum value of ord.\n"
      ],
      "metadata": {
        "id": "lHDayxAa-w_y"
      }
    },
    {
      "cell_type": "code",
      "source": [
        "df1.show(truncate=False)"
      ],
      "metadata": {
        "colab": {
          "base_uri": "https://localhost:8080/"
        },
        "id": "RPieW5ePUlSX",
        "outputId": "ddf10040-254a-449d-fa90-2bf3c6824cb1"
      },
      "execution_count": 19,
      "outputs": [
        {
          "output_type": "stream",
          "name": "stdout",
          "text": [
            "+---------+----------+--------+-----+------+------------+----------+----+\n",
            "|firstname|middlename|lastname|id   |gender|annualsalary|work      |year|\n",
            "+---------+----------+--------+-----+------+------------+----------+----+\n",
            "|James    |          |Smith   |36636|M     |1000        |Sales     |2020|\n",
            "|Michael  |Rose      |        |40288|M     |2000        |Operations|2020|\n",
            "|Robert   |          |Williams|42114|M     |3000        |Sales     |2020|\n",
            "|Maria    |Anne      |Jones   |39192|F     |4000        |Operations|2020|\n",
            "|Ria      |Anne      |Jones   |60000|F     |7000        |Operations|2020|\n",
            "+---------+----------+--------+-----+------+------------+----------+----+\n",
            "\n"
          ]
        }
      ]
    },
    {
      "cell_type": "code",
      "source": [
        "from pyspark.sql.functions import  max_by, min_by\n"
      ],
      "metadata": {
        "id": "Bs9y_uhBBSkI"
      },
      "execution_count": 9,
      "outputs": []
    },
    {
      "cell_type": "code",
      "source": [
        "df1.groupby(\"work\").agg(max_by(\"annualsalary\", \"year\")).show()"
      ],
      "metadata": {
        "colab": {
          "base_uri": "https://localhost:8080/"
        },
        "id": "bJGsW7Z0CkLv",
        "outputId": "810c3e72-1156-433f-b133-f8abace4d12e"
      },
      "execution_count": 7,
      "outputs": [
        {
          "output_type": "stream",
          "name": "stdout",
          "text": [
            "+----------+--------------------------+\n",
            "|      work|max_by(annualsalary, year)|\n",
            "+----------+--------------------------+\n",
            "|     Sales|                      3000|\n",
            "|Operations|                      7000|\n",
            "+----------+--------------------------+\n",
            "\n"
          ]
        }
      ]
    },
    {
      "cell_type": "code",
      "source": [
        "df1.groupby(\"work\").agg(min_by(\"annualsalary\", \"year\")).show()"
      ],
      "metadata": {
        "colab": {
          "base_uri": "https://localhost:8080/"
        },
        "id": "2uIvx1YnGBdr",
        "outputId": "f89ccf14-f1f1-40de-b14b-06641a130890"
      },
      "execution_count": 20,
      "outputs": [
        {
          "output_type": "stream",
          "name": "stdout",
          "text": [
            "+----------+--------------------------+\n",
            "|      work|min_by(annualsalary, year)|\n",
            "+----------+--------------------------+\n",
            "|     Sales|                      3000|\n",
            "|Operations|                      7000|\n",
            "+----------+--------------------------+\n",
            "\n"
          ]
        }
      ]
    },
    {
      "cell_type": "markdown",
      "source": [
        "#min_by\n",
        " min_by(col: \"ColumnOrName\", ord: \"ColumnOrName\") -> Column:\n",
        "  Returns the value associated with the **minimum** value of ord."
      ],
      "metadata": {
        "id": "YgQckHkXDVgP"
      }
    },
    {
      "cell_type": "code",
      "source": [
        "df1.groupby(\"work\").agg(min_by(\"annualsalary\", \"year\")).show()"
      ],
      "metadata": {
        "colab": {
          "base_uri": "https://localhost:8080/"
        },
        "id": "gEv59FhfDlYU",
        "outputId": "67e76b10-55ab-4427-f513-0352cdc0db45"
      },
      "execution_count": 13,
      "outputs": [
        {
          "output_type": "stream",
          "name": "stdout",
          "text": [
            "+----------+--------------------------+\n",
            "|      work|min_by(annualsalary, year)|\n",
            "+----------+--------------------------+\n",
            "|     Sales|                      3000|\n",
            "|Operations|                      7000|\n",
            "+----------+--------------------------+\n",
            "\n"
          ]
        }
      ]
    },
    {
      "cell_type": "code",
      "source": [
        "df1.groupby(\"work\").agg(min_by(\"annualsalary\", \"year\")).show()"
      ],
      "metadata": {
        "colab": {
          "base_uri": "https://localhost:8080/"
        },
        "id": "a2PYvVwKEWK0",
        "outputId": "ec542de1-717e-4c42-d337-8e51af09143c"
      },
      "execution_count": 16,
      "outputs": [
        {
          "output_type": "stream",
          "name": "stdout",
          "text": [
            "+----------+--------------------------+\n",
            "|      work|min_by(annualsalary, year)|\n",
            "+----------+--------------------------+\n",
            "|     Sales|                      3000|\n",
            "|Operations|                      7000|\n",
            "+----------+--------------------------+\n",
            "\n"
          ]
        }
      ]
    }
  ]
}