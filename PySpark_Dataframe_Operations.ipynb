{
  "nbformat": 4,
  "nbformat_minor": 0,
  "metadata": {
    "colab": {
      "name": "PySpark Dataframe Operations.ipynb",
      "provenance": [],
      "collapsed_sections": [],
      "authorship_tag": "ABX9TyPHABpGzkDHG7p85DD28OqE",
      "include_colab_link": true
    },
    "kernelspec": {
      "name": "python3",
      "display_name": "Python 3"
    },
    "language_info": {
      "name": "python"
    }
  },
  "cells": [
    {
      "cell_type": "markdown",
      "metadata": {
        "id": "view-in-github",
        "colab_type": "text"
      },
      "source": [
        "<a href=\"https://colab.research.google.com/github/deepavasanthkumar/deepcodesnippets/blob/master/PySpark_Dataframe_Operations.ipynb\" target=\"_parent\"><img src=\"https://colab.research.google.com/assets/colab-badge.svg\" alt=\"Open In Colab\"/></a>"
      ]
    },
    {
      "cell_type": "markdown",
      "source": [
        "# This Colab demos the Basic Apache Spark Dataframe functions. \n",
        "Functions Covered are \n",
        "\n",
        "\n",
        "*   Filter\n",
        "*   GroupBy\n",
        "*   OrderBy\n",
        "*   Aggregations - Maximum, Average\n",
        "*   Window Function - GroupBy + Filter\n",
        "\n",
        "\n",
        "Please feel free to add any other \n",
        "\n",
        " *~Deepa Vasanthkumar*\n"
      ],
      "metadata": {
        "id": "dGWRbjWI4JMh"
      }
    },
    {
      "cell_type": "markdown",
      "source": [
        "PySpark - Pip. \n",
        "Now we are ready to use **pyspark**"
      ],
      "metadata": {
        "id": "9WZPlbo05Xmw"
      }
    },
    {
      "cell_type": "code",
      "execution_count": null,
      "metadata": {
        "colab": {
          "base_uri": "https://localhost:8080/"
        },
        "id": "feu_CgOKCf9O",
        "outputId": "42df6094-ae00-47cc-a99a-ebc0443d2594"
      },
      "outputs": [
        {
          "output_type": "stream",
          "name": "stdout",
          "text": [
            "Collecting pyspark\n",
            "  Downloading pyspark-3.2.0.tar.gz (281.3 MB)\n",
            "\u001b[K     |████████████████████████████████| 281.3 MB 34 kB/s \n",
            "\u001b[?25hCollecting py4j==0.10.9.2\n",
            "  Downloading py4j-0.10.9.2-py2.py3-none-any.whl (198 kB)\n",
            "\u001b[K     |████████████████████████████████| 198 kB 50.2 MB/s \n",
            "\u001b[?25hBuilding wheels for collected packages: pyspark\n",
            "  Building wheel for pyspark (setup.py) ... \u001b[?25l\u001b[?25hdone\n",
            "  Created wheel for pyspark: filename=pyspark-3.2.0-py2.py3-none-any.whl size=281805912 sha256=d1f49ad5e8a0ca99214aee2794d3b5cc75a189112fec5b24dc0b98a5b56f04c9\n",
            "  Stored in directory: /root/.cache/pip/wheels/0b/de/d2/9be5d59d7331c6c2a7c1b6d1a4f463ce107332b1ecd4e80718\n",
            "Successfully built pyspark\n",
            "Installing collected packages: py4j, pyspark\n",
            "Successfully installed py4j-0.10.9.2 pyspark-3.2.0\n"
          ]
        }
      ],
      "source": [
        "!pip install pyspark"
      ]
    },
    {
      "cell_type": "markdown",
      "source": [
        "#This example is driven by the dataset available in the location\n",
        "\n",
        "#This can be edited to any CSV file\n",
        "\n",
        "Download film.csv from https://perso.telecom-paristech.fr/eagan/class/igr204/datasets\n",
        "\n",
        "\n",
        "\n",
        "Upload the same, after running the below snippet"
      ],
      "metadata": {
        "id": "tMho4OYLDFF8"
      }
    },
    {
      "cell_type": "code",
      "source": [
        "from google.colab import files\n",
        "uploaded = files.upload()"
      ],
      "metadata": {
        "colab": {
          "resources": {
            "http://localhost:8080/nbextensions/google.colab/files.js": {
              "data": "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",
              "ok": true,
              "headers": [
                [
                  "content-type",
                  "application/javascript"
                ]
              ],
              "status": 200,
              "status_text": ""
            }
          },
          "base_uri": "https://localhost:8080/",
          "height": 73
        },
        "id": "AVXbbezrFO-z",
        "outputId": "b338b557-4331-4ce9-c2ef-8a2ae1d77af2"
      },
      "execution_count": null,
      "outputs": [
        {
          "output_type": "display_data",
          "data": {
            "text/html": [
              "\n",
              "     <input type=\"file\" id=\"files-a5bf27a0-f56c-4af3-8335-3ed5db2d16df\" name=\"files[]\" multiple disabled\n",
              "        style=\"border:none\" />\n",
              "     <output id=\"result-a5bf27a0-f56c-4af3-8335-3ed5db2d16df\">\n",
              "      Upload widget is only available when the cell has been executed in the\n",
              "      current browser session. Please rerun this cell to enable.\n",
              "      </output>\n",
              "      <script src=\"/nbextensions/google.colab/files.js\"></script> "
            ],
            "text/plain": [
              "<IPython.core.display.HTML object>"
            ]
          },
          "metadata": {}
        },
        {
          "output_type": "stream",
          "name": "stdout",
          "text": [
            "Saving film.csv to film.csv\n"
          ]
        }
      ]
    },
    {
      "cell_type": "code",
      "source": [
        "import pyspark"
      ],
      "metadata": {
        "id": "v84Ek5C4FDxe"
      },
      "execution_count": null,
      "outputs": []
    },
    {
      "cell_type": "markdown",
      "source": [
        "# Create **Spark** Session to be used throughout"
      ],
      "metadata": {
        "id": "BNjVyaCX6FPv"
      }
    },
    {
      "cell_type": "code",
      "source": [
        "from pyspark.sql import SparkSession\n",
        "  \n",
        "spark = SparkSession.builder.appName(\"DataFrame\").getOrCreate()"
      ],
      "metadata": {
        "id": "WLDxvNplFsHw"
      },
      "execution_count": null,
      "outputs": []
    },
    {
      "cell_type": "markdown",
      "source": [
        "\n",
        "# Using Spark session, we can create dataframe with csv option. \n",
        "\n",
        "Read the film.csv into a dataframe.\n",
        "We need to inferHeader (Header is present in csv)\n",
        "inferSchema and use Seperator = ; as file is Semi-colon seperated value.\n",
        "\n",
        "There are multiple other options available with csv, we can use it if required, else can use the default options."
      ],
      "metadata": {
        "id": "NmBfcoujJLR9"
      }
    },
    {
      "cell_type": "code",
      "source": [
        "df = spark.read.csv('film.csv', inferSchema=True, header=True, sep = \";\")\n",
        "\n",
        "df.printSchema()"
      ],
      "metadata": {
        "colab": {
          "base_uri": "https://localhost:8080/"
        },
        "id": "TS-yjO69FikU",
        "outputId": "1b4f6279-108b-4377-9752-d57f625f476c"
      },
      "execution_count": null,
      "outputs": [
        {
          "output_type": "stream",
          "name": "stdout",
          "text": [
            "root\n",
            " |-- Year: integer (nullable = true)\n",
            " |-- Length: integer (nullable = true)\n",
            " |-- Title: string (nullable = true)\n",
            " |-- Subject: string (nullable = true)\n",
            " |-- Actor: string (nullable = true)\n",
            " |-- Actress: string (nullable = true)\n",
            " |-- Director: string (nullable = true)\n",
            " |-- Popularity: integer (nullable = true)\n",
            " |-- Awards: string (nullable = true)\n",
            " |-- *Image: string (nullable = true)\n",
            "\n"
          ]
        }
      ]
    },
    {
      "cell_type": "markdown",
      "source": [
        "#Showing the data"
      ],
      "metadata": {
        "id": "Mu7TNhmF6lSg"
      }
    },
    {
      "cell_type": "code",
      "source": [
        "\n",
        "df.show()"
      ],
      "metadata": {
        "colab": {
          "base_uri": "https://localhost:8080/"
        },
        "id": "hKQ12ChXL_wk",
        "outputId": "82ca7c57-e5e3-4eac-c7da-eac4f8dfb49b"
      },
      "execution_count": null,
      "outputs": [
        {
          "output_type": "stream",
          "name": "stdout",
          "text": [
            "+----+------+--------------------+-------+--------------------+-------------------+--------------------+----------+------+-------------------+\n",
            "|Year|Length|               Title|Subject|               Actor|            Actress|            Director|Popularity|Awards|             *Image|\n",
            "+----+------+--------------------+-------+--------------------+-------------------+--------------------+----------+------+-------------------+\n",
            "|1990|   111|Tie Me Up! Tie Me...| Comedy|   Banderas, Antonio|    Abril, Victoria|    Almod�var, Pedro|        68|    No|   NicholasCage.png|\n",
            "|1991|   113|          High Heels| Comedy|        Bos�, Miguel|    Abril, Victoria|    Almod�var, Pedro|        68|    No|   NicholasCage.png|\n",
            "|1983|   104|      Dead Zone, The| Horror| Walken, Christopher|      Adams, Brooke|   Cronenberg, David|        79|    No|   NicholasCage.png|\n",
            "|1979|   122|                Cuba| Action|       Connery, Sean|      Adams, Brooke|     Lester, Richard|         6|    No|    seanConnery.png|\n",
            "|1978|    94|      Days of Heaven|  Drama|       Gere, Richard|      Adams, Brooke|    Malick, Terrence|        14|    No|   NicholasCage.png|\n",
            "|1983|   140|           Octopussy| Action|        Moore, Roger|        Adams, Maud|          Glen, John|        68|    No|   NicholasCage.png|\n",
            "|1984|   101|        Target Eagle| Action|      Connors, Chuck|        Adams, Maud|Loma, Jos� Antoni...|        14|    No|   NicholasCage.png|\n",
            "|1989|    99|American Angels: ...|  Drama|   Bergen, Robert D.|       Adams, Trudy|  Sebastian, Beverly|        28|    No|   NicholasCage.png|\n",
            "|1985|   104|              Subway|  Drama|Lambert, Christopher|   Adjani, Isabelle|         Besson, Luc|         6|    No|   NicholasCage.png|\n",
            "|1990|   149|     Camille Claudel|  Drama|   Depardieu, G�rard|   Adjani, Isabelle|      Nuytten, Bruno|        32|    No|   NicholasCage.png|\n",
            "|1982|   188| Fanny and Alexander|  Drama|     Ahlstedt, B�rje|Adolphson, Kristina|     Bergman, Ingmar|        81|   Yes|        Bergman.png|\n",
            "|1982|   117|Tragedy of a Ridi...|  Drama|       Tognazzi, Ugo|       Aimee, Anouk|Bertolucci, Bernardo|        17|    No|   NicholasCage.png|\n",
            "|1966|   103|     A Man & a Woman|  Drama|Trintignant, Jean...|       Aimee, Anouk|     Lelouch, Claude|        46|   Yes|   NicholasCage.png|\n",
            "|1986|   112|A Man & a Woman: ...|  Drama|Trintignant, Jean...|       Aimee, Anouk|     Lelouch, Claude|        49|    No|   NicholasCage.png|\n",
            "|1966|   103|Un Hombre y una M...|  Drama|Trintignant, Jean...|       Aimee, Anouk|     Lelouch, Claude|         6|   Yes|   NicholasCage.png|\n",
            "|1985|   112| Official Story, The|  Drama|     Alterio, Hector|    Aleandro, Norma|        Puenzo, Luiz|        39|   Yes|   NicholasCage.png|\n",
            "|1976|   150|Lindbergh Kidnapp...|  Drama|    Hopkins, Anthony|  Alexander, Denise|         Kulik, Buzz|        51|    No| AnthonyHopkins.png|\n",
            "|1929|    84|           Blackmail|Mystery|       Longden, John|       Algood, Sara|   Hitchcock, Alfred|         2|    No|alfredHitchcock.png|\n",
            "|1963|   109|      Donovan's Reef| Comedy|         Wayne, John|   Allen, Elizabeth|          Ford, John|        62|    No|      johnWayne.png|\n",
            "|1988|   110|Tucker: The Man &...|  Drama|       Bridges, Jeff|        Allen, Joan|Coppola, Francis ...|        68|    No|   NicholasCage.png|\n",
            "+----+------+--------------------+-------+--------------------+-------------------+--------------------+----------+------+-------------------+\n",
            "only showing top 20 rows\n",
            "\n"
          ]
        }
      ]
    },
    {
      "cell_type": "markdown",
      "source": [
        "#Describe the data"
      ],
      "metadata": {
        "id": "JQ35w6HJ6oYv"
      }
    },
    {
      "cell_type": "code",
      "source": [
        "df.describe().show()"
      ],
      "metadata": {
        "colab": {
          "base_uri": "https://localhost:8080/"
        },
        "id": "9iAAtnVCMKOW",
        "outputId": "77e33b45-368e-4e5e-f6d3-9ce31a669895"
      },
      "execution_count": null,
      "outputs": [
        {
          "output_type": "stream",
          "name": "stdout",
          "text": [
            "+-------+------------------+------------------+--------------------+--------+----------------+---------------+-------------+------------------+------+------------------+\n",
            "|summary|              Year|            Length|               Title| Subject|           Actor|        Actress|     Director|        Popularity|Awards|            *Image|\n",
            "+-------+------------------+------------------+--------------------+--------+----------------+---------------+-------------+------------------+------+------------------+\n",
            "|  count|              1659|              1592|                1659|    1657|            1651|           1281|         1406|              1653|  1659|              1659|\n",
            "|   mean|1975.8028933092223|105.17964824120602|                null|    null|            null|           null|         null| 43.11010284331518|  null|              null|\n",
            "| stddev|17.057847829213554|30.629500868382884|                null|    null|            null|           null|         null|26.747405582164888|  null|              null|\n",
            "|    min|              1920|                 5|2001: A Space Ody...|  Action|    Abel, Alfred|Abril, Victoria|Abrahams, Jim|                 0|    No|AnthonyHopkins.png|\n",
            "|    max|              1997|               450|              Zardoz|Westerns|Zushi, Yoshitaka|Zetterling, Mai|Zwick, Edward|                88|   Yes|         woody.png|\n",
            "+-------+------------------+------------------+--------------------+--------+----------------+---------------+-------------+------------------+------+------------------+\n",
            "\n"
          ]
        }
      ]
    },
    {
      "cell_type": "markdown",
      "source": [
        "#Filtering the Dataframe based on the **Year** column"
      ],
      "metadata": {
        "id": "sI8CLHtR6slo"
      }
    },
    {
      "cell_type": "code",
      "source": [
        "from pyspark.sql.functions import col\n",
        "df.filter(col(\"Year\") == '1920').show()"
      ],
      "metadata": {
        "colab": {
          "base_uri": "https://localhost:8080/"
        },
        "id": "-HOjGNpMMnym",
        "outputId": "3594610f-ea18-4b6d-967b-348513456901"
      },
      "execution_count": null,
      "outputs": [
        {
          "output_type": "stream",
          "name": "stdout",
          "text": [
            "+----+------+-------+-------+-------------+-------+-----------+----------+------+----------------+\n",
            "|Year|Length|  Title|Subject|        Actor|Actress|   Director|Popularity|Awards|          *Image|\n",
            "+----+------+-------+-------+-------------+-------+-----------+----------+------+----------------+\n",
            "|1920|   137|Spiders|  Drama|De Vogy, Carl|   null|Lang, Fritz|        29|    No|NicholasCage.png|\n",
            "+----+------+-------+-------+-------------+-------+-----------+----------+------+----------------+\n",
            "\n"
          ]
        }
      ]
    },
    {
      "cell_type": "markdown",
      "source": [
        "#**PySpark Filter with Multiple Conditions**"
      ],
      "metadata": {
        "id": "rWZpnbQ_Ottr"
      }
    },
    {
      "cell_type": "code",
      "source": [
        "df.filter((col(\"Subject\") == 'Drama') & (col(\"Awards\") == 'Yes') ).show()"
      ],
      "metadata": {
        "colab": {
          "base_uri": "https://localhost:8080/"
        },
        "id": "Ze59igK8O1Mt",
        "outputId": "a12f05e8-49ce-4a5f-e2e0-ea84ac3d61b8"
      },
      "execution_count": null,
      "outputs": [
        {
          "output_type": "stream",
          "name": "stdout",
          "text": [
            "+----+------+--------------------+-------+--------------------+-------------------+--------------------+----------+------+------------------+\n",
            "|Year|Length|               Title|Subject|               Actor|            Actress|            Director|Popularity|Awards|            *Image|\n",
            "+----+------+--------------------+-------+--------------------+-------------------+--------------------+----------+------+------------------+\n",
            "|1982|   188| Fanny and Alexander|  Drama|     Ahlstedt, B�rje|Adolphson, Kristina|     Bergman, Ingmar|        81|   Yes|       Bergman.png|\n",
            "|1966|   103|     A Man & a Woman|  Drama|Trintignant, Jean...|       Aimee, Anouk|     Lelouch, Claude|        46|   Yes|  NicholasCage.png|\n",
            "|1966|   103|Un Hombre y una M...|  Drama|Trintignant, Jean...|       Aimee, Anouk|     Lelouch, Claude|         6|   Yes|  NicholasCage.png|\n",
            "|1985|   112| Official Story, The|  Drama|     Alterio, Hector|    Aleandro, Norma|        Puenzo, Luiz|        39|   Yes|  NicholasCage.png|\n",
            "|1957|    91|   Wild Strawberries|  Drama|    Sj�str�m, Victor|    Andersson, Bibi|     Bergman, Ingmar|        42|   Yes|       Bergman.png|\n",
            "|1962|    91|Through a Glass D...|  Drama| Bj�rnstrand, Gunnar| Andersson, Harriet|     Bergman, Ingmar|        64|   Yes|       Bergman.png|\n",
            "|1972|    91|    Cries & Whispers|  Drama|   Josephson, Erland| Andersson, Harriet|     Bergman, Ingmar|        18|   Yes|       Bergman.png|\n",
            "|1987|   102|     Babette's Feast|  Drama|LaFont, Jean-Phil...|   Audran, St�phane|       Axel, Gabriel|        79|   Yes|  NicholasCage.png|\n",
            "|1980|   124|   Elephant Man, The|  Drama|    Hopkins, Anthony|     Bancroft, Anne|        Lynch, David|         3|   Yes|AnthonyHopkins.png|\n",
            "|1982|   188|              Gandhi|  Drama|       Kingsley, Ben|    Bergen, Candice|Attenborough, Ric...|         7|   Yes|  NicholasCage.png|\n",
            "|1978|    97|       Autumn Sonata|  Drama|       Bj�rk, Halvar|    Bergman, Ingrid|     Bergman, Ingmar|        49|   Yes| ingridBergman.png|\n",
            "|1944|   114|            Gaslight|  Drama|      Boyer, Charles|    Bergman, Ingrid|       Cukor, George|        25|   Yes| ingridBergman.png|\n",
            "|1982|   195|A Woman Called Golda|  Drama|         Beatty, Ned|    Bergman, Ingrid|        Gibson, Alan|        15|   Yes| ingridBergman.png|\n",
            "|1956|   106|           Anastasia|  Drama|      Tamiroff, Akim|    Bergman, Ingrid|     Litvak, Anatole|        24|   Yes| ingridBergman.png|\n",
            "|1984|   158|             Amadeus|  Drama|  Abraham, F. Murray|Berridge, Elizabeth|       Forman, Milos|         6|   Yes|  NicholasCage.png|\n",
            "|1988|   172|Unbearable Lightn...|  Drama|   Day-Lewis, Daniel|  Binoche, Juliette|     Kaufman, Philip|         5|   Yes|  NicholasCage.png|\n",
            "|1970|   137|             Airport|  Drama|     Lancaster, Burt| Bisset, Jacqueline|      Seaton, George|         0|   Yes| burtLancaster.png|\n",
            "|1973|   116|       Day for Night|  Drama| Aumont, Jean-Pierre| Bisset, Jacqueline|  Truffaut, Fran�ois|        10|   Yes|  NicholasCage.png|\n",
            "|1968|   103|              Charly|  Drama|    Robertson, Cliff|      Bloom, Claire|       Nelson, Ralph|        38|   Yes|  NicholasCage.png|\n",
            "|1985|   119|Kiss of the Spide...|  Drama|       Hurt, William|       Braga, Sonia|     Babenco, Hector|        10|   Yes|  NicholasCage.png|\n",
            "+----+------+--------------------+-------+--------------------+-------------------+--------------------+----------+------+------------------+\n",
            "only showing top 20 rows\n",
            "\n"
          ]
        }
      ]
    },
    {
      "cell_type": "code",
      "source": [
        ""
      ],
      "metadata": {
        "id": "9xKnAodsPme2"
      },
      "execution_count": null,
      "outputs": []
    },
    {
      "cell_type": "markdown",
      "source": [
        "# Filter with  **IsIn** containing a list of genre"
      ],
      "metadata": {
        "id": "hm99qDL733xN"
      }
    },
    {
      "cell_type": "code",
      "source": [
        "\n",
        "#Filter IS IN List values\n",
        "genreLi=[\"Drama\",\"Comedy\"]\n",
        "df.filter(col(\"Subject\").isin(genreLi)).show()\n",
        "\n",
        "\n"
      ],
      "metadata": {
        "colab": {
          "base_uri": "https://localhost:8080/"
        },
        "id": "5RwyKdu3PcTX",
        "outputId": "d8f0d88a-db34-44f1-fa78-d01ad0312e5b"
      },
      "execution_count": null,
      "outputs": [
        {
          "output_type": "stream",
          "name": "stdout",
          "text": [
            "+----+------+--------------------+-------+--------------------+--------------------+--------------------+----------+------+------------------+\n",
            "|Year|Length|               Title|Subject|               Actor|             Actress|            Director|Popularity|Awards|            *Image|\n",
            "+----+------+--------------------+-------+--------------------+--------------------+--------------------+----------+------+------------------+\n",
            "|1990|   111|Tie Me Up! Tie Me...| Comedy|   Banderas, Antonio|     Abril, Victoria|    Almod�var, Pedro|        68|    No|  NicholasCage.png|\n",
            "|1991|   113|          High Heels| Comedy|        Bos�, Miguel|     Abril, Victoria|    Almod�var, Pedro|        68|    No|  NicholasCage.png|\n",
            "|1978|    94|      Days of Heaven|  Drama|       Gere, Richard|       Adams, Brooke|    Malick, Terrence|        14|    No|  NicholasCage.png|\n",
            "|1989|    99|American Angels: ...|  Drama|   Bergen, Robert D.|        Adams, Trudy|  Sebastian, Beverly|        28|    No|  NicholasCage.png|\n",
            "|1985|   104|              Subway|  Drama|Lambert, Christopher|    Adjani, Isabelle|         Besson, Luc|         6|    No|  NicholasCage.png|\n",
            "|1990|   149|     Camille Claudel|  Drama|   Depardieu, G�rard|    Adjani, Isabelle|      Nuytten, Bruno|        32|    No|  NicholasCage.png|\n",
            "|1982|   188| Fanny and Alexander|  Drama|     Ahlstedt, B�rje| Adolphson, Kristina|     Bergman, Ingmar|        81|   Yes|       Bergman.png|\n",
            "|1982|   117|Tragedy of a Ridi...|  Drama|       Tognazzi, Ugo|        Aimee, Anouk|Bertolucci, Bernardo|        17|    No|  NicholasCage.png|\n",
            "|1966|   103|     A Man & a Woman|  Drama|Trintignant, Jean...|        Aimee, Anouk|     Lelouch, Claude|        46|   Yes|  NicholasCage.png|\n",
            "|1986|   112|A Man & a Woman: ...|  Drama|Trintignant, Jean...|        Aimee, Anouk|     Lelouch, Claude|        49|    No|  NicholasCage.png|\n",
            "|1966|   103|Un Hombre y una M...|  Drama|Trintignant, Jean...|        Aimee, Anouk|     Lelouch, Claude|         6|   Yes|  NicholasCage.png|\n",
            "|1985|   112| Official Story, The|  Drama|     Alterio, Hector|     Aleandro, Norma|        Puenzo, Luiz|        39|   Yes|  NicholasCage.png|\n",
            "|1976|   150|Lindbergh Kidnapp...|  Drama|    Hopkins, Anthony|   Alexander, Denise|         Kulik, Buzz|        51|    No|AnthonyHopkins.png|\n",
            "|1963|   109|      Donovan's Reef| Comedy|         Wayne, John|    Allen, Elizabeth|          Ford, John|        62|    No|     johnWayne.png|\n",
            "|1988|   110|Tucker: The Man &...|  Drama|       Bridges, Jeff|         Allen, Joan|Coppola, Francis ...|        68|    No|  NicholasCage.png|\n",
            "|1988|   101|            Scrooged| Comedy|        Murray, Bill|        Allen, Karen|     Donner, Richard|        15|    No|  NicholasCage.png|\n",
            "|1988|   127|              Colors|  Drama|          Penn, Sean|Alonso, Maria Con...|      Hopper, Dennis|        23|    No|  NicholasCage.png|\n",
            "|1990|    97|            Zandalee|  Drama|       Cage, Nicolas|     Anderson, Erika|      Pillsbury, Sam|        80|    No|  NicholasCage.png|\n",
            "|1988|   108|     Miles from Home|  Drama|     Anderson, Kevin|        Anderson, Jo|        Sinise, Gary|        53|    No|  NicholasCage.png|\n",
            "|1979|   110|             Quintet|  Drama|        Newman, Paul|     Andersson, Bibi|      Altman, Robert|        19|    No|    paulNewman.png|\n",
            "+----+------+--------------------+-------+--------------------+--------------------+--------------------+----------+------+------------------+\n",
            "only showing top 20 rows\n",
            "\n"
          ]
        }
      ]
    },
    {
      "cell_type": "markdown",
      "source": [
        "# Filter with **negation** of **IsIn**"
      ],
      "metadata": {
        "id": "fPKWYSkQ3tBH"
      }
    },
    {
      "cell_type": "code",
      "source": [
        "\n",
        "genreLi=[\"Drama\",\"Comedy\"]\n",
        "df.filter(~col(\"Subject\").isin(genreLi)).show()"
      ],
      "metadata": {
        "colab": {
          "base_uri": "https://localhost:8080/"
        },
        "id": "il3yOrxZQJOP",
        "outputId": "66fdb094-c91c-4f3a-ce8a-d3198a370a09"
      },
      "execution_count": null,
      "outputs": [
        {
          "output_type": "stream",
          "name": "stdout",
          "text": [
            "+----+------+--------------------+---------------+--------------------+--------------------+--------------------+----------+------+-------------------+\n",
            "|Year|Length|               Title|        Subject|               Actor|             Actress|            Director|Popularity|Awards|             *Image|\n",
            "+----+------+--------------------+---------------+--------------------+--------------------+--------------------+----------+------+-------------------+\n",
            "|1983|   104|      Dead Zone, The|         Horror| Walken, Christopher|       Adams, Brooke|   Cronenberg, David|        79|    No|   NicholasCage.png|\n",
            "|1979|   122|                Cuba|         Action|       Connery, Sean|       Adams, Brooke|     Lester, Richard|         6|    No|    seanConnery.png|\n",
            "|1983|   140|           Octopussy|         Action|        Moore, Roger|         Adams, Maud|          Glen, John|        68|    No|   NicholasCage.png|\n",
            "|1984|   101|        Target Eagle|         Action|      Connors, Chuck|         Adams, Maud|Loma, Jos� Antoni...|        14|    No|   NicholasCage.png|\n",
            "|1929|    84|           Blackmail|        Mystery|       Longden, John|        Algood, Sara|   Hitchcock, Alfred|         2|    No|alfredHitchcock.png|\n",
            "|1981|   116|Raiders of the Lo...|         Action|      Ford, Harrison|        Allen, Karen|   Spielberg, Steven|         8|    No|   NicholasCage.png|\n",
            "|1987|   101|    Running Man, The|Science Fiction|Schwarzenegger, A...|Alonso, Maria Con...|Glaser, Paul Michael|        31|    No|   NicholasCage.png|\n",
            "|1991|   105|          Predator 2|         Action|       Glover, Danny|Alonso, Maria Con...|    Hopkins, Stephen|        79|    No|   NicholasCage.png|\n",
            "|1980|  null|Happy Birthday to Me|         Horror|         Ford, Glenn|Anderson, Melissa...|    Thompson, J. Lee|        88|    No|      glennFord.png|\n",
            "|1989|    88|        Final Notice|        Mystery|         Gerard, Gil|    Anderson, Melody|Stern, Steven Hil...|        88|    No|   NicholasCage.png|\n",
            "|1958|   104|Barbarian & the G...|         Action|         Wayne, John|          Ando, Eiko|        Huston, John|        52|    No|      johnWayne.png|\n",
            "|1962|  null|              Dr. No|         Action|       Connery, Sean|     Andress, Ursula|      Young, Terence|         7|    No|    seanConnery.png|\n",
            "|1966|   125|        Torn Curtain|        Mystery|        Newman, Paul|      Andrews, Julie|   Hitchcock, Alfred|        35|    No|     paulNewman.png|\n",
            "|1965|   172| Sound of Music, The|          Music|Plummer, Christopher|      Andrews, Julie|        Wise, Robert|        59|   Yes|   NicholasCage.png|\n",
            "|1978|   106|               Magic|        Mystery|    Hopkins, Anthony|         Ann-Margret|Attenborough, Ric...|        85|    No| AnthonyHopkins.png|\n",
            "|1992|   286|               Tommy|          Music|       Daltry, Roger|         Ann-Margret|        Russell, Ken|         5|    No|   NicholasCage.png|\n",
            "|1978|   108|        Big Fix, The|        Mystery|   Dreyfuss, Richard|      Anspach, Susan|  Kagan, Jeremy Paul|        19|    No|   NicholasCage.png|\n",
            "|1987|   120|    Fatal Attraction|        Mystery|    Douglas, Michael|        Archer, Anne|        Lyne, Adrian|        61|    No|   NicholasCage.png|\n",
            "|1992|   117|       Patriot Games|         Action|      Ford, Harrison|        Archer, Anne|      Noyce, Phillip|        28|    No|   NicholasCage.png|\n",
            "|1992|    97|             Hunting|        Mystery|        Savage, John|    Armstrong, Kerry|       Howson, Frank|        68|    No|   NicholasCage.png|\n",
            "+----+------+--------------------+---------------+--------------------+--------------------+--------------------+----------+------+-------------------+\n",
            "only showing top 20 rows\n",
            "\n"
          ]
        }
      ]
    },
    {
      "cell_type": "markdown",
      "source": [
        "# Filtering with **contains** "
      ],
      "metadata": {
        "id": "wQnPRnNQ3ms-"
      }
    },
    {
      "cell_type": "markdown",
      "source": [
        ""
      ],
      "metadata": {
        "id": "Ka2EGRGO3luk"
      }
    },
    {
      "cell_type": "code",
      "source": [
        "\n",
        "df.filter(col(\"Actress\").contains(\"Adams\")).show()"
      ],
      "metadata": {
        "colab": {
          "base_uri": "https://localhost:8080/"
        },
        "id": "DnZ--8AGQhgw",
        "outputId": "db85d5b2-69cc-4fac-fa50-ed96ff46eaae"
      },
      "execution_count": null,
      "outputs": [
        {
          "output_type": "stream",
          "name": "stdout",
          "text": [
            "+----+------+--------------------+-------+-------------------+-------------+--------------------+----------+------+----------------+\n",
            "|Year|Length|               Title|Subject|              Actor|      Actress|            Director|Popularity|Awards|          *Image|\n",
            "+----+------+--------------------+-------+-------------------+-------------+--------------------+----------+------+----------------+\n",
            "|1983|   104|      Dead Zone, The| Horror|Walken, Christopher|Adams, Brooke|   Cronenberg, David|        79|    No|NicholasCage.png|\n",
            "|1979|   122|                Cuba| Action|      Connery, Sean|Adams, Brooke|     Lester, Richard|         6|    No| seanConnery.png|\n",
            "|1978|    94|      Days of Heaven|  Drama|      Gere, Richard|Adams, Brooke|    Malick, Terrence|        14|    No|NicholasCage.png|\n",
            "|1983|   140|           Octopussy| Action|       Moore, Roger|  Adams, Maud|          Glen, John|        68|    No|NicholasCage.png|\n",
            "|1984|   101|        Target Eagle| Action|     Connors, Chuck|  Adams, Maud|Loma, Jos� Antoni...|        14|    No|NicholasCage.png|\n",
            "|1989|    99|American Angels: ...|  Drama|  Bergen, Robert D.| Adams, Trudy|  Sebastian, Beverly|        28|    No|NicholasCage.png|\n",
            "+----+------+--------------------+-------+-------------------+-------------+--------------------+----------+------+----------------+\n",
            "\n"
          ]
        }
      ]
    },
    {
      "cell_type": "markdown",
      "source": [
        "# SQL **Like** Pattern. "
      ],
      "metadata": {
        "id": "mAs9uX6u3faH"
      }
    },
    {
      "cell_type": "code",
      "source": [
        "# like - SQL LIKE pattern\n",
        "df.filter(col(\"Title\").like(\"%Days%\")).show()\n",
        "\n",
        "\n"
      ],
      "metadata": {
        "colab": {
          "base_uri": "https://localhost:8080/"
        },
        "id": "SS8n5wkSRJ9I",
        "outputId": "94109f13-8535-4483-8927-fd0680208ae9"
      },
      "execution_count": null,
      "outputs": [
        {
          "output_type": "stream",
          "name": "stdout",
          "text": [
            "+----+------+--------------------+-------+---------------+--------------+----------------+----------+------+----------------+\n",
            "|Year|Length|               Title|Subject|          Actor|       Actress|        Director|Popularity|Awards|          *Image|\n",
            "+----+------+--------------------+-------+---------------+--------------+----------------+----------+------+----------------+\n",
            "|1978|    94|      Days of Heaven|  Drama|  Gere, Richard| Adams, Brooke|Malick, Terrence|        14|    No|NicholasCage.png|\n",
            "|1975|   117|Three Days of the...|  Drama|Redford, Robert| Dunaway, Faye| Pollack, Sydney|        87|    No|NicholasCage.png|\n",
            "|1990|   107|     Days of Thunder| Action|    Cruise, Tom|Kidman, Nicole|     Scott, Tony|         3|    No|NicholasCage.png|\n",
            "|1989|  null|Death Valley Days...|Western|    Caan, James|          null|            null|         9|    No|NicholasCage.png|\n",
            "|1989|  null|Death Valley Days...|Western| Reagan, Ronald|          null|            null|         1|    No|NicholasCage.png|\n",
            "+----+------+--------------------+-------+---------------+--------------+----------------+----------+------+----------------+\n",
            "\n"
          ]
        }
      ]
    },
    {
      "cell_type": "markdown",
      "source": [
        "# rlike - SQL RLIKE pattern \n",
        "#This check case **insensitive**"
      ],
      "metadata": {
        "id": "uw-Qjk0-3YqO"
      }
    },
    {
      "cell_type": "code",
      "source": [
        "\n",
        "df.filter(col(\"Title\").rlike(\"(?i)^*day*\")).show()"
      ],
      "metadata": {
        "colab": {
          "base_uri": "https://localhost:8080/"
        },
        "id": "rfFEWqf3STpq",
        "outputId": "27a4e6d9-f39d-4b1a-8186-bfadb8ca98fa"
      },
      "execution_count": null,
      "outputs": [
        {
          "output_type": "stream",
          "name": "stdout",
          "text": [
            "+----+------+--------------------+-------+-------------------+--------------------+------------------+----------+------+--------------------+\n",
            "|Year|Length|               Title|Subject|              Actor|             Actress|          Director|Popularity|Awards|              *Image|\n",
            "+----+------+--------------------+-------+-------------------+--------------------+------------------+----------+------+--------------------+\n",
            "|1978|    94|      Days of Heaven|  Drama|      Gere, Richard|       Adams, Brooke|  Malick, Terrence|        14|    No|    NicholasCage.png|\n",
            "|1991|   105|          Predator 2| Action|      Glover, Danny|Alonso, Maria Con...|  Hopkins, Stephen|        79|    No|    NicholasCage.png|\n",
            "|1990|    97|            Zandalee|  Drama|      Cage, Nicolas|     Anderson, Erika|    Pillsbury, Sam|        80|    No|    NicholasCage.png|\n",
            "|1980|  null|Happy Birthday to Me| Horror|        Ford, Glenn|Anderson, Melissa...|  Thompson, J. Lee|        88|    No|       glennFord.png|\n",
            "|1962|    91|Through a Glass D...|  Drama|Bj�rnstrand, Gunnar|  Andersson, Harriet|   Bergman, Ingmar|        64|   Yes|         Bergman.png|\n",
            "|1959|    90|Voulez-Vous Danse...| Comedy|       Vidal, Henri|    Bardot, Brigitte|  Boisrond, Michel|        16|    No|  brigitteBardot.png|\n",
            "|1987|    95|          Blind Date| Comedy|      Willis, Bruce|       Basinger, Kim|    Edwards, Blake|         7|    No|    NicholasCage.png|\n",
            "|1988|    76|Daffy Duck's Quac...| Action|         Blanc, Mel|      Bennett, Julie|        Ford, Greg|        68|    No|    NicholasCage.png|\n",
            "|1982|   195|A Woman Called Golda|  Drama|        Beatty, Ned|     Bergman, Ingrid|      Gibson, Alan|        15|   Yes|   ingridBergman.png|\n",
            "|1973|   116|       Day for Night|  Drama|Aumont, Jean-Pierre|  Bisset, Jacqueline|Truffaut, Fran�ois|        10|   Yes|    NicholasCage.png|\n",
            "|1974|   144|Day of the Locust...|  Drama| Sutherland, Donald|        Black, Karen| Schlesinger, John|        81|    No|    NicholasCage.png|\n",
            "|1989|   114|         School Daze| Comedy|   Fishburne, Larry|     Campbell, Tisha|        Lee, Spike|        18|    No|    NicholasCage.png|\n",
            "|1989|    90|    Never on Tuesday|  Drama|      Lauer, Andrew|  Christian, Claudia|      Rifkin, Adam|        77|    No|    NicholasCage.png|\n",
            "|1965|   122|             Darling|  Drama|   Harvey, Laurence|     Christie, Julie| Schlesinger, John|        44|   Yes|    NicholasCage.png|\n",
            "|1988|   119|  Dangerous Liaisons|  Drama|    Malkovich, John|        Close, Glenn|   Frears, Stephen|        77|    No|MichellePfeiffer.png|\n",
            "|1991|    96|Hearts of Darknes...|  Drama|       Bottoms, Sam|    Coppola, Eleanor|         Bahr, Fax|        72|    No|    NicholasCage.png|\n",
            "|1962|   110|    Sundays & Cybele|  Drama|      Kruger, Hardy|     Courcel, Nicole|Bourguignon, Serge|        11|   Yes|    NicholasCage.png|\n",
            "|1988|   108| A Fish Called Wanda| Comedy|       Cleese, John|   Curtis, Jamie Lee| Crichton, Charles|         7|   Yes|    NicholasCage.png|\n",
            "|1946|    97|My Darling Clemen...|Western|       Fonda, Henry|        Downs, Cathy|        Ford, John|        12|    No|        johnFord.png|\n",
            "|1975|   117|Three Days of the...|  Drama|    Redford, Robert|       Dunaway, Faye|   Pollack, Sydney|        87|    No|    NicholasCage.png|\n",
            "+----+------+--------------------+-------+-------------------+--------------------+------------------+----------+------+--------------------+\n",
            "only showing top 20 rows\n",
            "\n"
          ]
        }
      ]
    },
    {
      "cell_type": "markdown",
      "source": [
        "#**OrderBy**"
      ],
      "metadata": {
        "id": "F_vV3U2_3Ssn"
      }
    },
    {
      "cell_type": "code",
      "source": [
        "df.orderBy(col(\"Year\")).show()"
      ],
      "metadata": {
        "colab": {
          "base_uri": "https://localhost:8080/"
        },
        "id": "lLvyeDTGTPJr",
        "outputId": "dc6797a5-87bb-488f-dcab-918878a2593a"
      },
      "execution_count": null,
      "outputs": [
        {
          "output_type": "stream",
          "name": "stdout",
          "text": [
            "+----+------+--------------------+---------------+--------------------+----------------+--------------------+----------+------+-------------------+\n",
            "|Year|Length|               Title|        Subject|               Actor|         Actress|            Director|Popularity|Awards|             *Image|\n",
            "+----+------+--------------------+---------------+--------------------+----------------+--------------------+----------+------+-------------------+\n",
            "|1920|   137|             Spiders|          Drama|       De Vogy, Carl|            null|         Lang, Fritz|        29|    No|   NicholasCage.png|\n",
            "|1923|    57|        Desert Rider|        Western|         Hoxie, Jack|  Nelson, Evelyn| Bradbury, Robert N.|      null|    No|   NicholasCage.png|\n",
            "|1924|   110|Siegfried, The Ni...|          Drama|       Richter, Paul| Arnold, Gertrud|         Lang, Fritz|        79|    No|   NicholasCage.png|\n",
            "|1924|    95|Kriemhild's Reven...|          Drama|       Loos, Theodor|Sch�n, Margarete|         Lang, Fritz|        74|    No|   NicholasCage.png|\n",
            "|1924|   123|Gosta Berling's Saga|          Drama|        Hanson, Lars|            null|    Stiller, Mauritz|        63|    No|   NicholasCage.png|\n",
            "|1925|   125|      Joyless Street|          Drama|       Stuart, Henry|    Garbo, Greta|Pabst, Georg Wilhelm|        73|    No|     gretaGarbo.png|\n",
            "|1926|   126|            Don Juan|         Action|     Barrymore, John|     Astor, Mary|      Crosland, Alan|        55|    No|   NicholasCage.png|\n",
            "|1926|   139|          Metropolis|Science Fiction|        Abel, Alfred|            null|         Lang, Fritz|        49|    No|   NicholasCage.png|\n",
            "|1926|   109|Flesh & the Devil...|          Drama|       Gilbert, John|    Garbo, Greta|     Brown, Clarence|        72|    No|     gretaGarbo.png|\n",
            "|1926|    66|Lodger (Story of ...|        Mystery|     Chesney, Arthur|     Ault, Marie|   Hitchcock, Alfred|        76|    No|alfredHitchcock.png|\n",
            "|1927|    78|        My Best Girl|          Drama|     Rogers, Charles|  Pickford, Mary|         Taylor, Sam|        31|    No|   NicholasCage.png|\n",
            "|1927|    60|         Easy Virtue|        Mystery|     Dyall, Franklin|   Jeans, Isabel|   Hitchcock, Alfred|        45|    No|alfredHitchcock.png|\n",
            "|1927|    62|      Drop Kick, The|          Drama|Barthelmess, Richard|   Kent, Barbara|       Webb, Millard|      null|    No|   NicholasCage.png|\n",
            "|1928|    90|    Woman of Affairs|          Drama|       Gilbert, John|    Garbo, Greta|     Brown, Clarence|        83|    No|     gretaGarbo.png|\n",
            "|1928|    96|Mysterious Lady, The|          Drama|       Nagel, Conrad|    Garbo, Greta|         Niblo, Fred|        72|    No|     gretaGarbo.png|\n",
            "|1928|   148|             Tempest|          Drama|     Barrymore, John|   Horn, Camilla|         Taylor, Sam|        33|    No|   NicholasCage.png|\n",
            "|1928|   139|               Wings|            War|       Rogers, Buddy|      Bow, Clara|    Wellman, William|        44|   Yes|   NicholasCage.png|\n",
            "|1928|   130|               Spies|          Drama| Klein-Rogge, Rudolf|            null|         Lang, Fritz|        49|    No|   NicholasCage.png|\n",
            "|1929|    84|           Blackmail|        Mystery|       Longden, John|    Algood, Sara|   Hitchcock, Alfred|         2|    No|alfredHitchcock.png|\n",
            "|1929|   100|        Wild Orchids|          Drama|        Stone, Lewis|    Garbo, Greta|    Franklin, Sidney|        70|    No|     gretaGarbo.png|\n",
            "+----+------+--------------------+---------------+--------------------+----------------+--------------------+----------+------+-------------------+\n",
            "only showing top 20 rows\n",
            "\n"
          ]
        }
      ]
    },
    {
      "cell_type": "code",
      "source": [
        "df.orderBy(col(\"Year\").desc()).show()"
      ],
      "metadata": {
        "colab": {
          "base_uri": "https://localhost:8080/"
        },
        "id": "hoSU2EIGTbwL",
        "outputId": "fea5a0d6-fd18-44ab-c5c3-7e25c78a0a15"
      },
      "execution_count": null,
      "outputs": [
        {
          "output_type": "stream",
          "name": "stdout",
          "text": [
            "+----+------+--------------------+---------------+--------------------+--------------------+-------------------+----------+------+-------------------+\n",
            "|Year|Length|               Title|        Subject|               Actor|             Actress|           Director|Popularity|Awards|             *Image|\n",
            "+----+------+--------------------+---------------+--------------------+--------------------+-------------------+----------+------+-------------------+\n",
            "|1997|   109| Alien: resurrection|Science Fiction|        Perlman, Ron|   Weaver, Sigourney|Jeunet, Jean-Pierre|        60|    No|         weaver.png|\n",
            "|1996|    96|Island of Dr. Mor...|         Horror|      Thewlis, David|       Balk, Fairuza|Frankenheimer, John|        39|    No|   NicholasCage.png|\n",
            "|1993|    65|John Cleese on Ho...|         Comedy|        Cleese, John|       Booth, Connie|               null|        62|    No|   NicholasCage.png|\n",
            "|1993|    60|Bill Cosby, Live ...|         Comedy|         Cosby, Bill|     Boosler, Elayne|               null|        13|    No|   NicholasCage.png|\n",
            "|1993|    92|    Naked Truth, The|         Comedy|      Sellers, Peter|      Eaton, Shirley|               null|        34|    No|   NicholasCage.png|\n",
            "|1993|    95|  Honeymoon in Vegas|         Comedy|         Caan, James|Parker, Sarah Jes...|    Bergman, Andrew|        53|    No|   NicholasCage.png|\n",
            "|1993|    30|Alfred Hitchcock ...|        Mystery|   Hitchcock, Alfred|         Dors, Diana|               null|        60|    No|   NicholasCage.png|\n",
            "|1993|  null|   Mr. & Mrs. Bridge|          Drama|        Newman, Paul|    Woodward, Joanne|               null|        29|    No|     paulNewman.png|\n",
            "|1993|    53|      Big Bands, The|          Music|         Beneke, Tex|         Elgart, Les|               null|        48|    No|   NicholasCage.png|\n",
            "|1993|    90|                Duel|        Mystery|      Weaver, Dennis|                null|  Spielberg, Steven|        48|    No|   NicholasCage.png|\n",
            "|1993|   104|It Started with a...|          Drama|         Ford, Glenn|    Reynolds, Debbie|               null|        80|    No|      glennFord.png|\n",
            "|1993|   103|     Romantic Comedy|         Comedy|       Moore, Dudley|   Steenburgen, Mary|               null|         8|    No|   NicholasCage.png|\n",
            "|1993|    76|   Return Engagement|          Drama|     Bottoms, Joseph|   Taylor, Elizabeth|               null|        26|    No|elizabethTaylor.png|\n",
            "|1993|    75| Employee's Entrance|          Drama|     William, Warren|      Young, Loretta|               null|         0|    No|   NicholasCage.png|\n",
            "|1993|  null|       Ginger & Fred|         Comedy|Mastroianni, Marc...|                null|  Fellini, Federico|        29|    No|   NicholasCage.png|\n",
            "|1993|  null|       Hot Line, The|         Comedy|      Boyer, Charles|                null|    Perier, Etienne|        70|    No|   NicholasCage.png|\n",
            "|1993|   108|        Offence, The|        Mystery|       Connery, Sean|                null|               null|         6|    No|    seanConnery.png|\n",
            "|1993|    88|   Great White Death|         Action|         Ford, Glenn|                null|               null|        26|    No|      glennFord.png|\n",
            "|1993|   102|Today We Kill.......|        Western|    Ford, Montgomery|                null|               null|        25|    No|   NicholasCage.png|\n",
            "|1993|  null|  Runaway Barge, The|         Action|       Matheson, Tim|                null|               null|        38|    No|   NicholasCage.png|\n",
            "+----+------+--------------------+---------------+--------------------+--------------------+-------------------+----------+------+-------------------+\n",
            "only showing top 20 rows\n",
            "\n"
          ]
        }
      ]
    },
    {
      "cell_type": "markdown",
      "source": [
        "#**Groupby** "
      ],
      "metadata": {
        "id": "yNx30THn3NuP"
      }
    },
    {
      "cell_type": "code",
      "source": [
        "df.groupBy(col(\"Awards\")).count().show()"
      ],
      "metadata": {
        "colab": {
          "base_uri": "https://localhost:8080/"
        },
        "id": "la50DAd3UlBx",
        "outputId": "33606940-50aa-4832-dd0a-c9a63e1a5d59"
      },
      "execution_count": null,
      "outputs": [
        {
          "output_type": "stream",
          "name": "stdout",
          "text": [
            "+------+-----+\n",
            "|Awards|count|\n",
            "+------+-----+\n",
            "|    No| 1496|\n",
            "|   Yes|  163|\n",
            "+------+-----+\n",
            "\n"
          ]
        }
      ]
    },
    {
      "cell_type": "markdown",
      "source": [
        "**GroupBy** and count "
      ],
      "metadata": {
        "id": "mSrivGBj3EtQ"
      }
    },
    {
      "cell_type": "code",
      "source": [
        "df.groupBy(col(\"Year\")).count().show()"
      ],
      "metadata": {
        "colab": {
          "base_uri": "https://localhost:8080/"
        },
        "id": "6C7Yx6niVpvA",
        "outputId": "a0d8ccc0-e28c-4408-e2be-8b2eaa34a620"
      },
      "execution_count": null,
      "outputs": [
        {
          "output_type": "stream",
          "name": "stdout",
          "text": [
            "+----+-----+\n",
            "|Year|count|\n",
            "+----+-----+\n",
            "|1959|    9|\n",
            "|1990|  105|\n",
            "|1975|   23|\n",
            "|1977|   29|\n",
            "|1924|    3|\n",
            "|1974|   23|\n",
            "|1927|    3|\n",
            "|1955|   20|\n",
            "|1978|   18|\n",
            "|1925|    1|\n",
            "|1961|   14|\n",
            "|1942|    6|\n",
            "|1944|    4|\n",
            "|1939|   11|\n",
            "|1952|   10|\n",
            "|1956|   15|\n",
            "|1934|    4|\n",
            "|1988|   96|\n",
            "|1997|    1|\n",
            "|1968|   20|\n",
            "+----+-----+\n",
            "only showing top 20 rows\n",
            "\n"
          ]
        }
      ]
    },
    {
      "cell_type": "markdown",
      "source": [
        "#Using Groupby with OrderBy \n",
        "**GroupBy** and **Orderby** "
      ],
      "metadata": {
        "id": "aCAMXRWS2-16"
      }
    },
    {
      "cell_type": "code",
      "source": [
        "df.groupBy(col(\"Year\")).count().orderBy(col(\"count\").desc()).show()"
      ],
      "metadata": {
        "colab": {
          "base_uri": "https://localhost:8080/"
        },
        "id": "tzjn3mRuWNyA",
        "outputId": "ec563aa7-5040-4dae-e90c-bbaa8a9f5b60"
      },
      "execution_count": null,
      "outputs": [
        {
          "output_type": "stream",
          "name": "stdout",
          "text": [
            "+----+-----+\n",
            "|Year|count|\n",
            "+----+-----+\n",
            "|1991|  129|\n",
            "|1990|  105|\n",
            "|1987|  102|\n",
            "|1989|  101|\n",
            "|1988|   96|\n",
            "|1986|   95|\n",
            "|1992|   88|\n",
            "|1985|   42|\n",
            "|1983|   40|\n",
            "|1984|   38|\n",
            "|1982|   37|\n",
            "|1979|   33|\n",
            "|1980|   30|\n",
            "|1977|   29|\n",
            "|1970|   28|\n",
            "|1973|   26|\n",
            "|1981|   26|\n",
            "|1972|   24|\n",
            "|1975|   23|\n",
            "|1974|   23|\n",
            "+----+-----+\n",
            "only showing top 20 rows\n",
            "\n"
          ]
        }
      ]
    },
    {
      "cell_type": "code",
      "source": [
        "from pyspark.sql.functions import countDistinct, avg, stddev, max"
      ],
      "metadata": {
        "id": "vH6MYBV2XCt-"
      },
      "execution_count": 33,
      "outputs": []
    },
    {
      "cell_type": "markdown",
      "source": [
        "#Aggregate Functions"
      ],
      "metadata": {
        "id": "HX7xvEaU7J1Y"
      }
    },
    {
      "cell_type": "markdown",
      "source": [
        "**Average** for a column"
      ],
      "metadata": {
        "id": "Hv-dbTRs25ih"
      }
    },
    {
      "cell_type": "code",
      "source": [
        " df.select(avg('Popularity')).show()"
      ],
      "metadata": {
        "id": "HkALEG5EXEsa",
        "colab": {
          "base_uri": "https://localhost:8080/",
          "height": 0
        },
        "outputId": "3db8d753-7c3e-4e1d-e2ee-2ebcf874a044"
      },
      "execution_count": 32,
      "outputs": [
        {
          "output_type": "stream",
          "name": "stdout",
          "text": [
            "+-----------------+\n",
            "|  avg(Popularity)|\n",
            "+-----------------+\n",
            "|43.11010284331518|\n",
            "+-----------------+\n",
            "\n"
          ]
        }
      ]
    },
    {
      "cell_type": "markdown",
      "source": [
        "**Maximum** for a column"
      ],
      "metadata": {
        "id": "MH-yELkt2OzA"
      }
    },
    {
      "cell_type": "code",
      "source": [
        "df.select(max('Popularity')).show()"
      ],
      "metadata": {
        "colab": {
          "base_uri": "https://localhost:8080/",
          "height": 0
        },
        "id": "006ZejLuw9gX",
        "outputId": "8c0f2719-f1d7-48fb-b4e8-d7527b5495d9"
      },
      "execution_count": 34,
      "outputs": [
        {
          "output_type": "stream",
          "name": "stdout",
          "text": [
            "+---------------+\n",
            "|max(Popularity)|\n",
            "+---------------+\n",
            "|             88|\n",
            "+---------------+\n",
            "\n"
          ]
        }
      ]
    },
    {
      "cell_type": "markdown",
      "source": [
        "#Window Functions"
      ],
      "metadata": {
        "id": "-vUvvBcO7Sji"
      }
    },
    {
      "cell_type": "markdown",
      "source": [
        "Find records based on maximum popularity for each year. \n",
        "For this we create a window **partition** based on year, and then apply **over** method\n"
      ],
      "metadata": {
        "id": "bWt2-i021qwt"
      }
    },
    {
      "cell_type": "code",
      "source": [
        "from pyspark.sql import Window\n",
        "w = Window.partitionBy('Year')\n",
        "df.withColumn('maxB', max('Popularity').over(w)).where(col('Popularity') == col('maxB')).drop('maxB').show()"
      ],
      "metadata": {
        "colab": {
          "base_uri": "https://localhost:8080/",
          "height": 0
        },
        "id": "-7PIqoBxzxsP",
        "outputId": "299a16bb-1def-4631-8b47-5da96eb5e4b7"
      },
      "execution_count": 40,
      "outputs": [
        {
          "output_type": "stream",
          "name": "stdout",
          "text": [
            "+----+------+--------------------+-------+------------------+----------------+--------------------+----------+------+-------------------+\n",
            "|Year|Length|               Title|Subject|             Actor|         Actress|            Director|Popularity|Awards|             *Image|\n",
            "+----+------+--------------------+-------+------------------+----------------+--------------------+----------+------+-------------------+\n",
            "|1920|   137|             Spiders|  Drama|     De Vogy, Carl|            null|         Lang, Fritz|        29|    No|   NicholasCage.png|\n",
            "|1924|   110|Siegfried, The Ni...|  Drama|     Richter, Paul| Arnold, Gertrud|         Lang, Fritz|        79|    No|   NicholasCage.png|\n",
            "|1925|   125|      Joyless Street|  Drama|     Stuart, Henry|    Garbo, Greta|Pabst, Georg Wilhelm|        73|    No|     gretaGarbo.png|\n",
            "|1926|    66|Lodger (Story of ...|Mystery|   Chesney, Arthur|     Ault, Marie|   Hitchcock, Alfred|        76|    No|alfredHitchcock.png|\n",
            "|1927|    60|         Easy Virtue|Mystery|   Dyall, Franklin|   Jeans, Isabel|   Hitchcock, Alfred|        45|    No|alfredHitchcock.png|\n",
            "|1928|    90|    Woman of Affairs|  Drama|     Gilbert, John|    Garbo, Greta|     Brown, Clarence|        83|    No|     gretaGarbo.png|\n",
            "|1929|    74|Single Standard, The|  Drama|      Asther, Nils|    Garbo, Greta|  Robertson, John S.|        73|    No|     gretaGarbo.png|\n",
            "|1930|    76|             Romance|  Drama|      Stone, Lewis|    Garbo, Greta|                null|        62|    No|     gretaGarbo.png|\n",
            "|1931|    95|          Arrowsmith|  Drama|    Colman, Ronald|    Hayes, Helen|          Ford, John|        84|    No|       johnFord.png|\n",
            "|1932|    71|    As You Desire Me|  Drama|   Douglas, Melvyn|    Garbo, Greta|                null|        85|    No|     gretaGarbo.png|\n",
            "|1933|    97|     Queen Christina|  Drama|     Gilbert, John|    Garbo, Greta|   Mamoulian, Rouben|        82|    No|     gretaGarbo.png|\n",
            "|1934|    85|   Painted Veil, The|  Drama| Marshall, Herbert|    Garbo, Greta|Boleslawski, Richard|        57|    No|     gretaGarbo.png|\n",
            "|1935|    90|        Swedenhielms|  Drama| Westergren, H�kan| Bergman, Ingrid|    Molander, Gustaf|        88|    No|  ingridBergman.png|\n",
            "|1936|    89|        Libeled Lady| Comedy|   Powell, William|    Harlow, Jean|        Conway, Jack|        86|    No|   NicholasCage.png|\n",
            "|1937|    61|   Swing It, Sailor!| Comedy|     Ford, Wallace|            null|     Cannon, Raymond|        83|    No|   NicholasCage.png|\n",
            "|1938|    55|Overland Stage Ra...|Western|       Wayne, John|            null|     Sherman, George|        83|    No|      johnWayne.png|\n",
            "|1939|    85| Back Door to Heaven|  Drama|     Ford, Wallace| MacMahon, Aline|  Howard, William K.|        83|    No|   NicholasCage.png|\n",
            "|1940|   105|Long Voyage Home,...|  Drama|       Wayne, John|Natwick, Mildred|          Ford, John|        88|    No|      johnWayne.png|\n",
            "|1941|    57|Bury Me Not on th...|Western|Brown, Johnny Mack|     O'Day, Nell|         Taylor, Ray|        85|    No|   NicholasCage.png|\n",
            "|1941|    56|    Man from Montana|Western|Brown, Johnny Mack|     O'Day, Nell|         Taylor, Ray|        85|    No|   NicholasCage.png|\n",
            "+----+------+--------------------+-------+------------------+----------------+--------------------+----------+------+-------------------+\n",
            "only showing top 20 rows\n",
            "\n"
          ]
        }
      ]
    }
  ]
}