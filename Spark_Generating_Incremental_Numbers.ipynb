{
  "nbformat": 4,
  "nbformat_minor": 0,
  "metadata": {
    "colab": {
      "name": "Spark_Generating_Incremental_Numbers.ipynb",
      "provenance": [],
      "authorship_tag": "ABX9TyO3qtAOjIWWkdO+cbuoS9+N",
      "include_colab_link": true
    },
    "kernelspec": {
      "name": "python3",
      "display_name": "Python 3"
    },
    "language_info": {
      "name": "python"
    }
  },
  "cells": [
    {
      "cell_type": "markdown",
      "metadata": {
        "id": "view-in-github",
        "colab_type": "text"
      },
      "source": [
        "<a href=\"https://colab.research.google.com/github/deepavasanthkumar/deepcodesnippets/blob/master/Spark_Generating_Incremental_Numbers.ipynb\" target=\"_parent\"><img src=\"https://colab.research.google.com/assets/colab-badge.svg\" alt=\"Open In Colab\"/></a>"
      ]
    },
    {
      "cell_type": "code",
      "execution_count": 10,
      "metadata": {
        "colab": {
          "base_uri": "https://localhost:8080/"
        },
        "id": "sLnDLDn2XPNw",
        "outputId": "374cd3cf-c79d-4a05-f04b-728db938d295"
      },
      "outputs": [
        {
          "output_type": "stream",
          "name": "stdout",
          "text": [
            "Looking in indexes: https://pypi.org/simple, https://us-python.pkg.dev/colab-wheels/public/simple/\n",
            "Requirement already satisfied: pyspark in /usr/local/lib/python3.7/dist-packages (3.3.0)\n",
            "Requirement already satisfied: py4j==0.10.9.5 in /usr/local/lib/python3.7/dist-packages (from pyspark) (0.10.9.5)\n"
          ]
        }
      ],
      "source": [
        "!pip install pyspark"
      ]
    },
    {
      "cell_type": "code",
      "source": [
        "import pyspark\n",
        "from pyspark.sql import SparkSession\n",
        "  \n",
        "spark = SparkSession.builder.appName(\"Spark Window Functions \").getOrCreate()\n",
        "spark"
      ],
      "metadata": {
        "colab": {
          "base_uri": "https://localhost:8080/",
          "height": 219
        },
        "id": "nBo0R_BlXxgH",
        "outputId": "33d9d4cb-6a1e-43f3-cd14-8bbf061b0718"
      },
      "execution_count": 11,
      "outputs": [
        {
          "output_type": "execute_result",
          "data": {
            "text/plain": [
              "<pyspark.sql.session.SparkSession at 0x7fd7ef410350>"
            ],
            "text/html": [
              "\n",
              "            <div>\n",
              "                <p><b>SparkSession - in-memory</b></p>\n",
              "                \n",
              "        <div>\n",
              "            <p><b>SparkContext</b></p>\n",
              "\n",
              "            <p><a href=\"http://0584a90279dc:4040\">Spark UI</a></p>\n",
              "\n",
              "            <dl>\n",
              "              <dt>Version</dt>\n",
              "                <dd><code>v3.3.0</code></dd>\n",
              "              <dt>Master</dt>\n",
              "                <dd><code>local[*]</code></dd>\n",
              "              <dt>AppName</dt>\n",
              "                <dd><code>Spark Window Functions </code></dd>\n",
              "            </dl>\n",
              "        </div>\n",
              "        \n",
              "            </div>\n",
              "        "
            ]
          },
          "metadata": {},
          "execution_count": 11
        }
      ]
    },
    {
      "cell_type": "code",
      "source": [
        "from pyspark.sql.types import StructType,StructField, StringType, IntegerType\n",
        "data1 = [(\"James\",\"\",\"Smith\",\"36636\",\"M\", 1000, \"Sales\", 2020),\n",
        "    (\"Michael\",\"Rose\",\"\",\"40288\",\"M\", 2000, \"Operations\",2020),\n",
        "    (\"Robert\",\"\",\"Williams\",\"42114\",\"M\", 3000, \"Sales\",2020),\n",
        "    (\"Maria\",\"Anne\",\"Jones\",\"39192\",\"F\", 4000, \"Operations\",2020),\n",
        "  (\"Ria\",\"Anne\",\"Jones\",\"60000\",\"F\", 7000, \"Operations\",2020)\n",
        "  \n",
        "  ]\n",
        " \n",
        "schema1 = StructType([ \\\n",
        "    StructField(\"firstname\",StringType(),True), \\\n",
        "    StructField(\"middlename\",StringType(),True), \\\n",
        "    StructField(\"lastname\",StringType(),True), \\\n",
        "    StructField(\"id\", StringType(), True), \\\n",
        "    StructField(\"gender\", StringType(), True),\n",
        "    StructField(\"annualsalary\", IntegerType(), True),\n",
        "    StructField(\"work\", StringType(), True),\n",
        "    StructField(\"year\", IntegerType(), True),\n",
        "   \n",
        "  ])\n",
        "\n",
        "df1 = spark.createDataFrame(data=data1,schema=schema1)\n",
        "df1.show(truncate=False)"
      ],
      "metadata": {
        "colab": {
          "base_uri": "https://localhost:8080/"
        },
        "id": "EAKKHUoEX0y1",
        "outputId": "76153f48-7ad3-4e24-c4ba-af3619a5ad17"
      },
      "execution_count": 12,
      "outputs": [
        {
          "output_type": "stream",
          "name": "stdout",
          "text": [
            "+---------+----------+--------+-----+------+------------+----------+----+\n",
            "|firstname|middlename|lastname|id   |gender|annualsalary|work      |year|\n",
            "+---------+----------+--------+-----+------+------------+----------+----+\n",
            "|James    |          |Smith   |36636|M     |1000        |Sales     |2020|\n",
            "|Michael  |Rose      |        |40288|M     |2000        |Operations|2020|\n",
            "|Robert   |          |Williams|42114|M     |3000        |Sales     |2020|\n",
            "|Maria    |Anne      |Jones   |39192|F     |4000        |Operations|2020|\n",
            "|Ria      |Anne      |Jones   |60000|F     |7000        |Operations|2020|\n",
            "+---------+----------+--------+-----+------+------------+----------+----+\n",
            "\n"
          ]
        }
      ]
    },
    {
      "cell_type": "markdown",
      "source": [
        "#monotonically_increasing_id\n",
        "\n",
        "\n",
        "\n",
        "monotonically_increasing_id is guaranteed to be monotonically increasing and unique, but **not consecutive**.\n",
        "\n",
        "The current implementation puts the partition ID in the upper 31 bits, and the record number within each partition in the lower 33 bits. \n",
        " The assumption is that the data frame has less than 1 billion partitions, and each partition has less than 8 billion records.\n",
        " \n",
        "\n"
      ],
      "metadata": {
        "id": "v4xnnbjPduVa"
      }
    },
    {
      "cell_type": "code",
      "source": [
        "from pyspark.sql.functions import monotonically_increasing_id\n",
        "df1.select(monotonically_increasing_id().alias('counter')).collect()"
      ],
      "metadata": {
        "colab": {
          "base_uri": "https://localhost:8080/"
        },
        "id": "VrfNiksYX9Tb",
        "outputId": "54e1f972-c79f-40be-c760-26ff01a72c77"
      },
      "execution_count": 13,
      "outputs": [
        {
          "output_type": "execute_result",
          "data": {
            "text/plain": [
              "[Row(counter=0),\n",
              " Row(counter=1),\n",
              " Row(counter=8589934592),\n",
              " Row(counter=8589934593),\n",
              " Row(counter=8589934594)]"
            ]
          },
          "metadata": {},
          "execution_count": 13
        }
      ]
    },
    {
      "cell_type": "markdown",
      "source": [
        "As an example, consider a DataFrame with two partitions, each with 2 & 3 records. This expression would return the following IDs: 0, 1, 8589934592 (1L << 33), 8589934593, 8589934594."
      ],
      "metadata": {
        "id": "sqt73yhgdtr9"
      }
    },
    {
      "cell_type": "code",
      "source": [
        "df2 = df1.withColumn(\"counter\", monotonically_increasing_id())\n",
        "df2.show(truncate=False)"
      ],
      "metadata": {
        "colab": {
          "base_uri": "https://localhost:8080/"
        },
        "id": "XI9d6qe_Yv_k",
        "outputId": "465fb68f-d1ed-49b5-c7d3-276cb9cc2a4c"
      },
      "execution_count": 14,
      "outputs": [
        {
          "output_type": "stream",
          "name": "stdout",
          "text": [
            "+---------+----------+--------+-----+------+------------+----------+----+----------+\n",
            "|firstname|middlename|lastname|id   |gender|annualsalary|work      |year|counter   |\n",
            "+---------+----------+--------+-----+------+------------+----------+----+----------+\n",
            "|James    |          |Smith   |36636|M     |1000        |Sales     |2020|0         |\n",
            "|Michael  |Rose      |        |40288|M     |2000        |Operations|2020|1         |\n",
            "|Robert   |          |Williams|42114|M     |3000        |Sales     |2020|8589934592|\n",
            "|Maria    |Anne      |Jones   |39192|F     |4000        |Operations|2020|8589934593|\n",
            "|Ria      |Anne      |Jones   |60000|F     |7000        |Operations|2020|8589934594|\n",
            "+---------+----------+--------+-----+------+------------+----------+----+----------+\n",
            "\n"
          ]
        }
      ]
    },
    {
      "cell_type": "markdown",
      "source": [
        "#row_number\n",
        "\n",
        "pyspark.sql.functions.row_number()\n",
        "Window function: returns a sequential number starting at 1 within a window partition.\n",
        "\n",
        "To use row_number() the data needs to be **sortable**.\n"
      ],
      "metadata": {
        "id": "TAk4hoUGdoQN"
      }
    },
    {
      "cell_type": "code",
      "source": [
        "df1.createOrReplaceTempView('df1')\n",
        "spark.sql('select row_number() over (order by id) as num, * from df1').show()"
      ],
      "metadata": {
        "colab": {
          "base_uri": "https://localhost:8080/"
        },
        "id": "fuUegVYvZLW0",
        "outputId": "086d806d-5993-4acb-e832-bf666abccda5"
      },
      "execution_count": 15,
      "outputs": [
        {
          "output_type": "stream",
          "name": "stdout",
          "text": [
            "+---+---------+----------+--------+-----+------+------------+----------+----+\n",
            "|num|firstname|middlename|lastname|   id|gender|annualsalary|      work|year|\n",
            "+---+---------+----------+--------+-----+------+------------+----------+----+\n",
            "|  1|    James|          |   Smith|36636|     M|        1000|     Sales|2020|\n",
            "|  2|    Maria|      Anne|   Jones|39192|     F|        4000|Operations|2020|\n",
            "|  3|  Michael|      Rose|        |40288|     M|        2000|Operations|2020|\n",
            "|  4|   Robert|          |Williams|42114|     M|        3000|     Sales|2020|\n",
            "|  5|      Ria|      Anne|   Jones|60000|     F|        7000|Operations|2020|\n",
            "+---+---------+----------+--------+-----+------+------------+----------+----+\n",
            "\n"
          ]
        }
      ]
    },
    {
      "cell_type": "markdown",
      "source": [
        "#monotonically_increasing_id and row_number"
      ],
      "metadata": {
        "id": "DN0wT0OadkCO"
      }
    },
    {
      "cell_type": "markdown",
      "source": [
        "Now, if we dont have a sortable data (on any column), then we can opt for a combination of **row_number** with **monotonically_increasing_id**.\n",
        "\n"
      ],
      "metadata": {
        "id": "Q2KWf0lreX8b"
      }
    },
    {
      "cell_type": "code",
      "source": [
        "\n",
        "from pyspark.sql import Window\n",
        "from pyspark.sql.functions import row_number\n",
        "df = df1.withColumn(\"counter\", monotonically_increasing_id())\n",
        "w = Window.orderBy(\"counter\")\n",
        "\n",
        "# Use row number with the window specification\n",
        "df_index = df.withColumn(\"index\", row_number().over(w))\n",
        "df_index = df_index.drop(\"counter\")\n",
        "df_index.show(truncate=False)\n"
      ],
      "metadata": {
        "colab": {
          "base_uri": "https://localhost:8080/"
        },
        "id": "lBWG5LmQZnv_",
        "outputId": "601af8b5-fed5-4020-b748-29802982cc2c"
      },
      "execution_count": 18,
      "outputs": [
        {
          "output_type": "stream",
          "name": "stdout",
          "text": [
            "+---------+----------+--------+-----+------+------------+----------+----+-----+\n",
            "|firstname|middlename|lastname|id   |gender|annualsalary|work      |year|index|\n",
            "+---------+----------+--------+-----+------+------------+----------+----+-----+\n",
            "|James    |          |Smith   |36636|M     |1000        |Sales     |2020|1    |\n",
            "|Michael  |Rose      |        |40288|M     |2000        |Operations|2020|2    |\n",
            "|Robert   |          |Williams|42114|M     |3000        |Sales     |2020|3    |\n",
            "|Maria    |Anne      |Jones   |39192|F     |4000        |Operations|2020|4    |\n",
            "|Ria      |Anne      |Jones   |60000|F     |7000        |Operations|2020|5    |\n",
            "+---------+----------+--------+-----+------+------------+----------+----+-----+\n",
            "\n"
          ]
        }
      ]
    },
    {
      "cell_type": "markdown",
      "source": [
        "#monotonically_increasing_id and coalesce\n",
        "\n",
        " coalesce(1) puts the Dataframe in one partition, and so have monotonically increasing and successive index column.\n",
        "\n",
        " However coalesce(1) also moves the entire data into a single partition, the risk of memory issues still exists. "
      ],
      "metadata": {
        "id": "DWc6YCDAdV7S"
      }
    },
    {
      "cell_type": "code",
      "source": [
        "df1.coalesce(1).withColumn(\"idx11\", monotonically_increasing_id()).show()\n"
      ],
      "metadata": {
        "colab": {
          "base_uri": "https://localhost:8080/"
        },
        "id": "GkTDHp0jdI0M",
        "outputId": "ff815af7-223e-45ff-baf8-b5025fa171bd"
      },
      "execution_count": 19,
      "outputs": [
        {
          "output_type": "stream",
          "name": "stdout",
          "text": [
            "+---------+----------+--------+-----+------+------------+----------+----+-----+\n",
            "|firstname|middlename|lastname|   id|gender|annualsalary|      work|year|idx11|\n",
            "+---------+----------+--------+-----+------+------------+----------+----+-----+\n",
            "|    James|          |   Smith|36636|     M|        1000|     Sales|2020|    0|\n",
            "|  Michael|      Rose|        |40288|     M|        2000|Operations|2020|    1|\n",
            "|   Robert|          |Williams|42114|     M|        3000|     Sales|2020|    2|\n",
            "|    Maria|      Anne|   Jones|39192|     F|        4000|Operations|2020|    3|\n",
            "|      Ria|      Anne|   Jones|60000|     F|        7000|Operations|2020|    4|\n",
            "+---------+----------+--------+-----+------+------------+----------+----+-----+\n",
            "\n"
          ]
        }
      ]
    }
  ]
}