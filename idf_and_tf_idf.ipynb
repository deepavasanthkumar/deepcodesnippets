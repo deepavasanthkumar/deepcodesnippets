{
  "nbformat": 4,
  "nbformat_minor": 0,
  "metadata": {
    "colab": {
      "name": "idf and tf idf.ipynb",
      "provenance": [],
      "collapsed_sections": [],
      "authorship_tag": "ABX9TyM6q1nz/obIisVg5MZA2Ei0",
      "include_colab_link": true
    },
    "kernelspec": {
      "name": "python3",
      "display_name": "Python 3"
    },
    "language_info": {
      "name": "python"
    }
  },
  "cells": [
    {
      "cell_type": "markdown",
      "metadata": {
        "id": "view-in-github",
        "colab_type": "text"
      },
      "source": [
        "<a href=\"https://colab.research.google.com/github/deepavasanthkumar/deepcodesnippets/blob/master/idf_and_tf_idf.ipynb\" target=\"_parent\"><img src=\"https://colab.research.google.com/assets/colab-badge.svg\" alt=\"Open In Colab\"/></a>"
      ]
    },
    {
      "cell_type": "markdown",
      "source": [
        "Formula :\n",
        "idf(t) = log(N/(df + 1))\n",
        "tf-idf now is a the right measure to evaluate how important a word is to a document in a collection"
      ],
      "metadata": {
        "id": "vjmMW9gyjNCT"
      }
    },
    {
      "cell_type": "code",
      "execution_count": null,
      "metadata": {
        "id": "R1wrjK9MfnfE"
      },
      "outputs": [],
      "source": [
        ""
      ]
    },
    {
      "cell_type": "code",
      "source": [
        "!pip install pyspark"
      ],
      "metadata": {
        "colab": {
          "base_uri": "https://localhost:8080/"
        },
        "id": "8N-iTb_gfsS_",
        "outputId": "7f50541d-ef68-469b-c2fd-03b990b9786f"
      },
      "execution_count": null,
      "outputs": [
        {
          "output_type": "stream",
          "name": "stdout",
          "text": [
            "Collecting pyspark\n",
            "  Downloading pyspark-3.2.0.tar.gz (281.3 MB)\n",
            "\u001b[K     |████████████████████████████████| 281.3 MB 47 kB/s \n",
            "\u001b[?25hCollecting py4j==0.10.9.2\n",
            "  Downloading py4j-0.10.9.2-py2.py3-none-any.whl (198 kB)\n",
            "\u001b[K     |████████████████████████████████| 198 kB 64.6 MB/s \n",
            "\u001b[?25hBuilding wheels for collected packages: pyspark\n",
            "  Building wheel for pyspark (setup.py) ... \u001b[?25l\u001b[?25hdone\n",
            "  Created wheel for pyspark: filename=pyspark-3.2.0-py2.py3-none-any.whl size=281805912 sha256=69a8acbdb032a77616acf621b1553c9b8109d90019876ee7883c264838674fc2\n",
            "  Stored in directory: /root/.cache/pip/wheels/0b/de/d2/9be5d59d7331c6c2a7c1b6d1a4f463ce107332b1ecd4e80718\n",
            "Successfully built pyspark\n",
            "Installing collected packages: py4j, pyspark\n",
            "Successfully installed py4j-0.10.9.2 pyspark-3.2.0\n"
          ]
        }
      ]
    },
    {
      "cell_type": "code",
      "source": [
        ""
      ],
      "metadata": {
        "id": "Fd1HMEUngBOi"
      },
      "execution_count": null,
      "outputs": []
    },
    {
      "cell_type": "markdown",
      "source": [
        "Upload the files\n"
      ],
      "metadata": {
        "id": "UYcPycJLibbm"
      }
    },
    {
      "cell_type": "code",
      "source": [
        "from google.colab import files\n",
        "uploaded = files.upload()"
      ],
      "metadata": {
        "colab": {
          "resources": {
            "http://localhost:8080/nbextensions/google.colab/files.js": {
              "data": "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",
              "ok": true,
              "headers": [
                [
                  "content-type",
                  "application/javascript"
                ]
              ],
              "status": 200,
              "status_text": ""
            }
          },
          "base_uri": "https://localhost:8080/",
          "height": 73
        },
        "id": "F5i7dhCMftca",
        "outputId": "0c119c97-5671-478a-8128-766523a1c131"
      },
      "execution_count": null,
      "outputs": [
        {
          "output_type": "display_data",
          "data": {
            "text/html": [
              "\n",
              "     <input type=\"file\" id=\"files-65422008-3d70-470c-a375-a6851e48c77d\" name=\"files[]\" multiple disabled\n",
              "        style=\"border:none\" />\n",
              "     <output id=\"result-65422008-3d70-470c-a375-a6851e48c77d\">\n",
              "      Upload widget is only available when the cell has been executed in the\n",
              "      current browser session. Please rerun this cell to enable.\n",
              "      </output>\n",
              "      <script src=\"/nbextensions/google.colab/files.js\"></script> "
            ],
            "text/plain": [
              "<IPython.core.display.HTML object>"
            ]
          },
          "metadata": {}
        },
        {
          "output_type": "stream",
          "name": "stdout",
          "text": [
            "Saving inputDoc.txt to inputDoc.txt\n"
          ]
        }
      ]
    },
    {
      "cell_type": "markdown",
      "source": [
        " Read the Dataframe\n",
        " Assign row_number for document id\n",
        "\n",
        " Split with ' '\n",
        "\n",
        " \n"
      ],
      "metadata": {
        "id": "1J9R-mD7ihBB"
      }
    },
    {
      "cell_type": "markdown",
      "source": [
        ""
      ],
      "metadata": {
        "id": "KA1OflqpjLbJ"
      }
    },
    {
      "cell_type": "code",
      "source": [
        "import math\n",
        "import pyspark\n",
        "from pyspark.sql.functions import *\n",
        "from pyspark.sql.window import Window\n",
        "\n",
        "from pyspark.sql import SparkSession\n",
        "  \n",
        "spark = SparkSession.builder.appName(\"inviz-if-idf\").getOrCreate()\n",
        "  \n",
        "\n",
        "file =   spark.sparkContext.textFile(\"inputDoc.txt\")\n",
        "\n",
        "df = spark.read.csv(\"inputDoc.txt\")\n",
        "\n",
        "\n",
        "w = Window().orderBy(lit('A'))\n",
        "df = df.withColumn(\"row_num\", row_number().over(w))\n",
        "\n",
        "\n",
        "df.rdd.collect()\n",
        "map1=df.rdd.flatMap(lambda x: [((x[1],i),1) for i in x[0].split()])\n",
        "map1.toDF().show()\n",
        "reduce=map1.reduceByKey(lambda x,y:x+y)\n",
        "print('reduce')\n",
        "reduce.toDF().show()\n",
        "tf=reduce.map(lambda x: (x[0][1],(x[0][0],x[1])))\n",
        "print('tf')\n",
        "tf.toDF().show()\n",
        "map3=reduce.map(lambda x: (x[0][1],(x[0][0],x[1],1)))\n",
        "map3.collect()\n",
        "print('map3')\n",
        "map3.toDF().show()\n",
        "map4=map3.map(lambda x:(x[0],x[1][2]))\n",
        "map4.collect()\n",
        "print('map4')\n",
        "map4.toDF().show()\n",
        "reduce2=map4.reduceByKey(lambda x,y:x+y)\n",
        "reduce2.collect()\n",
        "print('reduce2')\n",
        "reduce2.toDF().show()\n",
        "lenth = file.count()\n",
        "\n",
        "idf=reduce2.map(lambda x: (x[0],math.log10(lenth/x[1])))\n",
        "idf.collect()\n",
        "idf.toDF().show()\n",
        "rdd=tf.join(idf)\n",
        "rdd=rdd.map(lambda x: (x[1][0][0],(x[0],x[1][0][1],x[1][1],x[1][0][1]*x[1][1]))).sortByKey()\n",
        "rdd.collect()\n",
        "print('rdd')\n",
        "rdd.toDF().show()\n",
        "rdd=rdd.map(lambda x: (x[0],x[1][0],x[1][1],x[1][2],x[1][3]))\n",
        "rdd.toDF([\"DocumentId\",\"Token\",\"TF\",\"IDF\",\"TF-IDF\"]).show()"
      ],
      "metadata": {
        "colab": {
          "base_uri": "https://localhost:8080/"
        },
        "id": "49T6jCoygEDU",
        "outputId": "7f881791-4107-427d-b3fd-43ffd84eb90d"
      },
      "execution_count": null,
      "outputs": [
        {
          "output_type": "stream",
          "name": "stdout",
          "text": [
            "+--------------+---+\n",
            "|            _1| _2|\n",
            "+--------------+---+\n",
            "|     {1, This}|  1|\n",
            "|       {1, is}|  1|\n",
            "|    {1, first}|  1|\n",
            "|{1, sentence.}|  1|\n",
            "|     {1, This}|  1|\n",
            "|       {1, is}|  1|\n",
            "|        {1, a}|  1|\n",
            "|     {1, long}|  1|\n",
            "| {1, sentence}|  1|\n",
            "|     {2, This}|  1|\n",
            "|       {2, is}|  1|\n",
            "|   {2, second}|  1|\n",
            "| {2, sentence}|  1|\n",
            "|     {3, This}|  1|\n",
            "|       {3, is}|  1|\n",
            "|    {3, third}|  1|\n",
            "| {3, sentence}|  1|\n",
            "+--------------+---+\n",
            "\n",
            "reduce\n",
            "+--------------+---+\n",
            "|            _1| _2|\n",
            "+--------------+---+\n",
            "|     {1, This}|  2|\n",
            "|       {1, is}|  2|\n",
            "|    {1, first}|  1|\n",
            "|{1, sentence.}|  1|\n",
            "|        {1, a}|  1|\n",
            "|     {1, long}|  1|\n",
            "| {1, sentence}|  1|\n",
            "|     {2, This}|  1|\n",
            "|       {2, is}|  1|\n",
            "|   {2, second}|  1|\n",
            "| {2, sentence}|  1|\n",
            "|     {3, This}|  1|\n",
            "|       {3, is}|  1|\n",
            "|    {3, third}|  1|\n",
            "| {3, sentence}|  1|\n",
            "+--------------+---+\n",
            "\n",
            "tf\n",
            "+---------+------+\n",
            "|       _1|    _2|\n",
            "+---------+------+\n",
            "|     This|{1, 2}|\n",
            "|       is|{1, 2}|\n",
            "|    first|{1, 1}|\n",
            "|sentence.|{1, 1}|\n",
            "|        a|{1, 1}|\n",
            "|     long|{1, 1}|\n",
            "| sentence|{1, 1}|\n",
            "|     This|{2, 1}|\n",
            "|       is|{2, 1}|\n",
            "|   second|{2, 1}|\n",
            "| sentence|{2, 1}|\n",
            "|     This|{3, 1}|\n",
            "|       is|{3, 1}|\n",
            "|    third|{3, 1}|\n",
            "| sentence|{3, 1}|\n",
            "+---------+------+\n",
            "\n",
            "map3\n",
            "+---------+---------+\n",
            "|       _1|       _2|\n",
            "+---------+---------+\n",
            "|     This|{1, 2, 1}|\n",
            "|       is|{1, 2, 1}|\n",
            "|    first|{1, 1, 1}|\n",
            "|sentence.|{1, 1, 1}|\n",
            "|        a|{1, 1, 1}|\n",
            "|     long|{1, 1, 1}|\n",
            "| sentence|{1, 1, 1}|\n",
            "|     This|{2, 1, 1}|\n",
            "|       is|{2, 1, 1}|\n",
            "|   second|{2, 1, 1}|\n",
            "| sentence|{2, 1, 1}|\n",
            "|     This|{3, 1, 1}|\n",
            "|       is|{3, 1, 1}|\n",
            "|    third|{3, 1, 1}|\n",
            "| sentence|{3, 1, 1}|\n",
            "+---------+---------+\n",
            "\n",
            "map4\n",
            "+---------+---+\n",
            "|       _1| _2|\n",
            "+---------+---+\n",
            "|     This|  1|\n",
            "|       is|  1|\n",
            "|    first|  1|\n",
            "|sentence.|  1|\n",
            "|        a|  1|\n",
            "|     long|  1|\n",
            "| sentence|  1|\n",
            "|     This|  1|\n",
            "|       is|  1|\n",
            "|   second|  1|\n",
            "| sentence|  1|\n",
            "|     This|  1|\n",
            "|       is|  1|\n",
            "|    third|  1|\n",
            "| sentence|  1|\n",
            "+---------+---+\n",
            "\n",
            "reduce2\n",
            "+---------+---+\n",
            "|       _1| _2|\n",
            "+---------+---+\n",
            "|     This|  3|\n",
            "|       is|  3|\n",
            "|    first|  1|\n",
            "|sentence.|  1|\n",
            "|        a|  1|\n",
            "|     long|  1|\n",
            "| sentence|  3|\n",
            "|   second|  1|\n",
            "|    third|  1|\n",
            "+---------+---+\n",
            "\n",
            "+---------+-------------------+\n",
            "|       _1|                 _2|\n",
            "+---------+-------------------+\n",
            "|     This|                0.0|\n",
            "|       is|                0.0|\n",
            "|    first|0.47712125471966244|\n",
            "|sentence.|0.47712125471966244|\n",
            "|        a|0.47712125471966244|\n",
            "|     long|0.47712125471966244|\n",
            "| sentence|                0.0|\n",
            "|   second|0.47712125471966244|\n",
            "|    third|0.47712125471966244|\n",
            "+---------+-------------------+\n",
            "\n",
            "rdd\n",
            "+---+--------------------+\n",
            "| _1|                  _2|\n",
            "+---+--------------------+\n",
            "|  1|   {is, 2, 0.0, 0.0}|\n",
            "|  1|{sentence., 1, 0....|\n",
            "|  1|{long, 1, 0.47712...|\n",
            "|  1| {This, 2, 0.0, 0.0}|\n",
            "|  1|{first, 1, 0.4771...|\n",
            "|  1|{a, 1, 0.47712125...|\n",
            "|  1|{sentence, 1, 0.0...|\n",
            "|  2|   {is, 1, 0.0, 0.0}|\n",
            "|  2| {This, 1, 0.0, 0.0}|\n",
            "|  2|{sentence, 1, 0.0...|\n",
            "|  2|{second, 1, 0.477...|\n",
            "|  3|   {is, 1, 0.0, 0.0}|\n",
            "|  3|{third, 1, 0.4771...|\n",
            "|  3| {This, 1, 0.0, 0.0}|\n",
            "|  3|{sentence, 1, 0.0...|\n",
            "+---+--------------------+\n",
            "\n",
            "+----------+---------+---+-------------------+-------------------+\n",
            "|DocumentId|    Token| TF|                IDF|             TF-IDF|\n",
            "+----------+---------+---+-------------------+-------------------+\n",
            "|         1|       is|  2|                0.0|                0.0|\n",
            "|         1|sentence.|  1|0.47712125471966244|0.47712125471966244|\n",
            "|         1|     long|  1|0.47712125471966244|0.47712125471966244|\n",
            "|         1|     This|  2|                0.0|                0.0|\n",
            "|         1|    first|  1|0.47712125471966244|0.47712125471966244|\n",
            "|         1|        a|  1|0.47712125471966244|0.47712125471966244|\n",
            "|         1| sentence|  1|                0.0|                0.0|\n",
            "|         2|       is|  1|                0.0|                0.0|\n",
            "|         2|     This|  1|                0.0|                0.0|\n",
            "|         2| sentence|  1|                0.0|                0.0|\n",
            "|         2|   second|  1|0.47712125471966244|0.47712125471966244|\n",
            "|         3|       is|  1|                0.0|                0.0|\n",
            "|         3|    third|  1|0.47712125471966244|0.47712125471966244|\n",
            "|         3|     This|  1|                0.0|                0.0|\n",
            "|         3| sentence|  1|                0.0|                0.0|\n",
            "+----------+---------+---+-------------------+-------------------+\n",
            "\n"
          ]
        }
      ]
    }
  ]
}