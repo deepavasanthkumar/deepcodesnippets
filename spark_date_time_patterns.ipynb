{
  "nbformat": 4,
  "nbformat_minor": 0,
  "metadata": {
    "colab": {
      "provenance": [],
      "authorship_tag": "ABX9TyOqhMi2vAxYY5WdvBA3aX0J",
      "include_colab_link": true
    },
    "kernelspec": {
      "name": "python3",
      "display_name": "Python 3"
    },
    "language_info": {
      "name": "python"
    }
  },
  "cells": [
    {
      "cell_type": "markdown",
      "metadata": {
        "id": "view-in-github",
        "colab_type": "text"
      },
      "source": [
        "<a href=\"https://colab.research.google.com/github/deepavasanthkumar/deepcodesnippets/blob/master/spark_date_time_patterns.ipynb\" target=\"_parent\"><img src=\"https://colab.research.google.com/assets/colab-badge.svg\" alt=\"Open In Colab\"/></a>"
      ]
    },
    {
      "cell_type": "code",
      "execution_count": 1,
      "metadata": {
        "colab": {
          "base_uri": "https://localhost:8080/"
        },
        "id": "ZN0v3ovp--c9",
        "outputId": "7506d133-9d1d-4a04-cfc2-96864b7426e8"
      },
      "outputs": [
        {
          "output_type": "stream",
          "name": "stdout",
          "text": [
            "Looking in indexes: https://pypi.org/simple, https://us-python.pkg.dev/colab-wheels/public/simple/\n",
            "Collecting pyspark\n",
            "  Downloading pyspark-3.4.0.tar.gz (310.8 MB)\n",
            "\u001b[2K     \u001b[90m━━━━━━━━━━━━━━━━━━━━━━━━━━━━━━━━━━━━━━━\u001b[0m \u001b[32m310.8/310.8 MB\u001b[0m \u001b[31m2.6 MB/s\u001b[0m eta \u001b[36m0:00:00\u001b[0m\n",
            "\u001b[?25h  Preparing metadata (setup.py) ... \u001b[?25l\u001b[?25hdone\n",
            "Requirement already satisfied: py4j==0.10.9.7 in /usr/local/lib/python3.9/dist-packages (from pyspark) (0.10.9.7)\n",
            "Building wheels for collected packages: pyspark\n",
            "  Building wheel for pyspark (setup.py) ... \u001b[?25l\u001b[?25hdone\n",
            "  Created wheel for pyspark: filename=pyspark-3.4.0-py2.py3-none-any.whl size=311317145 sha256=cb9f51805f33ea5259bf82b14c9c9a330446845dfd4d560790201edcafb09284\n",
            "  Stored in directory: /root/.cache/pip/wheels/9f/34/a4/159aa12d0a510d5ff7c8f0220abbea42e5d81ecf588c4fd884\n",
            "Successfully built pyspark\n",
            "Installing collected packages: pyspark\n",
            "Successfully installed pyspark-3.4.0\n"
          ]
        }
      ],
      "source": [
        "!pip install pyspark"
      ]
    },
    {
      "cell_type": "markdown",
      "source": [
        "Using dataset available from https://www.kaggle.com/datasets/sumanthvrao/daily-climate-time-series-data?resource=download"
      ],
      "metadata": {
        "id": "Wm2uGh1DAwcf"
      }
    },
    {
      "cell_type": "code",
      "source": [
        "from google.colab import files\n",
        "uploaded = files.upload()"
      ],
      "metadata": {
        "colab": {
          "base_uri": "https://localhost:8080/",
          "height": 73
        },
        "id": "_OethmcPAn2m",
        "outputId": "81d38420-31bb-407b-b5bc-2dd2f8775831"
      },
      "execution_count": 3,
      "outputs": [
        {
          "output_type": "display_data",
          "data": {
            "text/plain": [
              "<IPython.core.display.HTML object>"
            ],
            "text/html": [
              "\n",
              "     <input type=\"file\" id=\"files-65eea665-debe-48de-baf1-e9d586cd3491\" name=\"files[]\" multiple disabled\n",
              "        style=\"border:none\" />\n",
              "     <output id=\"result-65eea665-debe-48de-baf1-e9d586cd3491\">\n",
              "      Upload widget is only available when the cell has been executed in the\n",
              "      current browser session. Please rerun this cell to enable.\n",
              "      </output>\n",
              "      <script>// Copyright 2017 Google LLC\n",
              "//\n",
              "// Licensed under the Apache License, Version 2.0 (the \"License\");\n",
              "// you may not use this file except in compliance with the License.\n",
              "// You may obtain a copy of the License at\n",
              "//\n",
              "//      http://www.apache.org/licenses/LICENSE-2.0\n",
              "//\n",
              "// Unless required by applicable law or agreed to in writing, software\n",
              "// distributed under the License is distributed on an \"AS IS\" BASIS,\n",
              "// WITHOUT WARRANTIES OR CONDITIONS OF ANY KIND, either express or implied.\n",
              "// See the License for the specific language governing permissions and\n",
              "// limitations under the License.\n",
              "\n",
              "/**\n",
              " * @fileoverview Helpers for google.colab Python module.\n",
              " */\n",
              "(function(scope) {\n",
              "function span(text, styleAttributes = {}) {\n",
              "  const element = document.createElement('span');\n",
              "  element.textContent = text;\n",
              "  for (const key of Object.keys(styleAttributes)) {\n",
              "    element.style[key] = styleAttributes[key];\n",
              "  }\n",
              "  return element;\n",
              "}\n",
              "\n",
              "// Max number of bytes which will be uploaded at a time.\n",
              "const MAX_PAYLOAD_SIZE = 100 * 1024;\n",
              "\n",
              "function _uploadFiles(inputId, outputId) {\n",
              "  const steps = uploadFilesStep(inputId, outputId);\n",
              "  const outputElement = document.getElementById(outputId);\n",
              "  // Cache steps on the outputElement to make it available for the next call\n",
              "  // to uploadFilesContinue from Python.\n",
              "  outputElement.steps = steps;\n",
              "\n",
              "  return _uploadFilesContinue(outputId);\n",
              "}\n",
              "\n",
              "// This is roughly an async generator (not supported in the browser yet),\n",
              "// where there are multiple asynchronous steps and the Python side is going\n",
              "// to poll for completion of each step.\n",
              "// This uses a Promise to block the python side on completion of each step,\n",
              "// then passes the result of the previous step as the input to the next step.\n",
              "function _uploadFilesContinue(outputId) {\n",
              "  const outputElement = document.getElementById(outputId);\n",
              "  const steps = outputElement.steps;\n",
              "\n",
              "  const next = steps.next(outputElement.lastPromiseValue);\n",
              "  return Promise.resolve(next.value.promise).then((value) => {\n",
              "    // Cache the last promise value to make it available to the next\n",
              "    // step of the generator.\n",
              "    outputElement.lastPromiseValue = value;\n",
              "    return next.value.response;\n",
              "  });\n",
              "}\n",
              "\n",
              "/**\n",
              " * Generator function which is called between each async step of the upload\n",
              " * process.\n",
              " * @param {string} inputId Element ID of the input file picker element.\n",
              " * @param {string} outputId Element ID of the output display.\n",
              " * @return {!Iterable<!Object>} Iterable of next steps.\n",
              " */\n",
              "function* uploadFilesStep(inputId, outputId) {\n",
              "  const inputElement = document.getElementById(inputId);\n",
              "  inputElement.disabled = false;\n",
              "\n",
              "  const outputElement = document.getElementById(outputId);\n",
              "  outputElement.innerHTML = '';\n",
              "\n",
              "  const pickedPromise = new Promise((resolve) => {\n",
              "    inputElement.addEventListener('change', (e) => {\n",
              "      resolve(e.target.files);\n",
              "    });\n",
              "  });\n",
              "\n",
              "  const cancel = document.createElement('button');\n",
              "  inputElement.parentElement.appendChild(cancel);\n",
              "  cancel.textContent = 'Cancel upload';\n",
              "  const cancelPromise = new Promise((resolve) => {\n",
              "    cancel.onclick = () => {\n",
              "      resolve(null);\n",
              "    };\n",
              "  });\n",
              "\n",
              "  // Wait for the user to pick the files.\n",
              "  const files = yield {\n",
              "    promise: Promise.race([pickedPromise, cancelPromise]),\n",
              "    response: {\n",
              "      action: 'starting',\n",
              "    }\n",
              "  };\n",
              "\n",
              "  cancel.remove();\n",
              "\n",
              "  // Disable the input element since further picks are not allowed.\n",
              "  inputElement.disabled = true;\n",
              "\n",
              "  if (!files) {\n",
              "    return {\n",
              "      response: {\n",
              "        action: 'complete',\n",
              "      }\n",
              "    };\n",
              "  }\n",
              "\n",
              "  for (const file of files) {\n",
              "    const li = document.createElement('li');\n",
              "    li.append(span(file.name, {fontWeight: 'bold'}));\n",
              "    li.append(span(\n",
              "        `(${file.type || 'n/a'}) - ${file.size} bytes, ` +\n",
              "        `last modified: ${\n",
              "            file.lastModifiedDate ? file.lastModifiedDate.toLocaleDateString() :\n",
              "                                    'n/a'} - `));\n",
              "    const percent = span('0% done');\n",
              "    li.appendChild(percent);\n",
              "\n",
              "    outputElement.appendChild(li);\n",
              "\n",
              "    const fileDataPromise = new Promise((resolve) => {\n",
              "      const reader = new FileReader();\n",
              "      reader.onload = (e) => {\n",
              "        resolve(e.target.result);\n",
              "      };\n",
              "      reader.readAsArrayBuffer(file);\n",
              "    });\n",
              "    // Wait for the data to be ready.\n",
              "    let fileData = yield {\n",
              "      promise: fileDataPromise,\n",
              "      response: {\n",
              "        action: 'continue',\n",
              "      }\n",
              "    };\n",
              "\n",
              "    // Use a chunked sending to avoid message size limits. See b/62115660.\n",
              "    let position = 0;\n",
              "    do {\n",
              "      const length = Math.min(fileData.byteLength - position, MAX_PAYLOAD_SIZE);\n",
              "      const chunk = new Uint8Array(fileData, position, length);\n",
              "      position += length;\n",
              "\n",
              "      const base64 = btoa(String.fromCharCode.apply(null, chunk));\n",
              "      yield {\n",
              "        response: {\n",
              "          action: 'append',\n",
              "          file: file.name,\n",
              "          data: base64,\n",
              "        },\n",
              "      };\n",
              "\n",
              "      let percentDone = fileData.byteLength === 0 ?\n",
              "          100 :\n",
              "          Math.round((position / fileData.byteLength) * 100);\n",
              "      percent.textContent = `${percentDone}% done`;\n",
              "\n",
              "    } while (position < fileData.byteLength);\n",
              "  }\n",
              "\n",
              "  // All done.\n",
              "  yield {\n",
              "    response: {\n",
              "      action: 'complete',\n",
              "    }\n",
              "  };\n",
              "}\n",
              "\n",
              "scope.google = scope.google || {};\n",
              "scope.google.colab = scope.google.colab || {};\n",
              "scope.google.colab._files = {\n",
              "  _uploadFiles,\n",
              "  _uploadFilesContinue,\n",
              "};\n",
              "})(self);\n",
              "</script> "
            ]
          },
          "metadata": {}
        },
        {
          "output_type": "stream",
          "name": "stdout",
          "text": [
            "Saving DailyDelhiClimateTrain.csv to DailyDelhiClimateTrain.csv\n"
          ]
        }
      ]
    },
    {
      "cell_type": "code",
      "source": [
        "from pyspark.sql import SparkSession\n",
        "  \n",
        "spark = SparkSession.builder.appName(\"DataFrame\").getOrCreate()"
      ],
      "metadata": {
        "id": "l_0zg6auAkjW"
      },
      "execution_count": 2,
      "outputs": []
    },
    {
      "cell_type": "code",
      "source": [
        "df = spark.read.csv('DailyDelhiClimateTrain.csv', inferSchema=True, header=True, sep = \",\")\n",
        "\n",
        "df.printSchema()"
      ],
      "metadata": {
        "colab": {
          "base_uri": "https://localhost:8080/"
        },
        "id": "2KBBPPIYAfwU",
        "outputId": "3aa134db-15a8-4082-9596-e64157900547"
      },
      "execution_count": 5,
      "outputs": [
        {
          "output_type": "stream",
          "name": "stdout",
          "text": [
            "root\n",
            " |-- date: date (nullable = true)\n",
            " |-- meantemp: double (nullable = true)\n",
            " |-- humidity: double (nullable = true)\n",
            " |-- wind_speed: double (nullable = true)\n",
            " |-- meanpressure: double (nullable = true)\n",
            "\n"
          ]
        }
      ]
    },
    {
      "cell_type": "markdown",
      "source": [
        "#current_date"
      ],
      "metadata": {
        "id": "wdQP-2RsBjH4"
      }
    },
    {
      "cell_type": "code",
      "source": [
        "from pyspark.sql.functions import *"
      ],
      "metadata": {
        "id": "Q8ZDMBetBZLc"
      },
      "execution_count": 6,
      "outputs": []
    },
    {
      "cell_type": "code",
      "source": [
        "df = df.withColumn(\"current_date\", current_date())\n",
        "df.show(2)"
      ],
      "metadata": {
        "colab": {
          "base_uri": "https://localhost:8080/"
        },
        "id": "J5QdFTdsBUDS",
        "outputId": "04079127-5b41-4904-fc34-b3c1d348b741"
      },
      "execution_count": 8,
      "outputs": [
        {
          "output_type": "stream",
          "name": "stdout",
          "text": [
            "+----------+--------+--------+----------+------------------+------------+\n",
            "|      date|meantemp|humidity|wind_speed|      meanpressure|current_date|\n",
            "+----------+--------+--------+----------+------------------+------------+\n",
            "|2013-01-01|    10.0|    84.5|       0.0|1015.6666666666666|  2023-04-25|\n",
            "|2013-01-02|     7.4|    92.0|      2.98|            1017.8|  2023-04-25|\n",
            "+----------+--------+--------+----------+------------------+------------+\n",
            "only showing top 2 rows\n",
            "\n"
          ]
        }
      ]
    },
    {
      "cell_type": "markdown",
      "source": [
        "#current_timestamp"
      ],
      "metadata": {
        "id": "A4uBzD2nBssl"
      }
    },
    {
      "cell_type": "code",
      "source": [
        "df = df.withColumn(\"current_ts\", current_timestamp())\n",
        "df.show(2, True)"
      ],
      "metadata": {
        "colab": {
          "base_uri": "https://localhost:8080/"
        },
        "id": "_K1D98xgBvpJ",
        "outputId": "135bcb4e-45a1-4fac-9f1e-561f77aeabb3"
      },
      "execution_count": 12,
      "outputs": [
        {
          "output_type": "stream",
          "name": "stdout",
          "text": [
            "+----------+--------+--------+----------+------------------+------------+--------------------+\n",
            "|      date|meantemp|humidity|wind_speed|      meanpressure|current_date|          current_ts|\n",
            "+----------+--------+--------+----------+------------------+------------+--------------------+\n",
            "|2013-01-01|    10.0|    84.5|       0.0|1015.6666666666666|  2023-04-25|2023-04-25 06:09:...|\n",
            "|2013-01-02|     7.4|    92.0|      2.98|            1017.8|  2023-04-25|2023-04-25 06:09:...|\n",
            "+----------+--------+--------+----------+------------------+------------+--------------------+\n",
            "only showing top 2 rows\n",
            "\n"
          ]
        }
      ]
    },
    {
      "cell_type": "markdown",
      "source": [
        "#date_format"
      ],
      "metadata": {
        "id": "AgzAIQaECIt5"
      }
    },
    {
      "cell_type": "code",
      "source": [
        "df = df.withColumn(\"formattedDate\", date_format(\"current_date\", \"dd/MMM/yyyy\"))\n",
        "df.show(2)"
      ],
      "metadata": {
        "colab": {
          "base_uri": "https://localhost:8080/"
        },
        "id": "9xE4iEogCbgm",
        "outputId": "3d040bf1-ea2b-4cc8-f582-42a5865f93f9"
      },
      "execution_count": 13,
      "outputs": [
        {
          "output_type": "stream",
          "name": "stdout",
          "text": [
            "+----------+--------+--------+----------+------------------+------------+--------------------+-------------+\n",
            "|      date|meantemp|humidity|wind_speed|      meanpressure|current_date|          current_ts|formattedDate|\n",
            "+----------+--------+--------+----------+------------------+------------+--------------------+-------------+\n",
            "|2013-01-01|    10.0|    84.5|       0.0|1015.6666666666666|  2023-04-25|2023-04-25 06:11:...|  25/Apr/2023|\n",
            "|2013-01-02|     7.4|    92.0|      2.98|            1017.8|  2023-04-25|2023-04-25 06:11:...|  25/Apr/2023|\n",
            "+----------+--------+--------+----------+------------------+------------+--------------------+-------------+\n",
            "only showing top 2 rows\n",
            "\n"
          ]
        }
      ]
    },
    {
      "cell_type": "code",
      "source": [],
      "metadata": {
        "id": "P5JgICAlJngM"
      },
      "execution_count": null,
      "outputs": []
    },
    {
      "cell_type": "markdown",
      "source": [
        "#Truncate dates"
      ],
      "metadata": {
        "id": "kiz0572mCo3G"
      }
    },
    {
      "cell_type": "code",
      "source": [
        "df = df.withColumn(\"year_trunc\", date_trunc(\"year\", \"date\"))\n",
        "df.select(col(\"year_trunc\"), col(\"date\")).show(15)"
      ],
      "metadata": {
        "colab": {
          "base_uri": "https://localhost:8080/"
        },
        "id": "ZeQgMqJ8CqxM",
        "outputId": "83268967-af7d-4831-a211-721e37fc74d3"
      },
      "execution_count": 21,
      "outputs": [
        {
          "output_type": "stream",
          "name": "stdout",
          "text": [
            "+-------------------+----------+\n",
            "|         year_trunc|      date|\n",
            "+-------------------+----------+\n",
            "|2013-01-01 00:00:00|2013-01-01|\n",
            "|2013-01-01 00:00:00|2013-01-02|\n",
            "|2013-01-01 00:00:00|2013-01-03|\n",
            "|2013-01-01 00:00:00|2013-01-04|\n",
            "|2013-01-01 00:00:00|2013-01-05|\n",
            "|2013-01-01 00:00:00|2013-01-06|\n",
            "|2013-01-01 00:00:00|2013-01-07|\n",
            "|2013-01-01 00:00:00|2013-01-08|\n",
            "|2013-01-01 00:00:00|2013-01-09|\n",
            "|2013-01-01 00:00:00|2013-01-10|\n",
            "|2013-01-01 00:00:00|2013-01-11|\n",
            "|2013-01-01 00:00:00|2013-01-12|\n",
            "|2013-01-01 00:00:00|2013-01-13|\n",
            "|2013-01-01 00:00:00|2013-01-14|\n",
            "|2013-01-01 00:00:00|2013-01-15|\n",
            "+-------------------+----------+\n",
            "only showing top 15 rows\n",
            "\n"
          ]
        }
      ]
    },
    {
      "cell_type": "markdown",
      "source": [
        "#from_utc_timestamp"
      ],
      "metadata": {
        "id": "1Y8TCVXrD5gq"
      }
    },
    {
      "cell_type": "code",
      "source": [
        "df = df.withColumn(\"et_ts\", from_utc_timestamp(\"current_timestamp\", \"EST\"))\n",
        "df.select(col(\"current_timestamp\"), col(\"et_ts\")).show(15)"
      ],
      "metadata": {
        "colab": {
          "base_uri": "https://localhost:8080/"
        },
        "id": "YAUYYr3WD7lK",
        "outputId": "78ef87c5-0475-4ba8-fcc2-d7cd40bd7da0"
      },
      "execution_count": 22,
      "outputs": [
        {
          "output_type": "stream",
          "name": "stdout",
          "text": [
            "+--------------------+--------------------+\n",
            "| current_timestamp()|               et_ts|\n",
            "+--------------------+--------------------+\n",
            "|2023-04-25 06:19:...|2023-04-25 01:19:...|\n",
            "|2023-04-25 06:19:...|2023-04-25 01:19:...|\n",
            "|2023-04-25 06:19:...|2023-04-25 01:19:...|\n",
            "|2023-04-25 06:19:...|2023-04-25 01:19:...|\n",
            "|2023-04-25 06:19:...|2023-04-25 01:19:...|\n",
            "|2023-04-25 06:19:...|2023-04-25 01:19:...|\n",
            "|2023-04-25 06:19:...|2023-04-25 01:19:...|\n",
            "|2023-04-25 06:19:...|2023-04-25 01:19:...|\n",
            "|2023-04-25 06:19:...|2023-04-25 01:19:...|\n",
            "|2023-04-25 06:19:...|2023-04-25 01:19:...|\n",
            "|2023-04-25 06:19:...|2023-04-25 01:19:...|\n",
            "|2023-04-25 06:19:...|2023-04-25 01:19:...|\n",
            "|2023-04-25 06:19:...|2023-04-25 01:19:...|\n",
            "|2023-04-25 06:19:...|2023-04-25 01:19:...|\n",
            "|2023-04-25 06:19:...|2023-04-25 01:19:...|\n",
            "+--------------------+--------------------+\n",
            "only showing top 15 rows\n",
            "\n"
          ]
        }
      ]
    },
    {
      "cell_type": "markdown",
      "source": [
        "#to_utc_timestamp"
      ],
      "metadata": {
        "id": "snDjl9UFEg0I"
      }
    },
    {
      "cell_type": "code",
      "source": [
        "df = df.withColumn(\"utc_ts\", to_utc_timestamp(\"et_ts\", \"EST\"))\n",
        "df.select(col(\"current_timestamp\"), col(\"et_ts\"), col(\"utc_ts\")).show(15)\n"
      ],
      "metadata": {
        "colab": {
          "base_uri": "https://localhost:8080/"
        },
        "id": "d6cALhBBEi6C",
        "outputId": "ff9673b1-9677-40a5-8f4c-64b44bee3fb1"
      },
      "execution_count": 25,
      "outputs": [
        {
          "output_type": "stream",
          "name": "stdout",
          "text": [
            "+--------------------+--------------------+--------------------+\n",
            "| current_timestamp()|               et_ts|              utc_ts|\n",
            "+--------------------+--------------------+--------------------+\n",
            "|2023-04-25 06:35:...|2023-04-25 01:35:...|2023-04-25 06:35:...|\n",
            "|2023-04-25 06:35:...|2023-04-25 01:35:...|2023-04-25 06:35:...|\n",
            "|2023-04-25 06:35:...|2023-04-25 01:35:...|2023-04-25 06:35:...|\n",
            "|2023-04-25 06:35:...|2023-04-25 01:35:...|2023-04-25 06:35:...|\n",
            "|2023-04-25 06:35:...|2023-04-25 01:35:...|2023-04-25 06:35:...|\n",
            "|2023-04-25 06:35:...|2023-04-25 01:35:...|2023-04-25 06:35:...|\n",
            "|2023-04-25 06:35:...|2023-04-25 01:35:...|2023-04-25 06:35:...|\n",
            "|2023-04-25 06:35:...|2023-04-25 01:35:...|2023-04-25 06:35:...|\n",
            "|2023-04-25 06:35:...|2023-04-25 01:35:...|2023-04-25 06:35:...|\n",
            "|2023-04-25 06:35:...|2023-04-25 01:35:...|2023-04-25 06:35:...|\n",
            "|2023-04-25 06:35:...|2023-04-25 01:35:...|2023-04-25 06:35:...|\n",
            "|2023-04-25 06:35:...|2023-04-25 01:35:...|2023-04-25 06:35:...|\n",
            "|2023-04-25 06:35:...|2023-04-25 01:35:...|2023-04-25 06:35:...|\n",
            "|2023-04-25 06:35:...|2023-04-25 01:35:...|2023-04-25 06:35:...|\n",
            "|2023-04-25 06:35:...|2023-04-25 01:35:...|2023-04-25 06:35:...|\n",
            "+--------------------+--------------------+--------------------+\n",
            "only showing top 15 rows\n",
            "\n"
          ]
        }
      ]
    }
  ]
}