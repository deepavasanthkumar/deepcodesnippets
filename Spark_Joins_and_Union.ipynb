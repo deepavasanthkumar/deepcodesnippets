{
  "nbformat": 4,
  "nbformat_minor": 0,
  "metadata": {
    "colab": {
      "name": "Spark Joins and Union.ipynb",
      "provenance": [],
      "authorship_tag": "ABX9TyN/4iGja9f2LnUC3woR3EM1",
      "include_colab_link": true
    },
    "kernelspec": {
      "name": "python3",
      "display_name": "Python 3"
    },
    "language_info": {
      "name": "python"
    }
  },
  "cells": [
    {
      "cell_type": "markdown",
      "metadata": {
        "id": "view-in-github",
        "colab_type": "text"
      },
      "source": [
        "<a href=\"https://colab.research.google.com/github/deepavasanthkumar/deepcodesnippets/blob/master/Spark_Joins_and_Union.ipynb\" target=\"_parent\"><img src=\"https://colab.research.google.com/assets/colab-badge.svg\" alt=\"Open In Colab\"/></a>"
      ]
    },
    {
      "cell_type": "markdown",
      "source": [
        "#Pre-requisites"
      ],
      "metadata": {
        "id": "rpr666IpSWlM"
      }
    },
    {
      "cell_type": "code",
      "execution_count": 1,
      "metadata": {
        "colab": {
          "base_uri": "https://localhost:8080/"
        },
        "id": "Aora0uU7pdwM",
        "outputId": "5f7bf73b-e7eb-4f60-cc13-3948cd26a440"
      },
      "outputs": [
        {
          "output_type": "stream",
          "name": "stdout",
          "text": [
            "Collecting pyspark\n",
            "  Downloading pyspark-3.2.0.tar.gz (281.3 MB)\n",
            "\u001b[K     |████████████████████████████████| 281.3 MB 40 kB/s \n",
            "\u001b[?25hCollecting py4j==0.10.9.2\n",
            "  Downloading py4j-0.10.9.2-py2.py3-none-any.whl (198 kB)\n",
            "\u001b[K     |████████████████████████████████| 198 kB 60.3 MB/s \n",
            "\u001b[?25hBuilding wheels for collected packages: pyspark\n",
            "  Building wheel for pyspark (setup.py) ... \u001b[?25l\u001b[?25hdone\n",
            "  Created wheel for pyspark: filename=pyspark-3.2.0-py2.py3-none-any.whl size=281805911 sha256=6bcd13af6b6e753a6644ec8e9e68277efdf9234c4cf150c8642946d190da8ad9\n",
            "  Stored in directory: /root/.cache/pip/wheels/0b/de/d2/9be5d59d7331c6c2a7c1b6d1a4f463ce107332b1ecd4e80718\n",
            "Successfully built pyspark\n",
            "Installing collected packages: py4j, pyspark\n",
            "Successfully installed py4j-0.10.9.2 pyspark-3.2.0\n"
          ]
        }
      ],
      "source": [
        "!pip install pyspark"
      ]
    },
    {
      "cell_type": "code",
      "source": [
        "\n",
        "\n",
        "import pyspark"
      ],
      "metadata": {
        "id": "AjFFuBp9FKUL"
      },
      "execution_count": 6,
      "outputs": []
    },
    {
      "cell_type": "code",
      "source": [
        "from pyspark.sql import SparkSession\n",
        "  \n",
        "spark = SparkSession.builder.appName(\"Spark Examples - Union & Joins\").getOrCreate()"
      ],
      "metadata": {
        "id": "w7t9AF3lDOc6"
      },
      "execution_count": 8,
      "outputs": []
    },
    {
      "cell_type": "code",
      "source": [
        "spark"
      ],
      "metadata": {
        "colab": {
          "base_uri": "https://localhost:8080/",
          "height": 219
        },
        "id": "ZAfFKTasp1Om",
        "outputId": "3f8e727f-f123-4fa1-c19e-43049e1bf37a"
      },
      "execution_count": 9,
      "outputs": [
        {
          "output_type": "execute_result",
          "data": {
            "text/html": [
              "\n",
              "            <div>\n",
              "                <p><b>SparkSession - in-memory</b></p>\n",
              "                \n",
              "        <div>\n",
              "            <p><b>SparkContext</b></p>\n",
              "\n",
              "            <p><a href=\"http://7b987747c749:4040\">Spark UI</a></p>\n",
              "\n",
              "            <dl>\n",
              "              <dt>Version</dt>\n",
              "                <dd><code>v3.2.0</code></dd>\n",
              "              <dt>Master</dt>\n",
              "                <dd><code>local[*]</code></dd>\n",
              "              <dt>AppName</dt>\n",
              "                <dd><code>Spark Examples - Union & Joins</code></dd>\n",
              "            </dl>\n",
              "        </div>\n",
              "        \n",
              "            </div>\n",
              "        "
            ],
            "text/plain": [
              "<pyspark.sql.session.SparkSession at 0x7fcda1c820d0>"
            ]
          },
          "metadata": {},
          "execution_count": 9
        }
      ]
    },
    {
      "cell_type": "markdown",
      "source": [
        ""
      ],
      "metadata": {
        "id": "nzPzOXTGp09C"
      }
    },
    {
      "cell_type": "code",
      "source": [
        "import pyspark"
      ],
      "metadata": {
        "id": "H3J7kclHqKoT"
      },
      "execution_count": null,
      "outputs": []
    },
    {
      "cell_type": "code",
      "source": [
        "from pyspark.sql.types import StructType,StructField, StringType, IntegerType\n",
        "data1 = [(\"James\",\"\",\"Smith\",\"36636\",\"M\"),\n",
        "    (\"Michael\",\"Rose\",\"\",\"40288\",\"M\"),\n",
        "    (\"Robert\",\"\",\"Williams\",\"42114\",\"M\"),\n",
        "    (\"Maria\",\"Anne\",\"Jones\",\"39192\",\"F\"),\n",
        "    (\"X-Unknown\",\"Y-Unknown\",\"\",\"X1000\",\"F\")\n",
        "  \n",
        "  ]\n",
        "\n",
        "schema1 = StructType([ \\\n",
        "    StructField(\"firstname\",StringType(),True), \\\n",
        "    StructField(\"middlename\",StringType(),True), \\\n",
        "    StructField(\"lastname\",StringType(),True), \\\n",
        "    StructField(\"id\", StringType(), True), \\\n",
        "    StructField(\"gender\", StringType(), True) \n",
        "   \n",
        "  ])\n",
        " \n",
        "df1 = spark.createDataFrame(data=data1,schema=schema1)\n",
        "df1.printSchema()\n",
        "df1.show(truncate=False)"
      ],
      "metadata": {
        "colab": {
          "base_uri": "https://localhost:8080/"
        },
        "id": "gU2keuj8qpO7",
        "outputId": "05f7b735-2100-4110-8af9-fed04e54d646"
      },
      "execution_count": 11,
      "outputs": [
        {
          "output_type": "stream",
          "name": "stdout",
          "text": [
            "root\n",
            " |-- firstname: string (nullable = true)\n",
            " |-- middlename: string (nullable = true)\n",
            " |-- lastname: string (nullable = true)\n",
            " |-- id: string (nullable = true)\n",
            " |-- gender: string (nullable = true)\n",
            "\n",
            "+---------+----------+--------+-----+------+\n",
            "|firstname|middlename|lastname|id   |gender|\n",
            "+---------+----------+--------+-----+------+\n",
            "|James    |          |Smith   |36636|M     |\n",
            "|Michael  |Rose      |        |40288|M     |\n",
            "|Robert   |          |Williams|42114|M     |\n",
            "|Maria    |Anne      |Jones   |39192|F     |\n",
            "|X-Unknown|Y-Unknown |        |X1000|F     |\n",
            "+---------+----------+--------+-----+------+\n",
            "\n"
          ]
        }
      ]
    },
    {
      "cell_type": "code",
      "source": [
        "data2 = [(\"36636\",\"Plus-Two\", \"77\",\"88\",\"76\"),\n",
        "    (\"40288\",\"Plus-Two\", \"77\",\"88\",\"76\"),\n",
        "    (\"42114\",\"Plus-Two\", \"77\",\"88\",\"76\"),\n",
        "    (\"39192\",\"Plus-One\", \"77\",\"88\",\"76\"),\n",
        "    (\"36636\",\"Plus-One\", \"89\",\"81\",\"71\"),\n",
        "    (\"10000\",\"BTech\", \"89\",\"81\",\"71\")\n",
        "  \n",
        "  ]\n",
        "\n",
        "schema2 = StructType([ \\\n",
        "   \n",
        "    StructField(\"id\", StringType(), True), \\\n",
        "    StructField(\"CourseName\", StringType(), True),\n",
        "    StructField(\"Maths Marks\",StringType(),True), \\\n",
        "    StructField(\"Electronics Marks\",StringType(),True), \\\n",
        "    StructField(\"Computer Science\",StringType(),True)   \n",
        "  ])\n",
        " \n",
        "df2 = spark.createDataFrame(data=data2,schema=schema2)\n",
        "df2.printSchema()\n",
        "df2.show(truncate=False)"
      ],
      "metadata": {
        "colab": {
          "base_uri": "https://localhost:8080/"
        },
        "id": "zM-SYDpusE9w",
        "outputId": "c6b05ad8-f99c-4a7c-a120-02160ee6d9cf"
      },
      "execution_count": 12,
      "outputs": [
        {
          "output_type": "stream",
          "name": "stdout",
          "text": [
            "root\n",
            " |-- id: string (nullable = true)\n",
            " |-- CourseName: string (nullable = true)\n",
            " |-- Maths Marks: string (nullable = true)\n",
            " |-- Electronics Marks: string (nullable = true)\n",
            " |-- Computer Science: string (nullable = true)\n",
            "\n",
            "+-----+----------+-----------+-----------------+----------------+\n",
            "|id   |CourseName|Maths Marks|Electronics Marks|Computer Science|\n",
            "+-----+----------+-----------+-----------------+----------------+\n",
            "|36636|Plus-Two  |77         |88               |76              |\n",
            "|40288|Plus-Two  |77         |88               |76              |\n",
            "|42114|Plus-Two  |77         |88               |76              |\n",
            "|39192|Plus-One  |77         |88               |76              |\n",
            "|36636|Plus-One  |89         |81               |71              |\n",
            "|10000|BTech     |89         |81               |71              |\n",
            "+-----+----------+-----------+-----------------+----------------+\n",
            "\n"
          ]
        }
      ]
    },
    {
      "cell_type": "markdown",
      "source": [
        "#InnerJoin\n",
        "\n",
        "InnerJoin with the column resulting in the common records matching in both dataframe\n",
        "\n",
        "![image.png](data:image/png;base64,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)"
      ],
      "metadata": {
        "id": "s1GvEwZPMeIB"
      }
    },
    {
      "cell_type": "code",
      "source": [
        "df1.join(df2,df1.id ==  df2.id,\"inner\").show(truncate=False)"
      ],
      "metadata": {
        "id": "8jiquNdtATsI",
        "colab": {
          "base_uri": "https://localhost:8080/"
        },
        "outputId": "28f05b05-9e17-4db9-d780-e698d73645ac"
      },
      "execution_count": null,
      "outputs": [
        {
          "output_type": "stream",
          "name": "stdout",
          "text": [
            "+---------+----------+--------+-----+------+-----+----------+-----------+-----------------+----------------+\n",
            "|firstname|middlename|lastname|id   |gender|id   |CourseName|Maths Marks|Electronics Marks|Computer Science|\n",
            "+---------+----------+--------+-----+------+-----+----------+-----------+-----------------+----------------+\n",
            "|James    |          |Smith   |36636|M     |36636|Plus-Two  |77         |88               |76              |\n",
            "|James    |          |Smith   |36636|M     |36636|Plus-One  |89         |81               |71              |\n",
            "|Maria    |Anne      |Jones   |39192|F     |39192|Plus-One  |77         |88               |76              |\n",
            "|Michael  |Rose      |        |40288|M     |40288|Plus-Two  |77         |88               |76              |\n",
            "|Robert   |          |Williams|42114|M     |42114|Plus-Two  |77         |88               |76              |\n",
            "+---------+----------+--------+-----+------+-----+----------+-----------+-----------------+----------------+\n",
            "\n"
          ]
        }
      ]
    },
    {
      "cell_type": "markdown",
      "source": [
        "#Left Join\n",
        "\n",
        " The LEFT JOIN returns all rows from the left dataframe and the matching rows from the right dataframe. If no matching rows are found in the right, null are used.\n",
        "\n",
        " ![image.png](data:image/png;base64,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)"
      ],
      "metadata": {
        "id": "nVmaLx_1QHFf"
      }
    },
    {
      "cell_type": "code",
      "source": [
        "df1.join(df2,df1.id ==  df2.id,\"left\").show(truncate=False)"
      ],
      "metadata": {
        "colab": {
          "base_uri": "https://localhost:8080/"
        },
        "id": "PCCvIC4rMpgH",
        "outputId": "56f70228-84a0-4d64-c4b0-4696522a7468"
      },
      "execution_count": 15,
      "outputs": [
        {
          "output_type": "stream",
          "name": "stdout",
          "text": [
            "+---------+----------+--------+-----+------+-----+----------+-----------+-----------------+----------------+\n",
            "|firstname|middlename|lastname|id   |gender|id   |CourseName|Maths Marks|Electronics Marks|Computer Science|\n",
            "+---------+----------+--------+-----+------+-----+----------+-----------+-----------------+----------------+\n",
            "|James    |          |Smith   |36636|M     |36636|Plus-Two  |77         |88               |76              |\n",
            "|James    |          |Smith   |36636|M     |36636|Plus-One  |89         |81               |71              |\n",
            "|Maria    |Anne      |Jones   |39192|F     |39192|Plus-One  |77         |88               |76              |\n",
            "|Michael  |Rose      |        |40288|M     |40288|Plus-Two  |77         |88               |76              |\n",
            "|Robert   |          |Williams|42114|M     |42114|Plus-Two  |77         |88               |76              |\n",
            "|X-Unknown|Y-Unknown |        |X1000|F     |null |null      |null       |null             |null            |\n",
            "+---------+----------+--------+-----+------+-----+----------+-----------+-----------------+----------------+\n",
            "\n"
          ]
        }
      ]
    },
    {
      "cell_type": "markdown",
      "source": [
        "#Right Join\n",
        "The RIGHT JOIN returns all rows from the right dataframe and the matching rows from the left dataframe. If no matching rows are found in the left, null are used.\n",
        "\n",
        "![image.png](data:image/png;base64,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)"
      ],
      "metadata": {
        "id": "ZvnN04lsRGhf"
      }
    },
    {
      "cell_type": "code",
      "source": [
        "df1.join(df2,df1.id ==  df2.id,\"right\").show(truncate=False)"
      ],
      "metadata": {
        "colab": {
          "base_uri": "https://localhost:8080/"
        },
        "id": "JSBj8dxQMwhH",
        "outputId": "187990e4-4997-4411-bf34-c4bbf4a86fbf"
      },
      "execution_count": 16,
      "outputs": [
        {
          "output_type": "stream",
          "name": "stdout",
          "text": [
            "+---------+----------+--------+-----+------+-----+----------+-----------+-----------------+----------------+\n",
            "|firstname|middlename|lastname|id   |gender|id   |CourseName|Maths Marks|Electronics Marks|Computer Science|\n",
            "+---------+----------+--------+-----+------+-----+----------+-----------+-----------------+----------------+\n",
            "|null     |null      |null    |null |null  |10000|BTech     |89         |81               |71              |\n",
            "|James    |          |Smith   |36636|M     |36636|Plus-Two  |77         |88               |76              |\n",
            "|James    |          |Smith   |36636|M     |36636|Plus-One  |89         |81               |71              |\n",
            "|Maria    |Anne      |Jones   |39192|F     |39192|Plus-One  |77         |88               |76              |\n",
            "|Michael  |Rose      |        |40288|M     |40288|Plus-Two  |77         |88               |76              |\n",
            "|Robert   |          |Williams|42114|M     |42114|Plus-Two  |77         |88               |76              |\n",
            "+---------+----------+--------+-----+------+-----+----------+-----------+-----------------+----------------+\n",
            "\n"
          ]
        }
      ]
    },
    {
      "cell_type": "markdown",
      "source": [
        "#OUTER\n",
        "\n",
        "In an outer join, unmatched rows in one or both tables can be returned.\n",
        "\n",
        "![image.png](data:image/png;base64,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)"
      ],
      "metadata": {
        "id": "gjTKc0vQRmO5"
      }
    },
    {
      "cell_type": "code",
      "source": [
        "df1.join(df2,df1.id ==  df2.id,\"outer\").show(truncate=False)"
      ],
      "metadata": {
        "id": "wdn1Ucs4_g9M",
        "colab": {
          "base_uri": "https://localhost:8080/"
        },
        "outputId": "3acb401f-83ad-4431-fa7b-4ba5465a67d7"
      },
      "execution_count": 17,
      "outputs": [
        {
          "output_type": "stream",
          "name": "stdout",
          "text": [
            "+---------+----------+--------+-----+------+-----+----------+-----------+-----------------+----------------+\n",
            "|firstname|middlename|lastname|id   |gender|id   |CourseName|Maths Marks|Electronics Marks|Computer Science|\n",
            "+---------+----------+--------+-----+------+-----+----------+-----------+-----------------+----------------+\n",
            "|null     |null      |null    |null |null  |10000|BTech     |89         |81               |71              |\n",
            "|James    |          |Smith   |36636|M     |36636|Plus-Two  |77         |88               |76              |\n",
            "|James    |          |Smith   |36636|M     |36636|Plus-One  |89         |81               |71              |\n",
            "|Maria    |Anne      |Jones   |39192|F     |39192|Plus-One  |77         |88               |76              |\n",
            "|Michael  |Rose      |        |40288|M     |40288|Plus-Two  |77         |88               |76              |\n",
            "|Robert   |          |Williams|42114|M     |42114|Plus-Two  |77         |88               |76              |\n",
            "|X-Unknown|Y-Unknown |        |X1000|F     |null |null      |null       |null             |null            |\n",
            "+---------+----------+--------+-----+------+-----+----------+-----------+-----------------+----------------+\n",
            "\n"
          ]
        }
      ]
    },
    {
      "cell_type": "markdown",
      "source": [
        "#unionByName \n",
        " built-in option available in spark which is available from spark 2.3.0.\n",
        "\n",
        "with spark version 3.1.0, there is **allowMissingColumns** option with the default value set to False to handle missing columns. Even if both dataframes don't have the same set of columns, this function will work, setting missing column values to null in the resulting dataframe."
      ],
      "metadata": {
        "id": "JHyd_iGQL9Zv"
      }
    },
    {
      "cell_type": "code",
      "source": [
        "df1.unionByName(df2, allowMissingColumns=True).show()"
      ],
      "metadata": {
        "colab": {
          "base_uri": "https://localhost:8080/"
        },
        "id": "IjoRyqU5t2xf",
        "outputId": "fb6f3533-12b7-4e75-ee1c-81f51cac4860"
      },
      "execution_count": 13,
      "outputs": [
        {
          "output_type": "stream",
          "name": "stdout",
          "text": [
            "+---------+----------+--------+-----+------+----------+-----------+-----------------+----------------+\n",
            "|firstname|middlename|lastname|   id|gender|CourseName|Maths Marks|Electronics Marks|Computer Science|\n",
            "+---------+----------+--------+-----+------+----------+-----------+-----------------+----------------+\n",
            "|    James|          |   Smith|36636|     M|      null|       null|             null|            null|\n",
            "|  Michael|      Rose|        |40288|     M|      null|       null|             null|            null|\n",
            "|   Robert|          |Williams|42114|     M|      null|       null|             null|            null|\n",
            "|    Maria|      Anne|   Jones|39192|     F|      null|       null|             null|            null|\n",
            "|X-Unknown| Y-Unknown|        |X1000|     F|      null|       null|             null|            null|\n",
            "|     null|      null|    null|36636|  null|  Plus-Two|         77|               88|              76|\n",
            "|     null|      null|    null|40288|  null|  Plus-Two|         77|               88|              76|\n",
            "|     null|      null|    null|42114|  null|  Plus-Two|         77|               88|              76|\n",
            "|     null|      null|    null|39192|  null|  Plus-One|         77|               88|              76|\n",
            "|     null|      null|    null|36636|  null|  Plus-One|         89|               81|              71|\n",
            "|     null|      null|    null|10000|  null|     BTech|         89|               81|              71|\n",
            "+---------+----------+--------+-----+------+----------+-----------+-----------------+----------------+\n",
            "\n"
          ]
        }
      ]
    },
    {
      "cell_type": "markdown",
      "source": [
        "#union \n",
        "\n"
      ],
      "metadata": {
        "id": "knFm6T7dS8wT"
      }
    },
    {
      "cell_type": "code",
      "source": [
        "df1.union(df1).show()"
      ],
      "metadata": {
        "colab": {
          "base_uri": "https://localhost:8080/"
        },
        "id": "TMHsMz1MStGH",
        "outputId": "653881b9-9ba7-4163-ddce-5f32cfdf88c9"
      },
      "execution_count": 19,
      "outputs": [
        {
          "output_type": "stream",
          "name": "stdout",
          "text": [
            "+---------+----------+--------+-----+------+\n",
            "|firstname|middlename|lastname|   id|gender|\n",
            "+---------+----------+--------+-----+------+\n",
            "|    James|          |   Smith|36636|     M|\n",
            "|  Michael|      Rose|        |40288|     M|\n",
            "|   Robert|          |Williams|42114|     M|\n",
            "|    Maria|      Anne|   Jones|39192|     F|\n",
            "|X-Unknown| Y-Unknown|        |X1000|     F|\n",
            "|    James|          |   Smith|36636|     M|\n",
            "|  Michael|      Rose|        |40288|     M|\n",
            "|   Robert|          |Williams|42114|     M|\n",
            "|    Maria|      Anne|   Jones|39192|     F|\n",
            "|X-Unknown| Y-Unknown|        |X1000|     F|\n",
            "+---------+----------+--------+-----+------+\n",
            "\n"
          ]
        }
      ]
    },
    {
      "cell_type": "markdown",
      "source": [
        "Another Join - combining all columns of both dataframes and substituing F.lit(none) for null values in another dataframe"
      ],
      "metadata": {
        "id": "oyv-OEOjMSZw"
      }
    },
    {
      "cell_type": "code",
      "source": [
        "from pyspark.sql import functions as F\n",
        "def appendDataFrames(df1,df2):\n",
        "    list1 = df1.columns\n",
        "    list2 = df2.columns\n",
        "    for col in list2:\n",
        "        if(col not in list1):\n",
        "            df1 = df1.withColumn(col, F.lit(None))\n",
        "    for col in list1:\n",
        "        if(col not in list2):\n",
        "            df2 = df2.withColumn(col, F.lit(None))\n",
        "    return df1.unionByName(df2)\n",
        "\n",
        "df3=appendDataFrames(df1,df2)\n",
        "df3.show()"
      ],
      "metadata": {
        "colab": {
          "base_uri": "https://localhost:8080/"
        },
        "id": "lWvhXDCAvIFF",
        "outputId": "3e7caac4-f92d-4792-f044-2dae557a9ebb"
      },
      "execution_count": 14,
      "outputs": [
        {
          "output_type": "stream",
          "name": "stdout",
          "text": [
            "+---------+----------+--------+-----+------+----------+-----------+-----------------+----------------+\n",
            "|firstname|middlename|lastname|   id|gender|CourseName|Maths Marks|Electronics Marks|Computer Science|\n",
            "+---------+----------+--------+-----+------+----------+-----------+-----------------+----------------+\n",
            "|    James|          |   Smith|36636|     M|      null|       null|             null|            null|\n",
            "|  Michael|      Rose|        |40288|     M|      null|       null|             null|            null|\n",
            "|   Robert|          |Williams|42114|     M|      null|       null|             null|            null|\n",
            "|    Maria|      Anne|   Jones|39192|     F|      null|       null|             null|            null|\n",
            "|X-Unknown| Y-Unknown|        |X1000|     F|      null|       null|             null|            null|\n",
            "|     null|      null|    null|36636|  null|  Plus-Two|         77|               88|              76|\n",
            "|     null|      null|    null|40288|  null|  Plus-Two|         77|               88|              76|\n",
            "|     null|      null|    null|42114|  null|  Plus-Two|         77|               88|              76|\n",
            "|     null|      null|    null|39192|  null|  Plus-One|         77|               88|              76|\n",
            "|     null|      null|    null|36636|  null|  Plus-One|         89|               81|              71|\n",
            "|     null|      null|    null|10000|  null|     BTech|         89|               81|              71|\n",
            "+---------+----------+--------+-----+------+----------+-----------+-----------------+----------------+\n",
            "\n"
          ]
        }
      ]
    }
  ]
}