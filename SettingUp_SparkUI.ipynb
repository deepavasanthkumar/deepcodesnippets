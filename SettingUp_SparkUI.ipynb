{
  "nbformat": 4,
  "nbformat_minor": 0,
  "metadata": {
    "colab": {
      "name": "SettingUp_SparkUI.ipynb",
      "provenance": [],
      "authorship_tag": "ABX9TyN8vKJohLs4Exsmw/hpe9Ru",
      "include_colab_link": true
    },
    "kernelspec": {
      "name": "python3",
      "display_name": "Python 3"
    },
    "language_info": {
      "name": "python"
    }
  },
  "cells": [
    {
      "cell_type": "markdown",
      "metadata": {
        "id": "view-in-github",
        "colab_type": "text"
      },
      "source": [
        "<a href=\"https://colab.research.google.com/github/deepavasanthkumar/deepcodesnippets/blob/master/SettingUp_SparkUI.ipynb\" target=\"_parent\"><img src=\"https://colab.research.google.com/assets/colab-badge.svg\" alt=\"Open In Colab\"/></a>"
      ]
    },
    {
      "cell_type": "markdown",
      "source": [
        "#Colab to setup SparkUI \n",
        "\n",
        "This uses ngrok and please execute the code in the correct order"
      ],
      "metadata": {
        "id": "ajPmORsVqAxg"
      }
    },
    {
      "cell_type": "code",
      "execution_count": 3,
      "metadata": {
        "colab": {
          "base_uri": "https://localhost:8080/"
        },
        "id": "GMVSSQByiW8N",
        "outputId": "aba6b55b-c55c-4eef-9cd8-1694487844da"
      },
      "outputs": [
        {
          "output_type": "stream",
          "name": "stdout",
          "text": [
            "Collecting pyspark\n",
            "  Downloading pyspark-3.2.0.tar.gz (281.3 MB)\n",
            "\u001b[K     |████████████████████████████████| 281.3 MB 41 kB/s \n",
            "\u001b[?25hCollecting py4j==0.10.9.2\n",
            "  Downloading py4j-0.10.9.2-py2.py3-none-any.whl (198 kB)\n",
            "\u001b[K     |████████████████████████████████| 198 kB 56.0 MB/s \n",
            "\u001b[?25hBuilding wheels for collected packages: pyspark\n",
            "  Building wheel for pyspark (setup.py) ... \u001b[?25l\u001b[?25hdone\n",
            "  Created wheel for pyspark: filename=pyspark-3.2.0-py2.py3-none-any.whl size=281805912 sha256=32c50da8d22e118b6a5d1dfb153c0dd3c8c0496beefd6f5571df2c07255b9f32\n",
            "  Stored in directory: /root/.cache/pip/wheels/0b/de/d2/9be5d59d7331c6c2a7c1b6d1a4f463ce107332b1ecd4e80718\n",
            "Successfully built pyspark\n",
            "Installing collected packages: py4j, pyspark\n",
            "Successfully installed py4j-0.10.9.2 pyspark-3.2.0\n",
            "The following additional packages will be installed:\n",
            "  openjdk-8-jre-headless\n",
            "Suggested packages:\n",
            "  openjdk-8-demo openjdk-8-source libnss-mdns fonts-dejavu-extra\n",
            "  fonts-ipafont-gothic fonts-ipafont-mincho fonts-wqy-microhei\n",
            "  fonts-wqy-zenhei fonts-indic\n",
            "The following NEW packages will be installed:\n",
            "  openjdk-8-jdk-headless openjdk-8-jre-headless\n",
            "0 upgraded, 2 newly installed, 0 to remove and 37 not upgraded.\n",
            "Need to get 36.5 MB of archives.\n",
            "After this operation, 143 MB of additional disk space will be used.\n",
            "Selecting previously unselected package openjdk-8-jre-headless:amd64.\n",
            "(Reading database ... 155229 files and directories currently installed.)\n",
            "Preparing to unpack .../openjdk-8-jre-headless_8u312-b07-0ubuntu1~18.04_amd64.deb ...\n",
            "Unpacking openjdk-8-jre-headless:amd64 (8u312-b07-0ubuntu1~18.04) ...\n",
            "Selecting previously unselected package openjdk-8-jdk-headless:amd64.\n",
            "Preparing to unpack .../openjdk-8-jdk-headless_8u312-b07-0ubuntu1~18.04_amd64.deb ...\n",
            "Unpacking openjdk-8-jdk-headless:amd64 (8u312-b07-0ubuntu1~18.04) ...\n",
            "Setting up openjdk-8-jre-headless:amd64 (8u312-b07-0ubuntu1~18.04) ...\n",
            "update-alternatives: using /usr/lib/jvm/java-8-openjdk-amd64/jre/bin/orbd to provide /usr/bin/orbd (orbd) in auto mode\n",
            "update-alternatives: using /usr/lib/jvm/java-8-openjdk-amd64/jre/bin/servertool to provide /usr/bin/servertool (servertool) in auto mode\n",
            "update-alternatives: using /usr/lib/jvm/java-8-openjdk-amd64/jre/bin/tnameserv to provide /usr/bin/tnameserv (tnameserv) in auto mode\n",
            "Setting up openjdk-8-jdk-headless:amd64 (8u312-b07-0ubuntu1~18.04) ...\n",
            "update-alternatives: using /usr/lib/jvm/java-8-openjdk-amd64/bin/idlj to provide /usr/bin/idlj (idlj) in auto mode\n",
            "update-alternatives: using /usr/lib/jvm/java-8-openjdk-amd64/bin/wsimport to provide /usr/bin/wsimport (wsimport) in auto mode\n",
            "update-alternatives: using /usr/lib/jvm/java-8-openjdk-amd64/bin/jsadebugd to provide /usr/bin/jsadebugd (jsadebugd) in auto mode\n",
            "update-alternatives: using /usr/lib/jvm/java-8-openjdk-amd64/bin/native2ascii to provide /usr/bin/native2ascii (native2ascii) in auto mode\n",
            "update-alternatives: using /usr/lib/jvm/java-8-openjdk-amd64/bin/javah to provide /usr/bin/javah (javah) in auto mode\n",
            "update-alternatives: using /usr/lib/jvm/java-8-openjdk-amd64/bin/hsdb to provide /usr/bin/hsdb (hsdb) in auto mode\n",
            "update-alternatives: using /usr/lib/jvm/java-8-openjdk-amd64/bin/clhsdb to provide /usr/bin/clhsdb (clhsdb) in auto mode\n",
            "update-alternatives: using /usr/lib/jvm/java-8-openjdk-amd64/bin/xjc to provide /usr/bin/xjc (xjc) in auto mode\n",
            "update-alternatives: using /usr/lib/jvm/java-8-openjdk-amd64/bin/schemagen to provide /usr/bin/schemagen (schemagen) in auto mode\n",
            "update-alternatives: using /usr/lib/jvm/java-8-openjdk-amd64/bin/extcheck to provide /usr/bin/extcheck (extcheck) in auto mode\n",
            "update-alternatives: using /usr/lib/jvm/java-8-openjdk-amd64/bin/jhat to provide /usr/bin/jhat (jhat) in auto mode\n",
            "update-alternatives: using /usr/lib/jvm/java-8-openjdk-amd64/bin/wsgen to provide /usr/bin/wsgen (wsgen) in auto mode\n"
          ]
        }
      ],
      "source": [
        "!pip install pyspark\n",
        "!pip install -U -q PyDrive\n",
        "!apt install openjdk-8-jdk-headless -qq\n",
        "import os\n",
        "os.environ[\"JAVA_HOME\"] = \"/usr/lib/jvm/java-8-openjdk-amd64\""
      ]
    },
    {
      "cell_type": "code",
      "source": [
        "# create the session\n",
        "import pyspark\n",
        "from pyspark.sql import SparkSession\n",
        "  \n",
        "spark = SparkSession.builder.appName(\"DataFrame\").config('spark.ui.port', '4050').getOrCreate()"
      ],
      "metadata": {
        "id": "wJ_aVnPdiegf"
      },
      "execution_count": 2,
      "outputs": []
    },
    {
      "cell_type": "code",
      "source": [
        "spark"
      ],
      "metadata": {
        "colab": {
          "base_uri": "https://localhost:8080/",
          "height": 219
        },
        "id": "XAR7TI14ifdg",
        "outputId": "74de7708-12e2-42ff-9ea0-54fd55caed05"
      },
      "execution_count": 3,
      "outputs": [
        {
          "output_type": "execute_result",
          "data": {
            "text/html": [
              "\n",
              "            <div>\n",
              "                <p><b>SparkSession - in-memory</b></p>\n",
              "                \n",
              "        <div>\n",
              "            <p><b>SparkContext</b></p>\n",
              "\n",
              "            <p><a href=\"http://aa8ba23c0554:4050\">Spark UI</a></p>\n",
              "\n",
              "            <dl>\n",
              "              <dt>Version</dt>\n",
              "                <dd><code>v3.2.0</code></dd>\n",
              "              <dt>Master</dt>\n",
              "                <dd><code>local[*]</code></dd>\n",
              "              <dt>AppName</dt>\n",
              "                <dd><code>DataFrame</code></dd>\n",
              "            </dl>\n",
              "        </div>\n",
              "        \n",
              "            </div>\n",
              "        "
            ],
            "text/plain": [
              "<pyspark.sql.session.SparkSession at 0x7f4389662050>"
            ]
          },
          "metadata": {},
          "execution_count": 3
        }
      ]
    },
    {
      "cell_type": "markdown",
      "source": [
        "**ngrok** is a cross-platform application that enables developers to expose a local development server to the Internet with minimal effort. The software makes your locally-hosted web server appear to be hosted on a subdomain of ngrok.com, meaning that no public IP or domain name on the local machine is needed.\n"
      ],
      "metadata": {
        "id": "NpNp0xhjp5im"
      }
    },
    {
      "cell_type": "code",
      "source": [
        "\n",
        "!wget https://bin.equinox.io/c/4VmDzA7iaHb/ngrok-stable-linux-amd64.zip\n",
        "!unzip ngrok-stable-linux-amd64.zip\n",
        "get_ipython().system_raw('!./ngrok http 4050 &')\n",
        "!curl -s http://localhost:4040/api/tunnels | python3 -c   \"import sys, json; print(json.load(sys.stdin)['tunnels'][0]['public_url'])\""
      ],
      "metadata": {
        "colab": {
          "base_uri": "https://localhost:8080/"
        },
        "id": "KhgsX72VimVp",
        "outputId": "d644bdba-c642-4961-d84e-2540cd68ced4"
      },
      "execution_count": 17,
      "outputs": [
        {
          "output_type": "stream",
          "name": "stdout",
          "text": [
            "Archive:  ngrok-stable-linux-amd64.zip\n",
            "replace ngrok? [y]es, [n]o, [A]ll, [N]one, [r]ename: y\n",
            "  inflating: ngrok                   \n",
            "https://3448-35-230-168-41.ngrok.io\n"
          ]
        }
      ]
    },
    {
      "cell_type": "markdown",
      "source": [
        "#In this, the **public_url** corresponds to the Spark UI "
      ],
      "metadata": {
        "id": "hg4mec3qrYD8"
      }
    },
    {
      "cell_type": "markdown",
      "source": [
        "Setup ngrok if not done already"
      ],
      "metadata": {
        "id": "5sv1La0crPvs"
      }
    },
    {
      "cell_type": "code",
      "source": [
        "!./ngrok authtoken <AuthCode>"
      ],
      "metadata": {
        "colab": {
          "base_uri": "https://localhost:8080/"
        },
        "id": "jwHZB_jtHJfa",
        "outputId": "4872e462-724d-400a-8fa5-3a1a09f2b620"
      },
      "execution_count": 7,
      "outputs": [
        {
          "output_type": "stream",
          "name": "stdout",
          "text": [
            "Authtoken saved to configuration file: /root/.ngrok2/ngrok.yml\n"
          ]
        }
      ]
    },
    {
      "cell_type": "code",
      "source": [
        "!./ngrok start --all --authtoken \"Authcode\""
      ],
      "metadata": {
        "colab": {
          "base_uri": "https://localhost:8080/"
        },
        "id": "Kksp14i5HR3r",
        "outputId": "945e2d23-2528-467b-c079-c8453a24b198"
      },
      "execution_count": 11,
      "outputs": [
        {
          "output_type": "stream",
          "name": "stdout",
          "text": [
            "NAME:\n",
            "   start - start tunnels by name from the configuration file\n",
            "\n",
            "USAGE:\n",
            "   ngrok start [command options] [arguments...]\n",
            "\n",
            "DESCRIPTION:\n",
            "   Starts tunnels by name from the configuration file. You may specify any\n",
            "   number of tunnel names. You may start all tunnels in the configuration\n",
            "   file with the --all switch.\n",
            "\n",
            "EXAMPLES:\n",
            "   ngrok start dev        # start tunnel named 'dev' in the configuration file\n",
            "   ngrok start web blog   # start tunnels named 'web' and 'blog'\n",
            "   ngrok start --all      # start all tunnels defined in the config file\n",
            "\n",
            "OPTIONS:\n",
            "   --all\t\tstart all tunnels in the configuration file\n",
            "   --authtoken \t\tngrok.com authtoken identifying a user\n",
            "   --config\t\tpath to config files; they are merged if multiple\n",
            "   --log \"false\"\tpath to log file, 'stdout', 'stderr' or 'false'\n",
            "   --log-format \"term\"\tlog record format: 'term', 'logfmt', 'json'\n",
            "   --log-level \"info\"\tlogging level\n",
            "   --none\t\tstart running no tunnels\n",
            "   --region \t\tngrok server region [us, eu, au, ap, sa, jp, in] (default: us)\n",
            "\n",
            "ERROR:  Your configuration file must define at least one tunnel when using --all. To intentionally start no tunnels, use `ngrok start --none.`\n"
          ]
        }
      ]
    },
    {
      "cell_type": "code",
      "source": [
        "from google.colab import files\n",
        "uploaded = files.upload()"
      ],
      "metadata": {
        "colab": {
          "resources": {
            "http://localhost:8080/nbextensions/google.colab/files.js": {
              "data": "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",
              "ok": true,
              "headers": [
                [
                  "content-type",
                  "application/javascript"
                ]
              ],
              "status": 200,
              "status_text": ""
            }
          },
          "base_uri": "https://localhost:8080/",
          "height": 55
        },
        "id": "6BmzVAR2oW2t",
        "outputId": "0f2aaf6b-2c0f-4ec2-d64f-cd147d6eff02"
      },
      "execution_count": 14,
      "outputs": [
        {
          "output_type": "display_data",
          "data": {
            "text/html": [
              "\n",
              "     <input type=\"file\" id=\"files-4fc2a066-9445-48b5-9a42-b70bd614c60f\" name=\"files[]\" multiple disabled\n",
              "        style=\"border:none\" />\n",
              "     <output id=\"result-4fc2a066-9445-48b5-9a42-b70bd614c60f\">\n",
              "      Upload widget is only available when the cell has been executed in the\n",
              "      current browser session. Please rerun this cell to enable.\n",
              "      </output>\n",
              "      <script src=\"/nbextensions/google.colab/files.js\"></script> "
            ],
            "text/plain": [
              "<IPython.core.display.HTML object>"
            ]
          },
          "metadata": {}
        },
        {
          "output_type": "stream",
          "name": "stdout",
          "text": [
            "Saving factbook.csv to factbook.csv\n"
          ]
        }
      ]
    },
    {
      "cell_type": "code",
      "source": [
        "from pyspark.sql.functions import broadcast\n",
        "from pyspark.sql import functions as F\n",
        "from pyspark.sql.functions import col\n",
        "\n",
        "citiesDF = spark.read.csv(\"factbook.csv\", inferSchema=True, header=True, sep = \";\")\n",
        "\n",
        "#citiesDF.printSchema()\n",
        "\n",
        "trxDF  = spark.read.csv(\"factbook.csv\", inferSchema=True, header=True, sep = \";\")\n",
        "trx1 = trxDF.select([F.col(c).alias(\"t_\"+c) for c in trxDF.columns]).withColumnRenamed(\"t_Country\",\"Country\")\n",
        "\n",
        "#trx1.printSchema()\n",
        "\n",
        "out = trx1.join(broadcast(citiesDF), \"Country\")\n",
        "out.write.partitionBy(\"Exports\").mode(\"overwrite\").parquet(\"tmp\")\n",
        "\n",
        "out.explain(mode=\"formatted\")"
      ],
      "metadata": {
        "colab": {
          "base_uri": "https://localhost:8080/"
        },
        "id": "6aqvxddIoUPH",
        "outputId": "36d5c7d7-0a71-406a-f23e-dbc3236b9c9c"
      },
      "execution_count": 15,
      "outputs": [
        {
          "output_type": "stream",
          "name": "stdout",
          "text": [
            "== Physical Plan ==\n",
            "AdaptiveSparkPlan (9)\n",
            "+- Project (8)\n",
            "   +- BroadcastHashJoin Inner BuildRight (7)\n",
            "      :- Project (3)\n",
            "      :  +- Filter (2)\n",
            "      :     +- Scan csv  (1)\n",
            "      +- BroadcastExchange (6)\n",
            "         +- Filter (5)\n",
            "            +- Scan csv  (4)\n",
            "\n",
            "\n",
            "(1) Scan csv \n",
            "Output [45]: [Country#122, Area#123, Birth_rate#124, Currentaccountbalance#125L, Deathrate#126, Debtexternal#127L, Electricityconsumption#128L, Electricityproduction#129L, Exports#130L, GDP#131L, GDPpercapita#132, GDPrealgrowthrate#133, HIVAIDSadultprevalencerate#134, HIVAIDSdeaths#135, HIVAIDSpeoplelivingwithHIVAIDS#136, Highways#137, Imports#138L, Industrialproductiongrowthrate#139, Infantmortalityrate#140, Inflationrate#141, Internethosts#142, Internetusers#143, Investment#144, Laborforce#145, Lifeexpectancyatbirth#146, Militaryexpendituresdollarfigure#147L, MilitaryexpenditurespercentofGDP#148, Naturalgasconsumption#149L, Naturalgasexports#150L, Naturalgasimports#151L, Naturalgasproduction#152L, Naturalgasprovedreserves#153L, Oil-consumption#154, Oil-exports#155, Oil-imports#156, Oil-production#157, Oil-provedreserves#158L, Population#159, Publicdebt#160, Railways#161, Reservesofforeignexchange#162L, Telephones-mainlinesinuse#163, Telephones-mobilecellular#164, Totalfertilityrate#165, Unemploymentrate#166]\n",
            "Batched: false\n",
            "Location: InMemoryFileIndex [file:/content/factbook.csv]\n",
            "PushedFilters: [IsNotNull(Country)]\n",
            "ReadSchema: struct<Country:string,Area:int,Birth_rate:double,Currentaccountbalance:bigint,Deathrate:double,Debtexternal:bigint,Electricityconsumption:bigint,Electricityproduction:bigint,Exports:bigint,GDP:bigint,GDPpercapita:int,GDPrealgrowthrate:double,HIVAIDSadultprevalencerate:double,HIVAIDSdeaths:int,HIVAIDSpeoplelivingwithHIVAIDS:int,Highways:int,Imports:bigint,Industrialproductiongrowthrate:double,Infantmortalityrate:double,Inflationrate:double,Internethosts:int,Internetusers:int,Investment:double,Laborforce:int,Lifeexpectancyatbirth:double,Militaryexpendituresdollarfigure:bigint,MilitaryexpenditurespercentofGDP:double,Naturalgasconsumption:bigint,Naturalgasexports:bigint,Naturalgasimports:bigint,Naturalgasproduction:bigint,Naturalgasprovedreserves:bigint,Oil-consumption:int,Oil-exports:int,Oil-imports:int,Oil-production:int,Oil-provedreserves:bigint,Population:int,Publicdebt:double,Railways:int,Reservesofforeignexchange:bigint,Telephones-mainlinesinuse:int,Telephones-mobilecellular:int,Totalfertilityrate:double,Unemploymentrate:double>\n",
            "\n",
            "(2) Filter\n",
            "Input [45]: [Country#122, Area#123, Birth_rate#124, Currentaccountbalance#125L, Deathrate#126, Debtexternal#127L, Electricityconsumption#128L, Electricityproduction#129L, Exports#130L, GDP#131L, GDPpercapita#132, GDPrealgrowthrate#133, HIVAIDSadultprevalencerate#134, HIVAIDSdeaths#135, HIVAIDSpeoplelivingwithHIVAIDS#136, Highways#137, Imports#138L, Industrialproductiongrowthrate#139, Infantmortalityrate#140, Inflationrate#141, Internethosts#142, Internetusers#143, Investment#144, Laborforce#145, Lifeexpectancyatbirth#146, Militaryexpendituresdollarfigure#147L, MilitaryexpenditurespercentofGDP#148, Naturalgasconsumption#149L, Naturalgasexports#150L, Naturalgasimports#151L, Naturalgasproduction#152L, Naturalgasprovedreserves#153L, Oil-consumption#154, Oil-exports#155, Oil-imports#156, Oil-production#157, Oil-provedreserves#158L, Population#159, Publicdebt#160, Railways#161, Reservesofforeignexchange#162L, Telephones-mainlinesinuse#163, Telephones-mobilecellular#164, Totalfertilityrate#165, Unemploymentrate#166]\n",
            "Condition : isnotnull(Country#122)\n",
            "\n",
            "(3) Project\n",
            "Output [45]: [Country#122, Area#123 AS t_Area#213, Birth_rate#124 AS t_Birth_rate#214, Currentaccountbalance#125L AS t_Currentaccountbalance#215L, Deathrate#126 AS t_Deathrate#216, Debtexternal#127L AS t_Debtexternal#217L, Electricityconsumption#128L AS t_Electricityconsumption#218L, Electricityproduction#129L AS t_Electricityproduction#219L, Exports#130L AS t_Exports#220L, GDP#131L AS t_GDP#221L, GDPpercapita#132 AS t_GDPpercapita#222, GDPrealgrowthrate#133 AS t_GDPrealgrowthrate#223, HIVAIDSadultprevalencerate#134 AS t_HIVAIDSadultprevalencerate#224, HIVAIDSdeaths#135 AS t_HIVAIDSdeaths#225, HIVAIDSpeoplelivingwithHIVAIDS#136 AS t_HIVAIDSpeoplelivingwithHIVAIDS#226, Highways#137 AS t_Highways#227, Imports#138L AS t_Imports#228L, Industrialproductiongrowthrate#139 AS t_Industrialproductiongrowthrate#229, Infantmortalityrate#140 AS t_Infantmortalityrate#230, Inflationrate#141 AS t_Inflationrate#231, Internethosts#142 AS t_Internethosts#232, Internetusers#143 AS t_Internetusers#233, Investment#144 AS t_Investment#234, Laborforce#145 AS t_Laborforce#235, Lifeexpectancyatbirth#146 AS t_Lifeexpectancyatbirth#236, Militaryexpendituresdollarfigure#147L AS t_Militaryexpendituresdollarfigure#237L, MilitaryexpenditurespercentofGDP#148 AS t_MilitaryexpenditurespercentofGDP#238, Naturalgasconsumption#149L AS t_Naturalgasconsumption#239L, Naturalgasexports#150L AS t_Naturalgasexports#240L, Naturalgasimports#151L AS t_Naturalgasimports#241L, Naturalgasproduction#152L AS t_Naturalgasproduction#242L, Naturalgasprovedreserves#153L AS t_Naturalgasprovedreserves#243L, Oil-consumption#154 AS t_Oil-consumption#244, Oil-exports#155 AS t_Oil-exports#245, Oil-imports#156 AS t_Oil-imports#246, Oil-production#157 AS t_Oil-production#247, Oil-provedreserves#158L AS t_Oil-provedreserves#248L, Population#159 AS t_Population#249, Publicdebt#160 AS t_Publicdebt#250, Railways#161 AS t_Railways#251, Reservesofforeignexchange#162L AS t_Reservesofforeignexchange#252L, Telephones-mainlinesinuse#163 AS t_Telephones-mainlinesinuse#253, Telephones-mobilecellular#164 AS t_Telephones-mobilecellular#254, Totalfertilityrate#165 AS t_Totalfertilityrate#255, Unemploymentrate#166 AS t_Unemploymentrate#256]\n",
            "Input [45]: [Country#122, Area#123, Birth_rate#124, Currentaccountbalance#125L, Deathrate#126, Debtexternal#127L, Electricityconsumption#128L, Electricityproduction#129L, Exports#130L, GDP#131L, GDPpercapita#132, GDPrealgrowthrate#133, HIVAIDSadultprevalencerate#134, HIVAIDSdeaths#135, HIVAIDSpeoplelivingwithHIVAIDS#136, Highways#137, Imports#138L, Industrialproductiongrowthrate#139, Infantmortalityrate#140, Inflationrate#141, Internethosts#142, Internetusers#143, Investment#144, Laborforce#145, Lifeexpectancyatbirth#146, Militaryexpendituresdollarfigure#147L, MilitaryexpenditurespercentofGDP#148, Naturalgasconsumption#149L, Naturalgasexports#150L, Naturalgasimports#151L, Naturalgasproduction#152L, Naturalgasprovedreserves#153L, Oil-consumption#154, Oil-exports#155, Oil-imports#156, Oil-production#157, Oil-provedreserves#158L, Population#159, Publicdebt#160, Railways#161, Reservesofforeignexchange#162L, Telephones-mainlinesinuse#163, Telephones-mobilecellular#164, Totalfertilityrate#165, Unemploymentrate#166]\n",
            "\n",
            "(4) Scan csv \n",
            "Output [45]: [Country#16, Area#17, Birth_rate#18, Currentaccountbalance#19L, Deathrate#20, Debtexternal#21L, Electricityconsumption#22L, Electricityproduction#23L, Exports#24L, GDP#25L, GDPpercapita#26, GDPrealgrowthrate#27, HIVAIDSadultprevalencerate#28, HIVAIDSdeaths#29, HIVAIDSpeoplelivingwithHIVAIDS#30, Highways#31, Imports#32L, Industrialproductiongrowthrate#33, Infantmortalityrate#34, Inflationrate#35, Internethosts#36, Internetusers#37, Investment#38, Laborforce#39, Lifeexpectancyatbirth#40, Militaryexpendituresdollarfigure#41L, MilitaryexpenditurespercentofGDP#42, Naturalgasconsumption#43L, Naturalgasexports#44L, Naturalgasimports#45L, Naturalgasproduction#46L, Naturalgasprovedreserves#47L, Oil-consumption#48, Oil-exports#49, Oil-imports#50, Oil-production#51, Oil-provedreserves#52L, Population#53, Publicdebt#54, Railways#55, Reservesofforeignexchange#56L, Telephones-mainlinesinuse#57, Telephones-mobilecellular#58, Totalfertilityrate#59, Unemploymentrate#60]\n",
            "Batched: false\n",
            "Location: InMemoryFileIndex [file:/content/factbook.csv]\n",
            "PushedFilters: [IsNotNull(Country)]\n",
            "ReadSchema: struct<Country:string,Area:int,Birth_rate:double,Currentaccountbalance:bigint,Deathrate:double,Debtexternal:bigint,Electricityconsumption:bigint,Electricityproduction:bigint,Exports:bigint,GDP:bigint,GDPpercapita:int,GDPrealgrowthrate:double,HIVAIDSadultprevalencerate:double,HIVAIDSdeaths:int,HIVAIDSpeoplelivingwithHIVAIDS:int,Highways:int,Imports:bigint,Industrialproductiongrowthrate:double,Infantmortalityrate:double,Inflationrate:double,Internethosts:int,Internetusers:int,Investment:double,Laborforce:int,Lifeexpectancyatbirth:double,Militaryexpendituresdollarfigure:bigint,MilitaryexpenditurespercentofGDP:double,Naturalgasconsumption:bigint,Naturalgasexports:bigint,Naturalgasimports:bigint,Naturalgasproduction:bigint,Naturalgasprovedreserves:bigint,Oil-consumption:int,Oil-exports:int,Oil-imports:int,Oil-production:int,Oil-provedreserves:bigint,Population:int,Publicdebt:double,Railways:int,Reservesofforeignexchange:bigint,Telephones-mainlinesinuse:int,Telephones-mobilecellular:int,Totalfertilityrate:double,Unemploymentrate:double>\n",
            "\n",
            "(5) Filter\n",
            "Input [45]: [Country#16, Area#17, Birth_rate#18, Currentaccountbalance#19L, Deathrate#20, Debtexternal#21L, Electricityconsumption#22L, Electricityproduction#23L, Exports#24L, GDP#25L, GDPpercapita#26, GDPrealgrowthrate#27, HIVAIDSadultprevalencerate#28, HIVAIDSdeaths#29, HIVAIDSpeoplelivingwithHIVAIDS#30, Highways#31, Imports#32L, Industrialproductiongrowthrate#33, Infantmortalityrate#34, Inflationrate#35, Internethosts#36, Internetusers#37, Investment#38, Laborforce#39, Lifeexpectancyatbirth#40, Militaryexpendituresdollarfigure#41L, MilitaryexpenditurespercentofGDP#42, Naturalgasconsumption#43L, Naturalgasexports#44L, Naturalgasimports#45L, Naturalgasproduction#46L, Naturalgasprovedreserves#47L, Oil-consumption#48, Oil-exports#49, Oil-imports#50, Oil-production#51, Oil-provedreserves#52L, Population#53, Publicdebt#54, Railways#55, Reservesofforeignexchange#56L, Telephones-mainlinesinuse#57, Telephones-mobilecellular#58, Totalfertilityrate#59, Unemploymentrate#60]\n",
            "Condition : isnotnull(Country#16)\n",
            "\n",
            "(6) BroadcastExchange\n",
            "Input [45]: [Country#16, Area#17, Birth_rate#18, Currentaccountbalance#19L, Deathrate#20, Debtexternal#21L, Electricityconsumption#22L, Electricityproduction#23L, Exports#24L, GDP#25L, GDPpercapita#26, GDPrealgrowthrate#27, HIVAIDSadultprevalencerate#28, HIVAIDSdeaths#29, HIVAIDSpeoplelivingwithHIVAIDS#30, Highways#31, Imports#32L, Industrialproductiongrowthrate#33, Infantmortalityrate#34, Inflationrate#35, Internethosts#36, Internetusers#37, Investment#38, Laborforce#39, Lifeexpectancyatbirth#40, Militaryexpendituresdollarfigure#41L, MilitaryexpenditurespercentofGDP#42, Naturalgasconsumption#43L, Naturalgasexports#44L, Naturalgasimports#45L, Naturalgasproduction#46L, Naturalgasprovedreserves#47L, Oil-consumption#48, Oil-exports#49, Oil-imports#50, Oil-production#51, Oil-provedreserves#52L, Population#53, Publicdebt#54, Railways#55, Reservesofforeignexchange#56L, Telephones-mainlinesinuse#57, Telephones-mobilecellular#58, Totalfertilityrate#59, Unemploymentrate#60]\n",
            "Arguments: HashedRelationBroadcastMode(List(input[0, string, false]),false), [id=#134]\n",
            "\n",
            "(7) BroadcastHashJoin\n",
            "Left keys [1]: [Country#122]\n",
            "Right keys [1]: [Country#16]\n",
            "Join condition: None\n",
            "\n",
            "(8) Project\n",
            "Output [89]: [Country#122, t_Area#213, t_Birth_rate#214, t_Currentaccountbalance#215L, t_Deathrate#216, t_Debtexternal#217L, t_Electricityconsumption#218L, t_Electricityproduction#219L, t_Exports#220L, t_GDP#221L, t_GDPpercapita#222, t_GDPrealgrowthrate#223, t_HIVAIDSadultprevalencerate#224, t_HIVAIDSdeaths#225, t_HIVAIDSpeoplelivingwithHIVAIDS#226, t_Highways#227, t_Imports#228L, t_Industrialproductiongrowthrate#229, t_Infantmortalityrate#230, t_Inflationrate#231, t_Internethosts#232, t_Internetusers#233, t_Investment#234, t_Laborforce#235, t_Lifeexpectancyatbirth#236, t_Militaryexpendituresdollarfigure#237L, t_MilitaryexpenditurespercentofGDP#238, t_Naturalgasconsumption#239L, t_Naturalgasexports#240L, t_Naturalgasimports#241L, t_Naturalgasproduction#242L, t_Naturalgasprovedreserves#243L, t_Oil-consumption#244, t_Oil-exports#245, t_Oil-imports#246, t_Oil-production#247, t_Oil-provedreserves#248L, t_Population#249, t_Publicdebt#250, t_Railways#251, t_Reservesofforeignexchange#252L, t_Telephones-mainlinesinuse#253, t_Telephones-mobilecellular#254, t_Totalfertilityrate#255, t_Unemploymentrate#256, Area#17, Birth_rate#18, Currentaccountbalance#19L, Deathrate#20, Debtexternal#21L, Electricityconsumption#22L, Electricityproduction#23L, Exports#24L, GDP#25L, GDPpercapita#26, GDPrealgrowthrate#27, HIVAIDSadultprevalencerate#28, HIVAIDSdeaths#29, HIVAIDSpeoplelivingwithHIVAIDS#30, Highways#31, Imports#32L, Industrialproductiongrowthrate#33, Infantmortalityrate#34, Inflationrate#35, Internethosts#36, Internetusers#37, Investment#38, Laborforce#39, Lifeexpectancyatbirth#40, Militaryexpendituresdollarfigure#41L, MilitaryexpenditurespercentofGDP#42, Naturalgasconsumption#43L, Naturalgasexports#44L, Naturalgasimports#45L, Naturalgasproduction#46L, Naturalgasprovedreserves#47L, Oil-consumption#48, Oil-exports#49, Oil-imports#50, Oil-production#51, Oil-provedreserves#52L, Population#53, Publicdebt#54, Railways#55, Reservesofforeignexchange#56L, Telephones-mainlinesinuse#57, Telephones-mobilecellular#58, Totalfertilityrate#59, Unemploymentrate#60]\n",
            "Input [90]: [Country#122, t_Area#213, t_Birth_rate#214, t_Currentaccountbalance#215L, t_Deathrate#216, t_Debtexternal#217L, t_Electricityconsumption#218L, t_Electricityproduction#219L, t_Exports#220L, t_GDP#221L, t_GDPpercapita#222, t_GDPrealgrowthrate#223, t_HIVAIDSadultprevalencerate#224, t_HIVAIDSdeaths#225, t_HIVAIDSpeoplelivingwithHIVAIDS#226, t_Highways#227, t_Imports#228L, t_Industrialproductiongrowthrate#229, t_Infantmortalityrate#230, t_Inflationrate#231, t_Internethosts#232, t_Internetusers#233, t_Investment#234, t_Laborforce#235, t_Lifeexpectancyatbirth#236, t_Militaryexpendituresdollarfigure#237L, t_MilitaryexpenditurespercentofGDP#238, t_Naturalgasconsumption#239L, t_Naturalgasexports#240L, t_Naturalgasimports#241L, t_Naturalgasproduction#242L, t_Naturalgasprovedreserves#243L, t_Oil-consumption#244, t_Oil-exports#245, t_Oil-imports#246, t_Oil-production#247, t_Oil-provedreserves#248L, t_Population#249, t_Publicdebt#250, t_Railways#251, t_Reservesofforeignexchange#252L, t_Telephones-mainlinesinuse#253, t_Telephones-mobilecellular#254, t_Totalfertilityrate#255, t_Unemploymentrate#256, Country#16, Area#17, Birth_rate#18, Currentaccountbalance#19L, Deathrate#20, Debtexternal#21L, Electricityconsumption#22L, Electricityproduction#23L, Exports#24L, GDP#25L, GDPpercapita#26, GDPrealgrowthrate#27, HIVAIDSadultprevalencerate#28, HIVAIDSdeaths#29, HIVAIDSpeoplelivingwithHIVAIDS#30, Highways#31, Imports#32L, Industrialproductiongrowthrate#33, Infantmortalityrate#34, Inflationrate#35, Internethosts#36, Internetusers#37, Investment#38, Laborforce#39, Lifeexpectancyatbirth#40, Militaryexpendituresdollarfigure#41L, MilitaryexpenditurespercentofGDP#42, Naturalgasconsumption#43L, Naturalgasexports#44L, Naturalgasimports#45L, Naturalgasproduction#46L, Naturalgasprovedreserves#47L, Oil-consumption#48, Oil-exports#49, Oil-imports#50, Oil-production#51, Oil-provedreserves#52L, Population#53, Publicdebt#54, Railways#55, Reservesofforeignexchange#56L, Telephones-mainlinesinuse#57, Telephones-mobilecellular#58, Totalfertilityrate#59, Unemploymentrate#60]\n",
            "\n",
            "(9) AdaptiveSparkPlan\n",
            "Output [89]: [Country#122, t_Area#213, t_Birth_rate#214, t_Currentaccountbalance#215L, t_Deathrate#216, t_Debtexternal#217L, t_Electricityconsumption#218L, t_Electricityproduction#219L, t_Exports#220L, t_GDP#221L, t_GDPpercapita#222, t_GDPrealgrowthrate#223, t_HIVAIDSadultprevalencerate#224, t_HIVAIDSdeaths#225, t_HIVAIDSpeoplelivingwithHIVAIDS#226, t_Highways#227, t_Imports#228L, t_Industrialproductiongrowthrate#229, t_Infantmortalityrate#230, t_Inflationrate#231, t_Internethosts#232, t_Internetusers#233, t_Investment#234, t_Laborforce#235, t_Lifeexpectancyatbirth#236, t_Militaryexpendituresdollarfigure#237L, t_MilitaryexpenditurespercentofGDP#238, t_Naturalgasconsumption#239L, t_Naturalgasexports#240L, t_Naturalgasimports#241L, t_Naturalgasproduction#242L, t_Naturalgasprovedreserves#243L, t_Oil-consumption#244, t_Oil-exports#245, t_Oil-imports#246, t_Oil-production#247, t_Oil-provedreserves#248L, t_Population#249, t_Publicdebt#250, t_Railways#251, t_Reservesofforeignexchange#252L, t_Telephones-mainlinesinuse#253, t_Telephones-mobilecellular#254, t_Totalfertilityrate#255, t_Unemploymentrate#256, Area#17, Birth_rate#18, Currentaccountbalance#19L, Deathrate#20, Debtexternal#21L, Electricityconsumption#22L, Electricityproduction#23L, Exports#24L, GDP#25L, GDPpercapita#26, GDPrealgrowthrate#27, HIVAIDSadultprevalencerate#28, HIVAIDSdeaths#29, HIVAIDSpeoplelivingwithHIVAIDS#30, Highways#31, Imports#32L, Industrialproductiongrowthrate#33, Infantmortalityrate#34, Inflationrate#35, Internethosts#36, Internetusers#37, Investment#38, Laborforce#39, Lifeexpectancyatbirth#40, Militaryexpendituresdollarfigure#41L, MilitaryexpenditurespercentofGDP#42, Naturalgasconsumption#43L, Naturalgasexports#44L, Naturalgasimports#45L, Naturalgasproduction#46L, Naturalgasprovedreserves#47L, Oil-consumption#48, Oil-exports#49, Oil-imports#50, Oil-production#51, Oil-provedreserves#52L, Population#53, Publicdebt#54, Railways#55, Reservesofforeignexchange#56L, Telephones-mainlinesinuse#57, Telephones-mobilecellular#58, Totalfertilityrate#59, Unemploymentrate#60]\n",
            "Arguments: isFinalPlan=false\n",
            "\n",
            "\n"
          ]
        }
      ]
    },
    {
      "cell_type": "code",
      "source": [
        "fruits = ['Apple', 'Banana', 'Mango', 'Orange','Avacado','Plum']\n",
        "fruits_rdd = spark.sparkContext.parallelize(fruits)\n",
        "fruits_rdd.map(lambda word: word.title()). \\\n",
        "groupBy(lambda title: title[0]). \\\n",
        "map(lambda group: (group[0], len(group[1]))).collect()"
      ],
      "metadata": {
        "id": "9v9ExgBtrhSr",
        "colab": {
          "base_uri": "https://localhost:8080/"
        },
        "outputId": "90f4317b-8f67-44df-9afc-eb12e584b925"
      },
      "execution_count": 20,
      "outputs": [
        {
          "output_type": "execute_result",
          "data": {
            "text/plain": [
              "[('O', 1), ('A', 2), ('B', 1), ('M', 1), ('P', 1)]"
            ]
          },
          "metadata": {},
          "execution_count": 20
        }
      ]
    },
    {
      "cell_type": "markdown",
      "source": [
        "#DAG\n",
        "\n",
        "![image.png](data:image/png;base64,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)"
      ],
      "metadata": {
        "id": "SNN_5dZaLykd"
      }
    }
  ]
}